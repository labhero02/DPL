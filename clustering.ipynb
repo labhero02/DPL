{
  "cells": [
    {
      "cell_type": "code",
      "execution_count": null,
      "metadata": {
        "id": "ElPm1y5S3art"
      },
      "outputs": [],
      "source": [
        "import pandas as pd\n",
        "import numpy as np\n",
        "\n",
        "from sklearn.preprocessing import LabelEncoder, MinMaxScaler\n",
        "from sklearn.cluster import KMeans\n",
        "\n",
        "import matplotlib.pyplot as plt"
      ]
    },
    {
      "cell_type": "code",
      "execution_count": null,
      "metadata": {
        "id": "VepzrppJ3arw",
        "outputId": "2de366c9-b104-4567-e2b7-0b52b3ea678d"
      },
      "outputs": [
        {
          "data": {
            "text/html": [
              "<div>\n",
              "<style scoped>\n",
              "    .dataframe tbody tr th:only-of-type {\n",
              "        vertical-align: middle;\n",
              "    }\n",
              "\n",
              "    .dataframe tbody tr th {\n",
              "        vertical-align: top;\n",
              "    }\n",
              "\n",
              "    .dataframe thead th {\n",
              "        text-align: right;\n",
              "    }\n",
              "</style>\n",
              "<table border=\"1\" class=\"dataframe\">\n",
              "  <thead>\n",
              "    <tr style=\"text-align: right;\">\n",
              "      <th></th>\n",
              "      <th>status_id</th>\n",
              "      <th>status_type</th>\n",
              "      <th>status_published</th>\n",
              "      <th>num_reactions</th>\n",
              "      <th>num_comments</th>\n",
              "      <th>num_shares</th>\n",
              "      <th>num_likes</th>\n",
              "      <th>num_loves</th>\n",
              "      <th>num_wows</th>\n",
              "      <th>num_hahas</th>\n",
              "      <th>num_sads</th>\n",
              "      <th>num_angrys</th>\n",
              "      <th>Column1</th>\n",
              "      <th>Column2</th>\n",
              "      <th>Column3</th>\n",
              "      <th>Column4</th>\n",
              "    </tr>\n",
              "  </thead>\n",
              "  <tbody>\n",
              "    <tr>\n",
              "      <th>0</th>\n",
              "      <td>246675545449582_1649696485147474</td>\n",
              "      <td>video</td>\n",
              "      <td>4/22/2018 6:00</td>\n",
              "      <td>529</td>\n",
              "      <td>512</td>\n",
              "      <td>262</td>\n",
              "      <td>432</td>\n",
              "      <td>92</td>\n",
              "      <td>3</td>\n",
              "      <td>1</td>\n",
              "      <td>1</td>\n",
              "      <td>0</td>\n",
              "      <td>NaN</td>\n",
              "      <td>NaN</td>\n",
              "      <td>NaN</td>\n",
              "      <td>NaN</td>\n",
              "    </tr>\n",
              "    <tr>\n",
              "      <th>1</th>\n",
              "      <td>246675545449582_1649426988507757</td>\n",
              "      <td>photo</td>\n",
              "      <td>4/21/2018 22:45</td>\n",
              "      <td>150</td>\n",
              "      <td>0</td>\n",
              "      <td>0</td>\n",
              "      <td>150</td>\n",
              "      <td>0</td>\n",
              "      <td>0</td>\n",
              "      <td>0</td>\n",
              "      <td>0</td>\n",
              "      <td>0</td>\n",
              "      <td>NaN</td>\n",
              "      <td>NaN</td>\n",
              "      <td>NaN</td>\n",
              "      <td>NaN</td>\n",
              "    </tr>\n",
              "    <tr>\n",
              "      <th>2</th>\n",
              "      <td>246675545449582_1648730588577397</td>\n",
              "      <td>video</td>\n",
              "      <td>4/21/2018 6:17</td>\n",
              "      <td>227</td>\n",
              "      <td>236</td>\n",
              "      <td>57</td>\n",
              "      <td>204</td>\n",
              "      <td>21</td>\n",
              "      <td>1</td>\n",
              "      <td>1</td>\n",
              "      <td>0</td>\n",
              "      <td>0</td>\n",
              "      <td>NaN</td>\n",
              "      <td>NaN</td>\n",
              "      <td>NaN</td>\n",
              "      <td>NaN</td>\n",
              "    </tr>\n",
              "    <tr>\n",
              "      <th>3</th>\n",
              "      <td>246675545449582_1648576705259452</td>\n",
              "      <td>photo</td>\n",
              "      <td>4/21/2018 2:29</td>\n",
              "      <td>111</td>\n",
              "      <td>0</td>\n",
              "      <td>0</td>\n",
              "      <td>111</td>\n",
              "      <td>0</td>\n",
              "      <td>0</td>\n",
              "      <td>0</td>\n",
              "      <td>0</td>\n",
              "      <td>0</td>\n",
              "      <td>NaN</td>\n",
              "      <td>NaN</td>\n",
              "      <td>NaN</td>\n",
              "      <td>NaN</td>\n",
              "    </tr>\n",
              "    <tr>\n",
              "      <th>4</th>\n",
              "      <td>246675545449582_1645700502213739</td>\n",
              "      <td>photo</td>\n",
              "      <td>4/18/2018 3:22</td>\n",
              "      <td>213</td>\n",
              "      <td>0</td>\n",
              "      <td>0</td>\n",
              "      <td>204</td>\n",
              "      <td>9</td>\n",
              "      <td>0</td>\n",
              "      <td>0</td>\n",
              "      <td>0</td>\n",
              "      <td>0</td>\n",
              "      <td>NaN</td>\n",
              "      <td>NaN</td>\n",
              "      <td>NaN</td>\n",
              "      <td>NaN</td>\n",
              "    </tr>\n",
              "  </tbody>\n",
              "</table>\n",
              "</div>"
            ],
            "text/plain": [
              "                          status_id status_type status_published  \\\n",
              "0  246675545449582_1649696485147474       video   4/22/2018 6:00   \n",
              "1  246675545449582_1649426988507757       photo  4/21/2018 22:45   \n",
              "2  246675545449582_1648730588577397       video   4/21/2018 6:17   \n",
              "3  246675545449582_1648576705259452       photo   4/21/2018 2:29   \n",
              "4  246675545449582_1645700502213739       photo   4/18/2018 3:22   \n",
              "\n",
              "   num_reactions  num_comments  num_shares  num_likes  num_loves  num_wows  \\\n",
              "0            529           512         262        432         92         3   \n",
              "1            150             0           0        150          0         0   \n",
              "2            227           236          57        204         21         1   \n",
              "3            111             0           0        111          0         0   \n",
              "4            213             0           0        204          9         0   \n",
              "\n",
              "   num_hahas  num_sads  num_angrys  Column1  Column2  Column3  Column4  \n",
              "0          1         1           0      NaN      NaN      NaN      NaN  \n",
              "1          0         0           0      NaN      NaN      NaN      NaN  \n",
              "2          1         0           0      NaN      NaN      NaN      NaN  \n",
              "3          0         0           0      NaN      NaN      NaN      NaN  \n",
              "4          0         0           0      NaN      NaN      NaN      NaN  "
            ]
          },
          "execution_count": 27,
          "metadata": {},
          "output_type": "execute_result"
        }
      ],
      "source": [
        "df = pd.read_csv(\"Live.csv\")\n",
        "df.head()"
      ]
    },
    {
      "cell_type": "code",
      "execution_count": null,
      "metadata": {
        "id": "BOITNoiC3ary",
        "outputId": "ccd31509-6e2b-46c5-9a46-bd39956fc22f"
      },
      "outputs": [
        {
          "data": {
            "text/html": [
              "<div>\n",
              "<style scoped>\n",
              "    .dataframe tbody tr th:only-of-type {\n",
              "        vertical-align: middle;\n",
              "    }\n",
              "\n",
              "    .dataframe tbody tr th {\n",
              "        vertical-align: top;\n",
              "    }\n",
              "\n",
              "    .dataframe thead th {\n",
              "        text-align: right;\n",
              "    }\n",
              "</style>\n",
              "<table border=\"1\" class=\"dataframe\">\n",
              "  <thead>\n",
              "    <tr style=\"text-align: right;\">\n",
              "      <th></th>\n",
              "      <th>count</th>\n",
              "      <th>mean</th>\n",
              "      <th>std</th>\n",
              "      <th>min</th>\n",
              "      <th>25%</th>\n",
              "      <th>50%</th>\n",
              "      <th>75%</th>\n",
              "      <th>max</th>\n",
              "    </tr>\n",
              "  </thead>\n",
              "  <tbody>\n",
              "    <tr>\n",
              "      <th>num_reactions</th>\n",
              "      <td>7050.0</td>\n",
              "      <td>230.117163</td>\n",
              "      <td>462.625309</td>\n",
              "      <td>0.0</td>\n",
              "      <td>17.0</td>\n",
              "      <td>59.5</td>\n",
              "      <td>219.00</td>\n",
              "      <td>4710.0</td>\n",
              "    </tr>\n",
              "    <tr>\n",
              "      <th>num_comments</th>\n",
              "      <td>7050.0</td>\n",
              "      <td>224.356028</td>\n",
              "      <td>889.636820</td>\n",
              "      <td>0.0</td>\n",
              "      <td>0.0</td>\n",
              "      <td>4.0</td>\n",
              "      <td>23.00</td>\n",
              "      <td>20990.0</td>\n",
              "    </tr>\n",
              "    <tr>\n",
              "      <th>num_shares</th>\n",
              "      <td>7050.0</td>\n",
              "      <td>40.022553</td>\n",
              "      <td>131.599965</td>\n",
              "      <td>0.0</td>\n",
              "      <td>0.0</td>\n",
              "      <td>0.0</td>\n",
              "      <td>4.00</td>\n",
              "      <td>3424.0</td>\n",
              "    </tr>\n",
              "    <tr>\n",
              "      <th>num_likes</th>\n",
              "      <td>7050.0</td>\n",
              "      <td>215.043121</td>\n",
              "      <td>449.472357</td>\n",
              "      <td>0.0</td>\n",
              "      <td>17.0</td>\n",
              "      <td>58.0</td>\n",
              "      <td>184.75</td>\n",
              "      <td>4710.0</td>\n",
              "    </tr>\n",
              "    <tr>\n",
              "      <th>num_loves</th>\n",
              "      <td>7050.0</td>\n",
              "      <td>12.728652</td>\n",
              "      <td>39.972930</td>\n",
              "      <td>0.0</td>\n",
              "      <td>0.0</td>\n",
              "      <td>0.0</td>\n",
              "      <td>3.00</td>\n",
              "      <td>657.0</td>\n",
              "    </tr>\n",
              "    <tr>\n",
              "      <th>num_wows</th>\n",
              "      <td>7050.0</td>\n",
              "      <td>1.289362</td>\n",
              "      <td>8.719650</td>\n",
              "      <td>0.0</td>\n",
              "      <td>0.0</td>\n",
              "      <td>0.0</td>\n",
              "      <td>0.00</td>\n",
              "      <td>278.0</td>\n",
              "    </tr>\n",
              "    <tr>\n",
              "      <th>num_hahas</th>\n",
              "      <td>7050.0</td>\n",
              "      <td>0.696454</td>\n",
              "      <td>3.957183</td>\n",
              "      <td>0.0</td>\n",
              "      <td>0.0</td>\n",
              "      <td>0.0</td>\n",
              "      <td>0.00</td>\n",
              "      <td>157.0</td>\n",
              "    </tr>\n",
              "    <tr>\n",
              "      <th>num_sads</th>\n",
              "      <td>7050.0</td>\n",
              "      <td>0.243688</td>\n",
              "      <td>1.597156</td>\n",
              "      <td>0.0</td>\n",
              "      <td>0.0</td>\n",
              "      <td>0.0</td>\n",
              "      <td>0.00</td>\n",
              "      <td>51.0</td>\n",
              "    </tr>\n",
              "    <tr>\n",
              "      <th>num_angrys</th>\n",
              "      <td>7050.0</td>\n",
              "      <td>0.113191</td>\n",
              "      <td>0.726812</td>\n",
              "      <td>0.0</td>\n",
              "      <td>0.0</td>\n",
              "      <td>0.0</td>\n",
              "      <td>0.00</td>\n",
              "      <td>31.0</td>\n",
              "    </tr>\n",
              "    <tr>\n",
              "      <th>Column1</th>\n",
              "      <td>0.0</td>\n",
              "      <td>NaN</td>\n",
              "      <td>NaN</td>\n",
              "      <td>NaN</td>\n",
              "      <td>NaN</td>\n",
              "      <td>NaN</td>\n",
              "      <td>NaN</td>\n",
              "      <td>NaN</td>\n",
              "    </tr>\n",
              "    <tr>\n",
              "      <th>Column2</th>\n",
              "      <td>0.0</td>\n",
              "      <td>NaN</td>\n",
              "      <td>NaN</td>\n",
              "      <td>NaN</td>\n",
              "      <td>NaN</td>\n",
              "      <td>NaN</td>\n",
              "      <td>NaN</td>\n",
              "      <td>NaN</td>\n",
              "    </tr>\n",
              "    <tr>\n",
              "      <th>Column3</th>\n",
              "      <td>0.0</td>\n",
              "      <td>NaN</td>\n",
              "      <td>NaN</td>\n",
              "      <td>NaN</td>\n",
              "      <td>NaN</td>\n",
              "      <td>NaN</td>\n",
              "      <td>NaN</td>\n",
              "      <td>NaN</td>\n",
              "    </tr>\n",
              "    <tr>\n",
              "      <th>Column4</th>\n",
              "      <td>0.0</td>\n",
              "      <td>NaN</td>\n",
              "      <td>NaN</td>\n",
              "      <td>NaN</td>\n",
              "      <td>NaN</td>\n",
              "      <td>NaN</td>\n",
              "      <td>NaN</td>\n",
              "      <td>NaN</td>\n",
              "    </tr>\n",
              "  </tbody>\n",
              "</table>\n",
              "</div>"
            ],
            "text/plain": [
              "                count        mean         std  min   25%   50%     75%  \\\n",
              "num_reactions  7050.0  230.117163  462.625309  0.0  17.0  59.5  219.00   \n",
              "num_comments   7050.0  224.356028  889.636820  0.0   0.0   4.0   23.00   \n",
              "num_shares     7050.0   40.022553  131.599965  0.0   0.0   0.0    4.00   \n",
              "num_likes      7050.0  215.043121  449.472357  0.0  17.0  58.0  184.75   \n",
              "num_loves      7050.0   12.728652   39.972930  0.0   0.0   0.0    3.00   \n",
              "num_wows       7050.0    1.289362    8.719650  0.0   0.0   0.0    0.00   \n",
              "num_hahas      7050.0    0.696454    3.957183  0.0   0.0   0.0    0.00   \n",
              "num_sads       7050.0    0.243688    1.597156  0.0   0.0   0.0    0.00   \n",
              "num_angrys     7050.0    0.113191    0.726812  0.0   0.0   0.0    0.00   \n",
              "Column1           0.0         NaN         NaN  NaN   NaN   NaN     NaN   \n",
              "Column2           0.0         NaN         NaN  NaN   NaN   NaN     NaN   \n",
              "Column3           0.0         NaN         NaN  NaN   NaN   NaN     NaN   \n",
              "Column4           0.0         NaN         NaN  NaN   NaN   NaN     NaN   \n",
              "\n",
              "                   max  \n",
              "num_reactions   4710.0  \n",
              "num_comments   20990.0  \n",
              "num_shares      3424.0  \n",
              "num_likes       4710.0  \n",
              "num_loves        657.0  \n",
              "num_wows         278.0  \n",
              "num_hahas        157.0  \n",
              "num_sads          51.0  \n",
              "num_angrys        31.0  \n",
              "Column1            NaN  \n",
              "Column2            NaN  \n",
              "Column3            NaN  \n",
              "Column4            NaN  "
            ]
          },
          "execution_count": 28,
          "metadata": {},
          "output_type": "execute_result"
        }
      ],
      "source": [
        "df.describe().T"
      ]
    },
    {
      "cell_type": "code",
      "execution_count": null,
      "metadata": {
        "id": "WuRzipqB3ary",
        "outputId": "efcc6698-c60e-40e4-bcb7-b259c92a5cd1"
      },
      "outputs": [
        {
          "data": {
            "text/plain": [
              "Index(['status_id', 'status_type', 'status_published', 'num_reactions',\n",
              "       'num_comments', 'num_shares', 'num_likes', 'num_loves', 'num_wows',\n",
              "       'num_hahas', 'num_sads', 'num_angrys'],\n",
              "      dtype='object')"
            ]
          },
          "execution_count": 29,
          "metadata": {},
          "output_type": "execute_result"
        }
      ],
      "source": [
        "df = df.drop(df.columns[12:16],axis=1)\n",
        "df.columns"
      ]
    },
    {
      "cell_type": "code",
      "execution_count": null,
      "metadata": {
        "id": "zMAbH0Nw3arz",
        "outputId": "ff23acb9-b8bc-4c38-83b6-ebcff7ab8538"
      },
      "outputs": [
        {
          "data": {
            "text/plain": [
              "status_id           0\n",
              "status_type         0\n",
              "status_published    0\n",
              "num_reactions       0\n",
              "num_comments        0\n",
              "num_shares          0\n",
              "num_likes           0\n",
              "num_loves           0\n",
              "num_wows            0\n",
              "num_hahas           0\n",
              "num_sads            0\n",
              "num_angrys          0\n",
              "dtype: int64"
            ]
          },
          "execution_count": 30,
          "metadata": {},
          "output_type": "execute_result"
        }
      ],
      "source": [
        "df.isna().sum()"
      ]
    },
    {
      "cell_type": "code",
      "execution_count": null,
      "metadata": {
        "id": "PdMis3tP3ar0",
        "outputId": "9d59d798-1968-4d58-ddd7-75a4f5ad41bd"
      },
      "outputs": [
        {
          "data": {
            "text/plain": [
              "status_id           object\n",
              "status_type         object\n",
              "status_published    object\n",
              "num_reactions        int64\n",
              "num_comments         int64\n",
              "num_shares           int64\n",
              "num_likes            int64\n",
              "num_loves            int64\n",
              "num_wows             int64\n",
              "num_hahas            int64\n",
              "num_sads             int64\n",
              "num_angrys           int64\n",
              "dtype: object"
            ]
          },
          "execution_count": 31,
          "metadata": {},
          "output_type": "execute_result"
        }
      ],
      "source": [
        "df.dtypes"
      ]
    },
    {
      "cell_type": "code",
      "execution_count": null,
      "metadata": {
        "id": "IMo8xtuy3ar0",
        "outputId": "a78370cf-2909-4e9f-8409-4ab1333813e1"
      },
      "outputs": [
        {
          "data": {
            "text/plain": [
              "array(['246675545449582_1649696485147474',\n",
              "       '246675545449582_1649426988507757',\n",
              "       '246675545449582_1648730588577397', ...,\n",
              "       '1050855161656896_1060126464063099',\n",
              "       '1050855161656896_1058663487542730',\n",
              "       '1050855161656896_1050858841656528'], dtype=object)"
            ]
          },
          "execution_count": 32,
          "metadata": {},
          "output_type": "execute_result"
        }
      ],
      "source": [
        "df.status_id.unique()"
      ]
    },
    {
      "cell_type": "code",
      "execution_count": null,
      "metadata": {
        "id": "4tgUE3Vr3ar1",
        "outputId": "de6e0865-d201-4aeb-dae5-6b99a322661f"
      },
      "outputs": [
        {
          "data": {
            "text/plain": [
              "array(['video', 'photo', 'link', 'status'], dtype=object)"
            ]
          },
          "execution_count": 33,
          "metadata": {},
          "output_type": "execute_result"
        }
      ],
      "source": [
        "df.status_type.unique()"
      ]
    },
    {
      "cell_type": "code",
      "execution_count": null,
      "metadata": {
        "id": "aAjxnEBj3ar1",
        "outputId": "6c35f48e-24de-4505-8f24-0ea9823bd4a2"
      },
      "outputs": [
        {
          "data": {
            "text/plain": [
              "array(['4/22/2018 6:00', '4/21/2018 22:45', '4/21/2018 6:17', ...,\n",
              "       '9/21/2016 23:03', '9/20/2016 0:43', '9/10/2016 10:30'],\n",
              "      dtype=object)"
            ]
          },
          "execution_count": 34,
          "metadata": {},
          "output_type": "execute_result"
        }
      ],
      "source": [
        "df.status_published.unique()"
      ]
    },
    {
      "cell_type": "markdown",
      "metadata": {
        "id": "OSYPnneb3ar2"
      },
      "source": [
        "### We can see that status_id and status_plubished is like serial number for a customer so we can remove them"
      ]
    },
    {
      "cell_type": "code",
      "execution_count": null,
      "metadata": {
        "id": "8eoZf-vu3ar4",
        "outputId": "1331dfe6-2f3a-4d2f-9c09-d0e770067631"
      },
      "outputs": [
        {
          "data": {
            "text/html": [
              "<div>\n",
              "<style scoped>\n",
              "    .dataframe tbody tr th:only-of-type {\n",
              "        vertical-align: middle;\n",
              "    }\n",
              "\n",
              "    .dataframe tbody tr th {\n",
              "        vertical-align: top;\n",
              "    }\n",
              "\n",
              "    .dataframe thead th {\n",
              "        text-align: right;\n",
              "    }\n",
              "</style>\n",
              "<table border=\"1\" class=\"dataframe\">\n",
              "  <thead>\n",
              "    <tr style=\"text-align: right;\">\n",
              "      <th></th>\n",
              "      <th>status_type</th>\n",
              "      <th>num_reactions</th>\n",
              "      <th>num_comments</th>\n",
              "      <th>num_shares</th>\n",
              "      <th>num_likes</th>\n",
              "      <th>num_loves</th>\n",
              "      <th>num_wows</th>\n",
              "      <th>num_hahas</th>\n",
              "      <th>num_sads</th>\n",
              "      <th>num_angrys</th>\n",
              "    </tr>\n",
              "  </thead>\n",
              "  <tbody>\n",
              "    <tr>\n",
              "      <th>0</th>\n",
              "      <td>video</td>\n",
              "      <td>529</td>\n",
              "      <td>512</td>\n",
              "      <td>262</td>\n",
              "      <td>432</td>\n",
              "      <td>92</td>\n",
              "      <td>3</td>\n",
              "      <td>1</td>\n",
              "      <td>1</td>\n",
              "      <td>0</td>\n",
              "    </tr>\n",
              "    <tr>\n",
              "      <th>1</th>\n",
              "      <td>photo</td>\n",
              "      <td>150</td>\n",
              "      <td>0</td>\n",
              "      <td>0</td>\n",
              "      <td>150</td>\n",
              "      <td>0</td>\n",
              "      <td>0</td>\n",
              "      <td>0</td>\n",
              "      <td>0</td>\n",
              "      <td>0</td>\n",
              "    </tr>\n",
              "    <tr>\n",
              "      <th>2</th>\n",
              "      <td>video</td>\n",
              "      <td>227</td>\n",
              "      <td>236</td>\n",
              "      <td>57</td>\n",
              "      <td>204</td>\n",
              "      <td>21</td>\n",
              "      <td>1</td>\n",
              "      <td>1</td>\n",
              "      <td>0</td>\n",
              "      <td>0</td>\n",
              "    </tr>\n",
              "    <tr>\n",
              "      <th>3</th>\n",
              "      <td>photo</td>\n",
              "      <td>111</td>\n",
              "      <td>0</td>\n",
              "      <td>0</td>\n",
              "      <td>111</td>\n",
              "      <td>0</td>\n",
              "      <td>0</td>\n",
              "      <td>0</td>\n",
              "      <td>0</td>\n",
              "      <td>0</td>\n",
              "    </tr>\n",
              "    <tr>\n",
              "      <th>4</th>\n",
              "      <td>photo</td>\n",
              "      <td>213</td>\n",
              "      <td>0</td>\n",
              "      <td>0</td>\n",
              "      <td>204</td>\n",
              "      <td>9</td>\n",
              "      <td>0</td>\n",
              "      <td>0</td>\n",
              "      <td>0</td>\n",
              "      <td>0</td>\n",
              "    </tr>\n",
              "  </tbody>\n",
              "</table>\n",
              "</div>"
            ],
            "text/plain": [
              "  status_type  num_reactions  num_comments  num_shares  num_likes  num_loves  \\\n",
              "0       video            529           512         262        432         92   \n",
              "1       photo            150             0           0        150          0   \n",
              "2       video            227           236          57        204         21   \n",
              "3       photo            111             0           0        111          0   \n",
              "4       photo            213             0           0        204          9   \n",
              "\n",
              "   num_wows  num_hahas  num_sads  num_angrys  \n",
              "0         3          1         1           0  \n",
              "1         0          0         0           0  \n",
              "2         1          1         0           0  \n",
              "3         0          0         0           0  \n",
              "4         0          0         0           0  "
            ]
          },
          "execution_count": 35,
          "metadata": {},
          "output_type": "execute_result"
        }
      ],
      "source": [
        "df.drop([\"status_published\",\"status_id\"],axis=1,inplace=True)\n",
        "df.head()"
      ]
    },
    {
      "cell_type": "code",
      "execution_count": null,
      "metadata": {
        "id": "xdUhgEZx3ar5"
      },
      "outputs": [],
      "source": [
        "df_oh = df.copy()\n",
        "le=LabelEncoder()\n",
        "df_oh[\"status_type\"] = le.fit_transform(df.status_type)"
      ]
    },
    {
      "cell_type": "code",
      "execution_count": null,
      "metadata": {
        "id": "4ixU7Tbu3ar5",
        "outputId": "fb182c36-3e6f-4272-c71e-bb48b0ffac1f"
      },
      "outputs": [
        {
          "data": {
            "text/html": [
              "<div>\n",
              "<style scoped>\n",
              "    .dataframe tbody tr th:only-of-type {\n",
              "        vertical-align: middle;\n",
              "    }\n",
              "\n",
              "    .dataframe tbody tr th {\n",
              "        vertical-align: top;\n",
              "    }\n",
              "\n",
              "    .dataframe thead th {\n",
              "        text-align: right;\n",
              "    }\n",
              "</style>\n",
              "<table border=\"1\" class=\"dataframe\">\n",
              "  <thead>\n",
              "    <tr style=\"text-align: right;\">\n",
              "      <th></th>\n",
              "      <th>status_type</th>\n",
              "      <th>num_reactions</th>\n",
              "      <th>num_comments</th>\n",
              "      <th>num_shares</th>\n",
              "      <th>num_likes</th>\n",
              "      <th>num_loves</th>\n",
              "      <th>num_wows</th>\n",
              "      <th>num_hahas</th>\n",
              "      <th>num_sads</th>\n",
              "      <th>num_angrys</th>\n",
              "    </tr>\n",
              "  </thead>\n",
              "  <tbody>\n",
              "    <tr>\n",
              "      <th>0</th>\n",
              "      <td>1.000000</td>\n",
              "      <td>0.112314</td>\n",
              "      <td>0.024393</td>\n",
              "      <td>0.076519</td>\n",
              "      <td>0.091720</td>\n",
              "      <td>0.140030</td>\n",
              "      <td>0.010791</td>\n",
              "      <td>0.006369</td>\n",
              "      <td>0.019608</td>\n",
              "      <td>0.0</td>\n",
              "    </tr>\n",
              "    <tr>\n",
              "      <th>1</th>\n",
              "      <td>0.333333</td>\n",
              "      <td>0.031847</td>\n",
              "      <td>0.000000</td>\n",
              "      <td>0.000000</td>\n",
              "      <td>0.031847</td>\n",
              "      <td>0.000000</td>\n",
              "      <td>0.000000</td>\n",
              "      <td>0.000000</td>\n",
              "      <td>0.000000</td>\n",
              "      <td>0.0</td>\n",
              "    </tr>\n",
              "    <tr>\n",
              "      <th>2</th>\n",
              "      <td>1.000000</td>\n",
              "      <td>0.048195</td>\n",
              "      <td>0.011243</td>\n",
              "      <td>0.016647</td>\n",
              "      <td>0.043312</td>\n",
              "      <td>0.031963</td>\n",
              "      <td>0.003597</td>\n",
              "      <td>0.006369</td>\n",
              "      <td>0.000000</td>\n",
              "      <td>0.0</td>\n",
              "    </tr>\n",
              "    <tr>\n",
              "      <th>3</th>\n",
              "      <td>0.333333</td>\n",
              "      <td>0.023567</td>\n",
              "      <td>0.000000</td>\n",
              "      <td>0.000000</td>\n",
              "      <td>0.023567</td>\n",
              "      <td>0.000000</td>\n",
              "      <td>0.000000</td>\n",
              "      <td>0.000000</td>\n",
              "      <td>0.000000</td>\n",
              "      <td>0.0</td>\n",
              "    </tr>\n",
              "    <tr>\n",
              "      <th>4</th>\n",
              "      <td>0.333333</td>\n",
              "      <td>0.045223</td>\n",
              "      <td>0.000000</td>\n",
              "      <td>0.000000</td>\n",
              "      <td>0.043312</td>\n",
              "      <td>0.013699</td>\n",
              "      <td>0.000000</td>\n",
              "      <td>0.000000</td>\n",
              "      <td>0.000000</td>\n",
              "      <td>0.0</td>\n",
              "    </tr>\n",
              "  </tbody>\n",
              "</table>\n",
              "</div>"
            ],
            "text/plain": [
              "   status_type  num_reactions  num_comments  num_shares  num_likes  num_loves  \\\n",
              "0     1.000000       0.112314      0.024393    0.076519   0.091720   0.140030   \n",
              "1     0.333333       0.031847      0.000000    0.000000   0.031847   0.000000   \n",
              "2     1.000000       0.048195      0.011243    0.016647   0.043312   0.031963   \n",
              "3     0.333333       0.023567      0.000000    0.000000   0.023567   0.000000   \n",
              "4     0.333333       0.045223      0.000000    0.000000   0.043312   0.013699   \n",
              "\n",
              "   num_wows  num_hahas  num_sads  num_angrys  \n",
              "0  0.010791   0.006369  0.019608         0.0  \n",
              "1  0.000000   0.000000  0.000000         0.0  \n",
              "2  0.003597   0.006369  0.000000         0.0  \n",
              "3  0.000000   0.000000  0.000000         0.0  \n",
              "4  0.000000   0.000000  0.000000         0.0  "
            ]
          },
          "execution_count": 37,
          "metadata": {},
          "output_type": "execute_result"
        }
      ],
      "source": [
        "#scaling\n",
        "\n",
        "sd = MinMaxScaler()\n",
        "df_std = pd.DataFrame(sd.fit_transform(df_oh))\n",
        "df_std.columns = df_oh.columns\n",
        "df_std.head()"
      ]
    },
    {
      "cell_type": "markdown",
      "metadata": {
        "id": "QEHoWJui3ar6"
      },
      "source": [
        "### As we have more than 2 features so we can use PCA to reduce the dimensionality of the data"
      ]
    },
    {
      "cell_type": "code",
      "execution_count": null,
      "metadata": {
        "id": "VC_bU_8E3ar7",
        "outputId": "885215c3-670c-436d-d2fe-085658d79130"
      },
      "outputs": [
        {
          "data": {
            "text/plain": [
              "(7050, 2)"
            ]
          },
          "execution_count": 38,
          "metadata": {},
          "output_type": "execute_result"
        }
      ],
      "source": [
        "#pca\n",
        "from sklearn.decomposition import PCA\n",
        "pca = PCA(n_components=2)\n",
        "pca.fit(df_std)\n",
        "df_pca = pd.DataFrame(pca.transform(df_std))\n",
        "df_pca.shape"
      ]
    },
    {
      "cell_type": "code",
      "execution_count": null,
      "metadata": {
        "id": "q3n0zbgf3ar8",
        "outputId": "58aa50c7-a021-4d46-e1ee-8a423cb6b430"
      },
      "outputs": [
        {
          "data": {
            "text/html": [
              "<div>\n",
              "<style scoped>\n",
              "    .dataframe tbody tr th:only-of-type {\n",
              "        vertical-align: middle;\n",
              "    }\n",
              "\n",
              "    .dataframe tbody tr th {\n",
              "        vertical-align: top;\n",
              "    }\n",
              "\n",
              "    .dataframe thead th {\n",
              "        text-align: right;\n",
              "    }\n",
              "</style>\n",
              "<table border=\"1\" class=\"dataframe\">\n",
              "  <thead>\n",
              "    <tr style=\"text-align: right;\">\n",
              "      <th></th>\n",
              "      <th>0</th>\n",
              "      <th>1</th>\n",
              "    </tr>\n",
              "  </thead>\n",
              "  <tbody>\n",
              "    <tr>\n",
              "      <th>0</th>\n",
              "      <td>0.446218</td>\n",
              "      <td>0.068944</td>\n",
              "    </tr>\n",
              "    <tr>\n",
              "      <th>1</th>\n",
              "      <td>-0.237240</td>\n",
              "      <td>-0.010435</td>\n",
              "    </tr>\n",
              "    <tr>\n",
              "      <th>2</th>\n",
              "      <td>0.429787</td>\n",
              "      <td>-0.028372</td>\n",
              "    </tr>\n",
              "    <tr>\n",
              "      <th>3</th>\n",
              "      <td>-0.237808</td>\n",
              "      <td>-0.021956</td>\n",
              "    </tr>\n",
              "    <tr>\n",
              "      <th>4</th>\n",
              "      <td>-0.235285</td>\n",
              "      <td>0.008596</td>\n",
              "    </tr>\n",
              "  </tbody>\n",
              "</table>\n",
              "</div>"
            ],
            "text/plain": [
              "          0         1\n",
              "0  0.446218  0.068944\n",
              "1 -0.237240 -0.010435\n",
              "2  0.429787 -0.028372\n",
              "3 -0.237808 -0.021956\n",
              "4 -0.235285  0.008596"
            ]
          },
          "execution_count": 39,
          "metadata": {},
          "output_type": "execute_result"
        }
      ],
      "source": [
        "df_pca.head()"
      ]
    },
    {
      "cell_type": "markdown",
      "metadata": {
        "id": "0ZgKQ1LE3ar9"
      },
      "source": [
        "### Finding best number of cluster for clustering using elbow method"
      ]
    },
    {
      "cell_type": "code",
      "execution_count": null,
      "metadata": {
        "id": "J3-jRuLy3ar-",
        "outputId": "6adcc9c5-b5e0-4dee-a219-b0c1dca48432"
      },
      "outputs": [
        {
          "data": {
            "image/png": "[encoded data removed]",
            "text/plain": [
              "<Figure size 432x288 with 1 Axes>"
            ]
          },
          "metadata": {
            "needs_background": "light"
          },
          "output_type": "display_data"
        }
      ],
      "source": [
        "cs=[]\n",
        "for i in range(1, 11):\n",
        "    kmeans = KMeans(n_clusters = i, init = 'k-means++', max_iter = 300, n_init = 10, random_state = 0)\n",
        "    kmeans.fit(df_pca)\n",
        "    cs.append(kmeans.inertia_)\n",
        "plt.plot(range(1, 11), cs)\n",
        "plt.title('The Elbow Method')\n",
        "plt.xlabel('Number of clusters')\n",
        "plt.ylabel('CS')\n",
        "plt.show()"
      ]
    },
    {
      "cell_type": "code",
      "execution_count": null,
      "metadata": {
        "id": "lyM7RDUa3asH"
      },
      "outputs": [],
      "source": [
        "#k = 4\n",
        "kmeans = KMeans(n_clusters=4)\n",
        "y = kmeans.fit_predict(df_pca)"
      ]
    },
    {
      "cell_type": "code",
      "execution_count": null,
      "metadata": {
        "id": "SexKNM1k3asI",
        "outputId": "b6832b53-61f5-411a-f81d-6ade1883816d"
      },
      "outputs": [
        {
          "data": {
            "text/plain": [
              "(7050,)"
            ]
          },
          "execution_count": 42,
          "metadata": {},
          "output_type": "execute_result"
        }
      ],
      "source": [
        "y.shape"
      ]
    },
    {
      "cell_type": "code",
      "execution_count": null,
      "metadata": {
        "id": "GwzCYbBs3asJ",
        "outputId": "43014ca2-0842-4e7e-f7ff-40d80fded065"
      },
      "outputs": [
        {
          "data": {
            "image/png": "[encoded data removed]",
            "text/plain": [
              "<Figure size 720x720 with 1 Axes>"
            ]
          },
          "metadata": {
            "needs_background": "light"
          },
          "output_type": "display_data"
        }
      ],
      "source": [
        "plt.figure(figsize=(10,10))\n",
        "plt.scatter(df_pca.iloc[y==0,0],df_pca.iloc[y==0,1],c=\"red\",label=\"cluster1\")\n",
        "plt.scatter(df_pca.iloc[y==1,0],df_pca.iloc[y==1,1],c=\"blue\",label=\"cluster2\")\n",
        "plt.scatter(df_pca.iloc[y==2,0],df_pca.iloc[y==2,1],c=\"green\",label=\"cluster3\")\n",
        "plt.scatter(df_pca.iloc[y==3,0],df_pca.iloc[y==3,1],c=\"black\",label=\"cluster4\")\n",
        "plt.scatter(kmeans.cluster_centers_[:,0],kmeans.cluster_centers_[:,1],c=\"yellow\",label=\"centroid\")\n",
        "plt.xlabel(\"pca1\")\n",
        "plt.ylabel(\"pca2\")\n",
        "plt.legend()\n",
        "plt.show()"
      ]
    },
    {
      "cell_type": "markdown",
      "metadata": {
        "id": "iGlNjrg63asK"
      },
      "source": [
        "## Heircal clustering"
      ]
    },
    {
      "cell_type": "code",
      "execution_count": null,
      "metadata": {
        "id": "AiVqGj-P3asK",
        "outputId": "d07ba844-4c41-4600-8fcc-5c8dcd5062fb"
      },
      "outputs": [
        {
          "data": {
            "image/png": "[encoded data removed]",
            "text/plain": [
              "<Figure size 1440x1440 with 1 Axes>"
            ]
          },
          "metadata": {
            "needs_background": "light"
          },
          "output_type": "display_data"
        }
      ],
      "source": [
        "# heirachical clustering\n",
        "from scipy.cluster.hierarchy import linkage, dendrogram\n",
        "\"\"\"Dendrogram is a tree diagram that records the sequences of merges or splits in a hierarchical clustering.\n",
        "It is used to find the optimal number of clusters in the data.\"\"\"\n",
        "plt.figure(figsize=(20, 20))\n",
        "merg = linkage(df_std, method = \"ward\") # ward method is used to minimize the variance within each cluster\n",
        "dendrogram(merg, leaf_rotation = 90) # leaf_rotation is used to rotate the x-axis labels\n",
        "plt.xlabel(\"data points\")\n",
        "plt.ylabel(\"euclidean distances\")\n",
        "plt.show()"
      ]
    },
    {
      "cell_type": "code",
      "execution_count": null,
      "metadata": {
        "id": "ya9BSzId3asL"
      },
      "outputs": [],
      "source": [
        "from sklearn.cluster import AgglomerativeClustering\n",
        "hc = AgglomerativeClustering(n_clusters = 4, affinity = 'euclidean', linkage = 'ward')\n",
        "y_hc = hc.fit_predict(df_std)"
      ]
    },
    {
      "cell_type": "code",
      "execution_count": null,
      "metadata": {
        "id": "JxB9906Z3asM",
        "outputId": "2ace0f5a-7006-4c3e-9aa5-deb19bdb78ee"
      },
      "outputs": [
        {
          "data": {
            "image/png": "[encoded data removed]",
            "text/plain": [
              "<Figure size 720x720 with 1 Axes>"
            ]
          },
          "metadata": {
            "needs_background": "light"
          },
          "output_type": "display_data"
        }
      ],
      "source": [
        "#plotting\n",
        "plt.figure(figsize=(10,10))\n",
        "plt.scatter(df_pca.iloc[y_hc==0,0],df_pca.iloc[y_hc==0,1],c=\"red\",label=\"cluster1\")\n",
        "plt.scatter(df_pca.iloc[y_hc==1,0],df_pca.iloc[y_hc==1,1],c=\"blue\",label=\"cluster2\")\n",
        "plt.scatter(df_pca.iloc[y_hc==2,0],df_pca.iloc[y_hc==2,1],c=\"green\",label=\"cluster3\")\n",
        "plt.scatter(df_pca.iloc[y_hc==3,0],df_pca.iloc[y_hc==3,1],c=\"black\",label=\"cluster4\")\n",
        "plt.xlabel(\"pca1\")\n",
        "plt.ylabel(\"pca2\")\n",
        "plt.legend()\n",
        "plt.show()"
      ]
    },
    {
      "cell_type": "code",
      "execution_count": null,
      "metadata": {
        "id": "-TsjrV_s3asN",
        "outputId": "fe035599-5ae6-4b51-ed04-48fe15ee8d36"
      },
      "outputs": [
        {
          "data": {
            "image/png": "[encoded data removed]",
            "text/plain": [
              "<Figure size 1800x720 with 3 Axes>"
            ]
          },
          "metadata": {
            "needs_background": "light"
          },
          "output_type": "display_data"
        }
      ],
      "source": [
        "# compare the results of kmeans and heirachical clustering and actual values\n",
        "plt.figure(figsize=(25,10))\n",
        "plt.subplot(1,3,1)\n",
        "plt.scatter(df_pca.iloc[y==0,0],df_pca.iloc[y==0,1],c=\"red\",label=\"cluster0\")\n",
        "plt.scatter(df_pca.iloc[y==1,0],df_pca.iloc[y==1,1],c=\"blue\",label=\"cluster1\")\n",
        "plt.scatter(df_pca.iloc[y==2,0],df_pca.iloc[y==2,1],c=\"green\",label=\"cluster2\")\n",
        "plt.scatter(df_pca.iloc[y==3,0],df_pca.iloc[y==3,1],c=\"black\",label=\"cluster3\")\n",
        "plt.scatter(kmeans.cluster_centers_[:,0],kmeans.cluster_centers_[:,1],c=\"yellow\",label=\"centroid\")\n",
        "plt.xlabel(\"pca1\")\n",
        "plt.ylabel(\"pca2\")\n",
        "plt.legend()\n",
        "plt.title(\"Kmeans Clustering\")\n",
        "plt.subplot(1,3,2)\n",
        "plt.scatter(df_pca.iloc[y_hc==0,0],df_pca.iloc[y_hc==0,1],c=\"red\",label=\"cluster0\")\n",
        "plt.scatter(df_pca.iloc[y_hc==1,0],df_pca.iloc[y_hc==1,1],c=\"blue\",label=\"cluster1\")\n",
        "plt.scatter(df_pca.iloc[y_hc==2,0],df_pca.iloc[y_hc==2,1],c=\"green\",label=\"cluster2\")\n",
        "plt.scatter(df_pca.iloc[y_hc==3,0],df_pca.iloc[y_hc==3,1],c=\"black\",label=\"cluster3\")\n",
        "plt.xlabel(\"pca1\")\n",
        "plt.ylabel(\"pca2\")\n",
        "plt.legend()\n",
        "plt.title(\"Hierarchical Clustering\")\n",
        "plt.subplot(1,3,3)\n",
        "y_act = df_oh.status_type\n",
        "y_act = np.array(y_act)\n",
        "plt.scatter(df_pca.iloc[y_act==0,0],df_pca.iloc[y_act==0,1],c=\"red\",label=\"link\")\n",
        "plt.scatter(df_pca.iloc[y_act==1,0],df_pca.iloc[y_act==1,1],c=\"blue\",label=\"photo\")\n",
        "plt.scatter(df_pca.iloc[y_act==2,0],df_pca.iloc[y_act==2,1],c=\"green\",label=\"status\")\n",
        "plt.scatter(df_pca.iloc[y_act==3,0],df_pca.iloc[y_act==3,1],c=\"black\",label=\"video\")\n",
        "plt.xlabel(\"pca1\")\n",
        "plt.ylabel(\"pca2\")\n",
        "plt.legend()\n",
        "plt.title(\"Actual values\")\n",
        "plt.show()"
      ]
    },
    {
      "cell_type": "markdown",
      "metadata": {
        "id": "PejXbh113asO"
      },
      "source": [
        "From the above graph we can infer that\n",
        "\n",
        "| Model | Cluster 0 | Cluster 1 | Cluster 2 | Cluster 3\n",
        "| --- | --- | --- | --- | --- |\n",
        "| Kmeans | Status | Photo | Video | Link |\n",
        "\n",
        "Heirachical clustering is not giving good results as compared to Kmeans clustering"
      ]
    },
    {
      "cell_type": "code",
      "execution_count": null,
      "metadata": {
        "id": "qMGJpQTk3asP"
      },
      "outputs": [],
      "source": [
        "## group clusters with status_type\n",
        "df_oh[\"cluster\"] = y\n",
        "df_oh.groupby(\"cluster\").status_type.value_counts()"
      ]
    }
  ],
  "metadata": {
    "kernelspec": {
      "display_name": "Python 3",
      "language": "python",
      "name": "python3"
    },
    "language_info": {
      "codemirror_mode": {
        "name": "ipython",
        "version": 3
      },
      "file_extension": ".py",
      "mimetype": "text/x-python",
      "name": "python",
      "nbconvert_exporter": "python",
      "pygments_lexer": "ipython3",
      "version": "3.9.7"
    },
    "orig_nbformat": 4,
    "vscode": {
      "interpreter": {
        "hash": "865d8b2eb28e274047ba64063dfb6a2aabf0dfec4905d304d7a76618dae6fdd4"
      }
    },
    "colab": {
      "provenance": []
    }
  },
  "nbformat": 4,
  "nbformat_minor": 0
}