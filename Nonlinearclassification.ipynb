{
  "cells": [
    {
      "cell_type": "code",
      "execution_count": null,
      "metadata": {
        "id": "DWyEVynp3Tbx"
      },
      "outputs": [],
      "source": [
        "import pandas as pd\n",
        "import numpy as np\n",
        "import matplotlib.pyplot as plt\n",
        "import seaborn as sns\n",
        "\n",
        "# import decision tree classifier\n",
        "from sklearn.tree import DecisionTreeClassifier\n",
        "from sklearn.metrics import accuracy_score,f1_score,recall_score,precision_score,roc_auc_score,confusion_matrix\n",
        "from sklearn.model_selection import train_test_split\n"
      ]
    },
    {
      "cell_type": "code",
      "execution_count": null,
      "metadata": {
        "id": "N36dKYUc3Tbz",
        "outputId": "d74d1c16-9a22-4c5d-dc23-1cda29138941"
      },
      "outputs": [
        {
          "data": {
            "text/html": [
              "<div>\n",
              "<style scoped>\n",
              "    .dataframe tbody tr th:only-of-type {\n",
              "        vertical-align: middle;\n",
              "    }\n",
              "\n",
              "    .dataframe tbody tr th {\n",
              "        vertical-align: top;\n",
              "    }\n",
              "\n",
              "    .dataframe thead th {\n",
              "        text-align: right;\n",
              "    }\n",
              "</style>\n",
              "<table border=\"1\" class=\"dataframe\">\n",
              "  <thead>\n",
              "    <tr style=\"text-align: right;\">\n",
              "      <th></th>\n",
              "      <th>MinTemp</th>\n",
              "      <th>MaxTemp</th>\n",
              "      <th>Rainfall</th>\n",
              "      <th>WindGustSpeed</th>\n",
              "      <th>WindSpeed9am</th>\n",
              "      <th>WindSpeed3pm</th>\n",
              "      <th>Humidity9am</th>\n",
              "      <th>Humidity3pm</th>\n",
              "      <th>Pressure9am</th>\n",
              "      <th>Pressure3pm</th>\n",
              "      <th>...</th>\n",
              "      <th>WindDir3pm_SE</th>\n",
              "      <th>WindDir3pm_SSE</th>\n",
              "      <th>WindDir3pm_SSW</th>\n",
              "      <th>WindDir3pm_SW</th>\n",
              "      <th>WindDir3pm_W</th>\n",
              "      <th>WindDir3pm_WNW</th>\n",
              "      <th>WindDir3pm_WSW</th>\n",
              "      <th>RainToday_No</th>\n",
              "      <th>RainToday_Yes</th>\n",
              "      <th>RainTomorrow</th>\n",
              "    </tr>\n",
              "  </thead>\n",
              "  <tbody>\n",
              "    <tr>\n",
              "      <th>0</th>\n",
              "      <td>13.4</td>\n",
              "      <td>22.9</td>\n",
              "      <td>0.6</td>\n",
              "      <td>44.0</td>\n",
              "      <td>20.0</td>\n",
              "      <td>24.0</td>\n",
              "      <td>71.0</td>\n",
              "      <td>22.0</td>\n",
              "      <td>1007.7</td>\n",
              "      <td>1007.1</td>\n",
              "      <td>...</td>\n",
              "      <td>0</td>\n",
              "      <td>0</td>\n",
              "      <td>0</td>\n",
              "      <td>0</td>\n",
              "      <td>0</td>\n",
              "      <td>1</td>\n",
              "      <td>0</td>\n",
              "      <td>1</td>\n",
              "      <td>0</td>\n",
              "      <td>0</td>\n",
              "    </tr>\n",
              "    <tr>\n",
              "      <th>1</th>\n",
              "      <td>7.4</td>\n",
              "      <td>25.1</td>\n",
              "      <td>0.0</td>\n",
              "      <td>44.0</td>\n",
              "      <td>4.0</td>\n",
              "      <td>22.0</td>\n",
              "      <td>44.0</td>\n",
              "      <td>25.0</td>\n",
              "      <td>1010.6</td>\n",
              "      <td>1007.8</td>\n",
              "      <td>...</td>\n",
              "      <td>0</td>\n",
              "      <td>0</td>\n",
              "      <td>0</td>\n",
              "      <td>0</td>\n",
              "      <td>0</td>\n",
              "      <td>0</td>\n",
              "      <td>1</td>\n",
              "      <td>1</td>\n",
              "      <td>0</td>\n",
              "      <td>0</td>\n",
              "    </tr>\n",
              "    <tr>\n",
              "      <th>2</th>\n",
              "      <td>12.9</td>\n",
              "      <td>25.7</td>\n",
              "      <td>0.0</td>\n",
              "      <td>46.0</td>\n",
              "      <td>19.0</td>\n",
              "      <td>26.0</td>\n",
              "      <td>38.0</td>\n",
              "      <td>30.0</td>\n",
              "      <td>1007.6</td>\n",
              "      <td>1008.7</td>\n",
              "      <td>...</td>\n",
              "      <td>0</td>\n",
              "      <td>0</td>\n",
              "      <td>0</td>\n",
              "      <td>0</td>\n",
              "      <td>0</td>\n",
              "      <td>0</td>\n",
              "      <td>1</td>\n",
              "      <td>1</td>\n",
              "      <td>0</td>\n",
              "      <td>0</td>\n",
              "    </tr>\n",
              "    <tr>\n",
              "      <th>3</th>\n",
              "      <td>9.2</td>\n",
              "      <td>28.0</td>\n",
              "      <td>0.0</td>\n",
              "      <td>24.0</td>\n",
              "      <td>11.0</td>\n",
              "      <td>9.0</td>\n",
              "      <td>45.0</td>\n",
              "      <td>16.0</td>\n",
              "      <td>1017.6</td>\n",
              "      <td>1012.8</td>\n",
              "      <td>...</td>\n",
              "      <td>0</td>\n",
              "      <td>0</td>\n",
              "      <td>0</td>\n",
              "      <td>0</td>\n",
              "      <td>0</td>\n",
              "      <td>0</td>\n",
              "      <td>0</td>\n",
              "      <td>1</td>\n",
              "      <td>0</td>\n",
              "      <td>0</td>\n",
              "    </tr>\n",
              "    <tr>\n",
              "      <th>4</th>\n",
              "      <td>17.5</td>\n",
              "      <td>32.3</td>\n",
              "      <td>1.0</td>\n",
              "      <td>41.0</td>\n",
              "      <td>7.0</td>\n",
              "      <td>20.0</td>\n",
              "      <td>82.0</td>\n",
              "      <td>33.0</td>\n",
              "      <td>1010.8</td>\n",
              "      <td>1006.0</td>\n",
              "      <td>...</td>\n",
              "      <td>0</td>\n",
              "      <td>0</td>\n",
              "      <td>0</td>\n",
              "      <td>0</td>\n",
              "      <td>0</td>\n",
              "      <td>0</td>\n",
              "      <td>0</td>\n",
              "      <td>1</td>\n",
              "      <td>0</td>\n",
              "      <td>0</td>\n",
              "    </tr>\n",
              "  </tbody>\n",
              "</table>\n",
              "<p>5 rows × 112 columns</p>\n",
              "</div>"
            ],
            "text/plain": [
              "   MinTemp  MaxTemp  Rainfall  WindGustSpeed  WindSpeed9am  WindSpeed3pm  \\\n",
              "0     13.4     22.9       0.6           44.0          20.0          24.0   \n",
              "1      7.4     25.1       0.0           44.0           4.0          22.0   \n",
              "2     12.9     25.7       0.0           46.0          19.0          26.0   \n",
              "3      9.2     28.0       0.0           24.0          11.0           9.0   \n",
              "4     17.5     32.3       1.0           41.0           7.0          20.0   \n",
              "\n",
              "   Humidity9am  Humidity3pm  Pressure9am  Pressure3pm  ...  WindDir3pm_SE  \\\n",
              "0         71.0         22.0       1007.7       1007.1  ...              0   \n",
              "1         44.0         25.0       1010.6       1007.8  ...              0   \n",
              "2         38.0         30.0       1007.6       1008.7  ...              0   \n",
              "3         45.0         16.0       1017.6       1012.8  ...              0   \n",
              "4         82.0         33.0       1010.8       1006.0  ...              0   \n",
              "\n",
              "   WindDir3pm_SSE  WindDir3pm_SSW  WindDir3pm_SW  WindDir3pm_W  \\\n",
              "0               0               0              0             0   \n",
              "1               0               0              0             0   \n",
              "2               0               0              0             0   \n",
              "3               0               0              0             0   \n",
              "4               0               0              0             0   \n",
              "\n",
              "   WindDir3pm_WNW  WindDir3pm_WSW  RainToday_No  RainToday_Yes  RainTomorrow  \n",
              "0               1               0             1              0             0  \n",
              "1               0               1             1              0             0  \n",
              "2               0               1             1              0             0  \n",
              "3               0               0             1              0             0  \n",
              "4               0               0             1              0             0  \n",
              "\n",
              "[5 rows x 112 columns]"
            ]
          },
          "execution_count": 2,
          "metadata": {},
          "output_type": "execute_result"
        }
      ],
      "source": [
        "df = pd.read_csv('data/processeddata.csv')\n",
        "df.head()"
      ]
    },
    {
      "cell_type": "code",
      "execution_count": null,
      "metadata": {
        "id": "_lWnz2qb3Tb0"
      },
      "outputs": [],
      "source": [
        "def plot_confustion_matrix(y_test,y_pred):\n",
        "    cm = confusion_matrix(y_test, y_pred)\n",
        "    sns.heatmap(cm, annot=True, fmt=\"d\")\n",
        "    plt.title(\"Confusion Matrix\")\n",
        "    plt.ylabel(\"True label\")\n",
        "    plt.xlabel(\"Predicted label\")\n",
        "    plt.show()"
      ]
    },
    {
      "cell_type": "code",
      "execution_count": null,
      "metadata": {
        "id": "-2oRzJ9I3Tb1",
        "outputId": "5d3f5b38-ffbd-4681-847f-62f68b98654b"
      },
      "outputs": [
        {
          "name": "stdout",
          "output_type": "stream",
          "text": [
            "Accuracy score:  0.8133934262041337\n",
            "Recall score:  0.4269366197183099\n",
            "Precision score:  0.4040544293251874\n",
            "ROC AUC score:  0.6556495793925099\n",
            "F1 score:  0.41518048223712367\n",
            "Specificity:  0.8843625390667098\n",
            "Confusion Matrix: \n"
          ]
        },
        {
          "data": {
            "image/png": "[encoded data removed]",
            "text/plain": [
              "<Figure size 432x288 with 2 Axes>"
            ]
          },
          "metadata": {
            "needs_background": "light"
          },
          "output_type": "display_data"
        }
      ],
      "source": [
        "#lab note\n",
        "dt = DecisionTreeClassifier()\n",
        "X = df.drop('RainTomorrow',axis=1)\n",
        "y = df['RainTomorrow']\n",
        "X_train,X_test,y_train,y_test = train_test_split(X,y,test_size=0.2,random_state=42)\n",
        "dt.fit(X_train,y_train)\n",
        "y_pred = dt.predict(X_test)\n",
        "print('Accuracy score: ',accuracy_score(y_test,y_pred))\n",
        "# print('R2 score: ',r2_score(y_test,y_pred))\n",
        "print('Recall score: ',recall_score(y_test,y_pred))\n",
        "print('Precision score: ',precision_score(y_test,y_pred))\n",
        "print('ROC AUC score: ',roc_auc_score(y_test,y_pred))\n",
        "print(\"F1 score: \",f1_score(y_test,y_pred))\n",
        "cm = confusion_matrix(y_test,y_pred)\n",
        "print(\"Specificity: \",cm[0,0]/(cm[0,0]+cm[0,1]))\n",
        "print(\"Confusion Matrix: \")\n",
        "plot_confustion_matrix(y_test,y_pred)\n"
      ]
    },
    {
      "cell_type": "code",
      "execution_count": null,
      "metadata": {
        "id": "x4UQP1OC3Tb1"
      },
      "outputs": [],
      "source": [
        "#Parmater tuning\n",
        "\n",
        "from sklearn.model_selection import GridSearchCV"
      ]
    },
    {
      "cell_type": "code",
      "execution_count": null,
      "metadata": {
        "id": "CyvADYV_3Tb2",
        "outputId": "1e511cd5-6f0b-416d-e202-6cb3416e44f3"
      },
      "outputs": [
        {
          "name": "stdout",
          "output_type": "stream",
          "text": [
            "{'criterion': 'gini', 'max_depth': 3, 'max_leaf_nodes': 7}\n",
            "0.8633311585845622\n",
            "DecisionTreeClassifier(max_depth=3, max_leaf_nodes=7)\n"
          ]
        }
      ],
      "source": [
        "params = {\"criterion\":['gini','entropy'],\n",
        "          \"max_depth\":range(3,8),\n",
        "          \"max_leaf_nodes\":range(2,8)}\n",
        "\n",
        "grid = GridSearchCV(dt,params,cv=5)\n",
        "grid.fit(X_train,y_train)\n",
        "print(grid.best_params_)\n",
        "print(grid.best_score_)\n",
        "print(grid.best_estimator_)\n"
      ]
    },
    {
      "cell_type": "code",
      "execution_count": null,
      "metadata": {
        "id": "sglU5NGb3Tb2",
        "outputId": "a88d5f0d-ec71-4a1f-d574-98f2e8a1fa95"
      },
      "outputs": [
        {
          "name": "stdout",
          "output_type": "stream",
          "text": [
            "Accuracy score:  0.8649731403077483\n",
            "Recall score:  0.27142018779342725\n",
            "Precision score:  0.6569602272727273\n",
            "ROC AUC score:  0.6226968381579487\n",
            "F1 score:  0.38413621262458475\n",
            "Specificity:  0.9739734885224701\n",
            "Confusion Matrix: \n"
          ]
        },
        {
          "data": {
            "image/png": "[encoded data removed]",
            "text/plain": [
              "<Figure size 432x288 with 2 Axes>"
            ]
          },
          "metadata": {
            "needs_background": "light"
          },
          "output_type": "display_data"
        }
      ],
      "source": [
        "#train model with best parameters\n",
        "dt = DecisionTreeClassifier(criterion='gini',max_depth=3,max_leaf_nodes=7)\n",
        "dt.fit(X_train,y_train)\n",
        "y_pred = dt.predict(X_test)\n",
        "print('Accuracy score: ',accuracy_score(y_test,y_pred))\n",
        "# print('R2 score: ',r2_score(y_test,y_pred))\n",
        "print('Recall score: ',recall_score(y_test,y_pred))\n",
        "print('Precision score: ',precision_score(y_test,y_pred))\n",
        "print('ROC AUC score: ',roc_auc_score(y_test,y_pred))\n",
        "print(\"F1 score: \",f1_score(y_test,y_pred))\n",
        "cm = confusion_matrix(y_test,y_pred)\n",
        "print(\"Specificity: \",cm[0,0]/(cm[0,0]+cm[0,1]))\n",
        "print(\"Confusion Matrix: \")\n",
        "plot_confustion_matrix(y_test,y_pred)"
      ]
    },
    {
      "cell_type": "code",
      "execution_count": null,
      "metadata": {
        "id": "Pt_zPW2O3Tb3",
        "outputId": "09ec5a8c-d419-4db0-b806-118ccc8f9c8b"
      },
      "outputs": [
        {
          "name": "stdout",
          "output_type": "stream",
          "text": [
            "Accuracy score:  0.8706182281708095\n",
            "Recall score:  0.22946009389671362\n",
            "Precision score:  0.7835671342685371\n",
            "ROC AUC score:  0.6089104543198408\n",
            "F1 score:  0.35497049477984566\n",
            "Specificity:  0.988360814742968\n",
            "Confusion Matrix: \n"
          ]
        },
        {
          "data": {
            "image/png": "[encoded data removed]",
            "text/plain": [
              "<Figure size 432x288 with 2 Axes>"
            ]
          },
          "metadata": {
            "needs_background": "light"
          },
          "output_type": "display_data"
        }
      ],
      "source": [
        "#train neural network\n",
        "from sklearn.neural_network import MLPClassifier\n",
        "mlp = MLPClassifier()\n",
        "mlp.fit(X_train,y_train)\n",
        "y_pred = mlp.predict(X_test)\n",
        "print('Accuracy score: ',accuracy_score(y_test,y_pred))\n",
        "# print('R2 score: ',r2_score(y_test,y_pred))\n",
        "print('Recall score: ',recall_score(y_test,y_pred))\n",
        "print('Precision score: ',precision_score(y_test,y_pred))\n",
        "print('ROC AUC score: ',roc_auc_score(y_test,y_pred))\n",
        "print(\"F1 score: \",f1_score(y_test,y_pred))\n",
        "cm = confusion_matrix(y_test,y_pred)\n",
        "print(\"Specificity: \",cm[0,0]/(cm[0,0]+cm[0,1]))\n",
        "print(\"Confusion Matrix: \")\n",
        "plot_confustion_matrix(y_test,y_pred)\n"
      ]
    },
    {
      "cell_type": "code",
      "execution_count": null,
      "metadata": {
        "id": "9Y3YPu0o3Tb3"
      },
      "outputs": [],
      "source": [
        "#gridsearch for mlpclassifier\n",
        "params = {\"hidden_layer_sizes\": [(100,),(100,100),(100,100,100)],\n",
        "            \"activation\":['identity','logistic','tanh','relu'],\n",
        "            \"solver\":['lbfgs','sgd','adam'],\n",
        "            \"alpha\":[0.0001,0.001,0.01,0.1,1],\n",
        "            \"learning_rate\":['constant','invscaling','adaptive']}\n",
        "grid = GridSearchCV(mlp,params,cv=5)\n",
        "grid.fit(X_train,y_train)\n",
        "print(grid.best_params_)\n",
        "print(grid.best_score_)\n",
        "print(grid.best_estimator_)\n",
        "#train model with best parameters\n",
        "mlp = MLPClassifier(activation='tanh',alpha=0.0001,hidden_layer_sizes=(100,100,100),learning_rate='constant',solver='lbfgs')"
      ]
    },
    {
      "cell_type": "markdown",
      "metadata": {
        "id": "-h4i8JfF3Tb4"
      },
      "source": [
        "## Decision Tree vs Multilayer Perceptron\n",
        "\n",
        "### Metrics\n",
        "\n",
        "<!-- |Metrics|Logistic Regression|Naive Bayes|\n",
        "|:-|:-|:-|\n",
        "|Precision|0.67|0.92|\n",
        "|Specificity|0.97|0.77|\n",
        "|R2 score|0.377|0.87|\n",
        "|Classification error|0.13|0.12| -->\n",
        "\n",
        "|Metrics|Decision Tree|Multilayer Perceptron|\n",
        "|:-|:-|:-|\n",
        "|Precision|0.92|0.443|\n",
        "|Recall|0.27|0.6|\n",
        "|R2 score|-0.03|-0.36|\n",
        "|Accuracy|0.86|0.82|\n",
        "\n",
        "We can see that the Decision Tree model has a better precision than the Multilayer Perceptron model. The Decision Tree model has a better R2 score than the Multilayer Perceptron model. The Decision Tree model has a better accuracy than the Multilayer Perceptron model. But the Multilayer Perceptron model has a better recall than the Decision Tree model.\n",
        "\n",
        "So we can conclude that the Decision Tree model is better than the Multilayer Perceptron model in predicting negative class and the Multilayer Perceptron model is better than the Decision Tree model in predicting positive class."
      ]
    },
    {
      "cell_type": "code",
      "execution_count": null,
      "metadata": {
        "id": "IXFA92403Tb-"
      },
      "outputs": [],
      "source": []
    }
  ],
  "metadata": {
    "kernelspec": {
      "display_name": "Python 3",
      "language": "python",
      "name": "python3"
    },
    "language_info": {
      "codemirror_mode": {
        "name": "ipython",
        "version": 3
      },
      "file_extension": ".py",
      "mimetype": "text/x-python",
      "name": "python",
      "nbconvert_exporter": "python",
      "pygments_lexer": "ipython3",
      "version": "3.9.7"
    },
    "orig_nbformat": 4,
    "vscode": {
      "interpreter": {
        "hash": "865d8b2eb28e274047ba64063dfb6a2aabf0dfec4905d304d7a76618dae6fdd4"
      }
    },
    "colab": {
      "provenance": []
    }
  },
  "nbformat": 4,
  "nbformat_minor": 0
}