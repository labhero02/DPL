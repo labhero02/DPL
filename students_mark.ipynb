{
  "cells": [
    {
      "cell_type": "markdown",
      "metadata": {
        "id": "g8KPMdjL3ASP"
      },
      "source": [
        "## Import Libraries"
      ]
    },
    {
      "cell_type": "code",
      "execution_count": null,
      "metadata": {
        "id": "cDNNz30t3ASU"
      },
      "outputs": [],
      "source": [
        "import pandas as pd\n",
        "import numpy as np\n",
        "from sklearn.preprocessing import LabelEncoder,Normalizer as norm,StandardScaler as std, OneHotEncoder\n",
        "from sklearn.compose import ColumnTransformer\n",
        "from sklearn.model_selection import train_test_split"
      ]
    },
    {
      "cell_type": "markdown",
      "metadata": {
        "id": "9--Cay3p3ASa"
      },
      "source": [
        "## Importing Dataset"
      ]
    },
    {
      "cell_type": "code",
      "execution_count": null,
      "metadata": {
        "id": "sUajmdLL3ASc",
        "outputId": "f06c5545-6b44-4ef9-b60a-95dec7eb1491"
      },
      "outputs": [
        {
          "data": {
            "text/html": [
              "<div>\n",
              "<style scoped>\n",
              "    .dataframe tbody tr th:only-of-type {\n",
              "        vertical-align: middle;\n",
              "    }\n",
              "\n",
              "    .dataframe tbody tr th {\n",
              "        vertical-align: top;\n",
              "    }\n",
              "\n",
              "    .dataframe thead th {\n",
              "        text-align: right;\n",
              "    }\n",
              "</style>\n",
              "<table border=\"1\" class=\"dataframe\">\n",
              "  <thead>\n",
              "    <tr style=\"text-align: right;\">\n",
              "      <th></th>\n",
              "      <th>gender</th>\n",
              "      <th>race/ethnicity</th>\n",
              "      <th>parental level of education</th>\n",
              "      <th>lunch</th>\n",
              "      <th>test preparation course</th>\n",
              "      <th>math score</th>\n",
              "      <th>reading score</th>\n",
              "      <th>writing score</th>\n",
              "    </tr>\n",
              "  </thead>\n",
              "  <tbody>\n",
              "    <tr>\n",
              "      <th>0</th>\n",
              "      <td>female</td>\n",
              "      <td>group B</td>\n",
              "      <td>bachelor's degree</td>\n",
              "      <td>standard</td>\n",
              "      <td>none</td>\n",
              "      <td>72</td>\n",
              "      <td>72</td>\n",
              "      <td>74</td>\n",
              "    </tr>\n",
              "    <tr>\n",
              "      <th>1</th>\n",
              "      <td>female</td>\n",
              "      <td>group C</td>\n",
              "      <td>some college</td>\n",
              "      <td>standard</td>\n",
              "      <td>completed</td>\n",
              "      <td>69</td>\n",
              "      <td>90</td>\n",
              "      <td>88</td>\n",
              "    </tr>\n",
              "    <tr>\n",
              "      <th>2</th>\n",
              "      <td>female</td>\n",
              "      <td>group B</td>\n",
              "      <td>master's degree</td>\n",
              "      <td>standard</td>\n",
              "      <td>none</td>\n",
              "      <td>90</td>\n",
              "      <td>95</td>\n",
              "      <td>93</td>\n",
              "    </tr>\n",
              "    <tr>\n",
              "      <th>3</th>\n",
              "      <td>male</td>\n",
              "      <td>group A</td>\n",
              "      <td>associate's degree</td>\n",
              "      <td>free/reduced</td>\n",
              "      <td>none</td>\n",
              "      <td>47</td>\n",
              "      <td>57</td>\n",
              "      <td>44</td>\n",
              "    </tr>\n",
              "    <tr>\n",
              "      <th>4</th>\n",
              "      <td>male</td>\n",
              "      <td>group C</td>\n",
              "      <td>some college</td>\n",
              "      <td>standard</td>\n",
              "      <td>none</td>\n",
              "      <td>76</td>\n",
              "      <td>78</td>\n",
              "      <td>75</td>\n",
              "    </tr>\n",
              "  </tbody>\n",
              "</table>\n",
              "</div>"
            ],
            "text/plain": [
              "   gender race/ethnicity parental level of education         lunch  \\\n",
              "0  female        group B           bachelor's degree      standard   \n",
              "1  female        group C                some college      standard   \n",
              "2  female        group B             master's degree      standard   \n",
              "3    male        group A          associate's degree  free/reduced   \n",
              "4    male        group C                some college      standard   \n",
              "\n",
              "  test preparation course  math score  reading score  writing score  \n",
              "0                    none          72             72             74  \n",
              "1               completed          69             90             88  \n",
              "2                    none          90             95             93  \n",
              "3                    none          47             57             44  \n",
              "4                    none          76             78             75  "
            ]
          },
          "execution_count": 2,
          "metadata": {},
          "output_type": "execute_result"
        }
      ],
      "source": [
        "df = pd.read_csv(r\"data\\StudentsPerformance.csv\")\n",
        "df.head()"
      ]
    },
    {
      "cell_type": "code",
      "execution_count": null,
      "metadata": {
        "id": "ln4KfZL23ASg",
        "outputId": "98b0debd-e3f4-4428-996f-2abcdef5634b"
      },
      "outputs": [
        {
          "data": {
            "text/html": [
              "<div>\n",
              "<style scoped>\n",
              "    .dataframe tbody tr th:only-of-type {\n",
              "        vertical-align: middle;\n",
              "    }\n",
              "\n",
              "    .dataframe tbody tr th {\n",
              "        vertical-align: top;\n",
              "    }\n",
              "\n",
              "    .dataframe thead th {\n",
              "        text-align: right;\n",
              "    }\n",
              "</style>\n",
              "<table border=\"1\" class=\"dataframe\">\n",
              "  <thead>\n",
              "    <tr style=\"text-align: right;\">\n",
              "      <th></th>\n",
              "      <th>count</th>\n",
              "      <th>mean</th>\n",
              "      <th>std</th>\n",
              "      <th>min</th>\n",
              "      <th>25%</th>\n",
              "      <th>50%</th>\n",
              "      <th>75%</th>\n",
              "      <th>max</th>\n",
              "    </tr>\n",
              "  </thead>\n",
              "  <tbody>\n",
              "    <tr>\n",
              "      <th>math score</th>\n",
              "      <td>1000.0</td>\n",
              "      <td>66.089</td>\n",
              "      <td>15.163080</td>\n",
              "      <td>0.0</td>\n",
              "      <td>57.00</td>\n",
              "      <td>66.0</td>\n",
              "      <td>77.0</td>\n",
              "      <td>100.0</td>\n",
              "    </tr>\n",
              "    <tr>\n",
              "      <th>reading score</th>\n",
              "      <td>1000.0</td>\n",
              "      <td>69.169</td>\n",
              "      <td>14.600192</td>\n",
              "      <td>17.0</td>\n",
              "      <td>59.00</td>\n",
              "      <td>70.0</td>\n",
              "      <td>79.0</td>\n",
              "      <td>100.0</td>\n",
              "    </tr>\n",
              "    <tr>\n",
              "      <th>writing score</th>\n",
              "      <td>1000.0</td>\n",
              "      <td>68.054</td>\n",
              "      <td>15.195657</td>\n",
              "      <td>10.0</td>\n",
              "      <td>57.75</td>\n",
              "      <td>69.0</td>\n",
              "      <td>79.0</td>\n",
              "      <td>100.0</td>\n",
              "    </tr>\n",
              "  </tbody>\n",
              "</table>\n",
              "</div>"
            ],
            "text/plain": [
              "                count    mean        std   min    25%   50%   75%    max\n",
              "math score     1000.0  66.089  15.163080   0.0  57.00  66.0  77.0  100.0\n",
              "reading score  1000.0  69.169  14.600192  17.0  59.00  70.0  79.0  100.0\n",
              "writing score  1000.0  68.054  15.195657  10.0  57.75  69.0  79.0  100.0"
            ]
          },
          "execution_count": 4,
          "metadata": {},
          "output_type": "execute_result"
        }
      ],
      "source": [
        "df.describe().T"
      ]
    },
    {
      "cell_type": "markdown",
      "metadata": {
        "id": "FiyprW-y3ASi"
      },
      "source": [
        "## Checking Null Values"
      ]
    },
    {
      "cell_type": "code",
      "execution_count": null,
      "metadata": {
        "id": "1jtOUgwW3ASj",
        "outputId": "311885e6-ffed-4fc1-988a-1be22be1ebe3"
      },
      "outputs": [
        {
          "data": {
            "text/plain": [
              "gender                         0\n",
              "race/ethnicity                 0\n",
              "parental level of education    0\n",
              "lunch                          0\n",
              "test preparation course        0\n",
              "math score                     0\n",
              "reading score                  0\n",
              "writing score                  0\n",
              "dtype: int64"
            ]
          },
          "execution_count": 5,
          "metadata": {},
          "output_type": "execute_result"
        }
      ],
      "source": [
        "df.isna().sum()"
      ]
    },
    {
      "cell_type": "markdown",
      "metadata": {
        "id": "gxHIFNUY3ASl"
      },
      "source": [
        "## Analyzing Categorical Data"
      ]
    },
    {
      "cell_type": "code",
      "execution_count": null,
      "metadata": {
        "id": "Zw7FBEL73ASm",
        "outputId": "4a921769-55ff-4c55-868a-1fbc228c8012"
      },
      "outputs": [
        {
          "name": "stdout",
          "output_type": "stream",
          "text": [
            "gender  has  2  unique values :  ['female' 'male']\n",
            "race/ethnicity  has  5  unique values :  ['group B' 'group C' 'group A' 'group D' 'group E']\n",
            "parental level of education  has  6  unique values :  [\"bachelor's degree\" 'some college' \"master's degree\" \"associate's degree\"\n",
            " 'high school' 'some high school']\n",
            "lunch  has  2  unique values :  ['standard' 'free/reduced']\n",
            "test preparation course  has  2  unique values :  ['none' 'completed']\n"
          ]
        }
      ],
      "source": [
        "# printing number of unique values for the categorical data present in df\n",
        "def categorical_unique(df):\n",
        "  for i in df.columns:\n",
        "    if df[i].dtype==\"O\":\n",
        "      print (i,\" has \",len(df[i].unique()),\" unique values : \",df[i].unique())\n",
        "\n",
        "categorical_unique(df)"
      ]
    },
    {
      "cell_type": "markdown",
      "metadata": {
        "id": "LQ4iD3nq3ASo"
      },
      "source": [
        "For the given data:\n",
        "\n",
        "1. 'gender' has 2 unique values and there is no intrinsic order to them, so one hot encoding would be appropriate.\n",
        "2. 'race/ethnicity' has 5 unique values and there is no intrinsic order to them, so one hot encoding would be appropriate.\n",
        "3. 'parental level of education' has 6 unique values and there is an intrinsic order to them (higher level of education is better), so label encoding would be appropriate.\n",
        "4. 'lunch' has 2 unique values and there is no intrinsic order to them, so one hot encoding would be appropriate.\n",
        "5. 'test preparation course' has 2 unique values and there is no intrinsic order to them, so one hot encoding would be appropriate.\n",
        "\n",
        "\n"
      ]
    },
    {
      "cell_type": "code",
      "execution_count": null,
      "metadata": {
        "id": "Jr8miZMg3ASp"
      },
      "outputs": [],
      "source": [
        "# split x and y\n",
        "target = ['parental level of education']\n",
        "X = df.drop(target,axis=1)\n",
        "Y = df[target]"
      ]
    },
    {
      "cell_type": "code",
      "execution_count": null,
      "metadata": {
        "id": "RBpHMOy23ASr",
        "outputId": "e7d24cd1-c7a0-4a4e-98c9-cd8cbd123c53"
      },
      "outputs": [
        {
          "data": {
            "text/html": [
              "<div>\n",
              "<style scoped>\n",
              "    .dataframe tbody tr th:only-of-type {\n",
              "        vertical-align: middle;\n",
              "    }\n",
              "\n",
              "    .dataframe tbody tr th {\n",
              "        vertical-align: top;\n",
              "    }\n",
              "\n",
              "    .dataframe thead th {\n",
              "        text-align: right;\n",
              "    }\n",
              "</style>\n",
              "<table border=\"1\" class=\"dataframe\">\n",
              "  <thead>\n",
              "    <tr style=\"text-align: right;\">\n",
              "      <th></th>\n",
              "      <th>gender</th>\n",
              "      <th>race/ethnicity</th>\n",
              "      <th>lunch</th>\n",
              "      <th>test preparation course</th>\n",
              "      <th>math score</th>\n",
              "      <th>reading score</th>\n",
              "      <th>writing score</th>\n",
              "    </tr>\n",
              "  </thead>\n",
              "  <tbody>\n",
              "    <tr>\n",
              "      <th>0</th>\n",
              "      <td>female</td>\n",
              "      <td>group B</td>\n",
              "      <td>standard</td>\n",
              "      <td>none</td>\n",
              "      <td>72</td>\n",
              "      <td>72</td>\n",
              "      <td>74</td>\n",
              "    </tr>\n",
              "    <tr>\n",
              "      <th>1</th>\n",
              "      <td>female</td>\n",
              "      <td>group C</td>\n",
              "      <td>standard</td>\n",
              "      <td>completed</td>\n",
              "      <td>69</td>\n",
              "      <td>90</td>\n",
              "      <td>88</td>\n",
              "    </tr>\n",
              "    <tr>\n",
              "      <th>2</th>\n",
              "      <td>female</td>\n",
              "      <td>group B</td>\n",
              "      <td>standard</td>\n",
              "      <td>none</td>\n",
              "      <td>90</td>\n",
              "      <td>95</td>\n",
              "      <td>93</td>\n",
              "    </tr>\n",
              "    <tr>\n",
              "      <th>3</th>\n",
              "      <td>male</td>\n",
              "      <td>group A</td>\n",
              "      <td>free/reduced</td>\n",
              "      <td>none</td>\n",
              "      <td>47</td>\n",
              "      <td>57</td>\n",
              "      <td>44</td>\n",
              "    </tr>\n",
              "    <tr>\n",
              "      <th>4</th>\n",
              "      <td>male</td>\n",
              "      <td>group C</td>\n",
              "      <td>standard</td>\n",
              "      <td>none</td>\n",
              "      <td>76</td>\n",
              "      <td>78</td>\n",
              "      <td>75</td>\n",
              "    </tr>\n",
              "  </tbody>\n",
              "</table>\n",
              "</div>"
            ],
            "text/plain": [
              "   gender race/ethnicity         lunch test preparation course  math score  \\\n",
              "0  female        group B      standard                    none          72   \n",
              "1  female        group C      standard               completed          69   \n",
              "2  female        group B      standard                    none          90   \n",
              "3    male        group A  free/reduced                    none          47   \n",
              "4    male        group C      standard                    none          76   \n",
              "\n",
              "   reading score  writing score  \n",
              "0             72             74  \n",
              "1             90             88  \n",
              "2             95             93  \n",
              "3             57             44  \n",
              "4             78             75  "
            ]
          },
          "execution_count": 4,
          "metadata": {},
          "output_type": "execute_result"
        }
      ],
      "source": [
        "X.head()"
      ]
    },
    {
      "cell_type": "code",
      "execution_count": null,
      "metadata": {
        "id": "-JXPJCaW3ASu",
        "outputId": "00d5397e-6c31-4894-cc69-4566e3e76373"
      },
      "outputs": [
        {
          "data": {
            "text/html": [
              "<div>\n",
              "<style scoped>\n",
              "    .dataframe tbody tr th:only-of-type {\n",
              "        vertical-align: middle;\n",
              "    }\n",
              "\n",
              "    .dataframe tbody tr th {\n",
              "        vertical-align: top;\n",
              "    }\n",
              "\n",
              "    .dataframe thead th {\n",
              "        text-align: right;\n",
              "    }\n",
              "</style>\n",
              "<table border=\"1\" class=\"dataframe\">\n",
              "  <thead>\n",
              "    <tr style=\"text-align: right;\">\n",
              "      <th></th>\n",
              "      <th>parental level of education</th>\n",
              "    </tr>\n",
              "  </thead>\n",
              "  <tbody>\n",
              "    <tr>\n",
              "      <th>0</th>\n",
              "      <td>bachelor's degree</td>\n",
              "    </tr>\n",
              "    <tr>\n",
              "      <th>1</th>\n",
              "      <td>some college</td>\n",
              "    </tr>\n",
              "    <tr>\n",
              "      <th>2</th>\n",
              "      <td>master's degree</td>\n",
              "    </tr>\n",
              "    <tr>\n",
              "      <th>3</th>\n",
              "      <td>associate's degree</td>\n",
              "    </tr>\n",
              "    <tr>\n",
              "      <th>4</th>\n",
              "      <td>some college</td>\n",
              "    </tr>\n",
              "  </tbody>\n",
              "</table>\n",
              "</div>"
            ],
            "text/plain": [
              "  parental level of education\n",
              "0           bachelor's degree\n",
              "1                some college\n",
              "2             master's degree\n",
              "3          associate's degree\n",
              "4                some college"
            ]
          },
          "execution_count": 5,
          "metadata": {},
          "output_type": "execute_result"
        }
      ],
      "source": [
        "Y.head()"
      ]
    },
    {
      "cell_type": "markdown",
      "metadata": {
        "id": "WLDaetBc3ASv"
      },
      "source": [
        "## Encoding Data"
      ]
    },
    {
      "cell_type": "code",
      "execution_count": null,
      "metadata": {
        "id": "cz3TlQeF3ASw",
        "outputId": "6ba461d1-6ff2-4313-feaa-64dc470fef1e"
      },
      "outputs": [
        {
          "data": {
            "text/plain": [
              "Index(['gender', 'race/ethnicity', 'parental level of education', 'lunch',\n",
              "       'test preparation course', 'math score', 'reading score',\n",
              "       'writing score'],\n",
              "      dtype='object')"
            ]
          },
          "execution_count": 6,
          "metadata": {},
          "output_type": "execute_result"
        }
      ],
      "source": [
        "df.columns"
      ]
    },
    {
      "cell_type": "code",
      "execution_count": null,
      "metadata": {
        "id": "Vg1M9YAT3ASy"
      },
      "outputs": [],
      "source": [
        "col = [0,1,2,3]\n",
        "transformer = [(\"hot\",OneHotEncoder(),col)]\n",
        "ct = ColumnTransformer(transformers=transformer,remainder=\"passthrough\")\n",
        "X_ct = pd.DataFrame(np.array(ct.fit_transform(X),dtype=str))\n",
        "\n",
        "\n",
        "enc_col_names = ct.named_transformers_[\"hot\"].get_feature_names_out()\n",
        "col_names = list(enc_col_names) + list(X.columns.drop(X.columns[col]))\n",
        "X_ct.columns = col_names\n",
        "X_ct[enc_col_names]=X_ct[enc_col_names].astype(float)\n"
      ]
    },
    {
      "cell_type": "code",
      "execution_count": null,
      "metadata": {
        "id": "d9FddWno3ASz"
      },
      "outputs": [],
      "source": [
        "X_ct\n",
        "\n",
        "#standard scale\n",
        "\n",
        "std = std()\n",
        "X_std = pd.DataFrame(std.fit_transform(X_ct),columns=X_ct.columns)\n"
      ]
    },
    {
      "cell_type": "code",
      "execution_count": null,
      "metadata": {
        "id": "8VVizp9B3AS0",
        "outputId": "0041d88a-151f-4dc7-d244-8508c8eb07b8"
      },
      "outputs": [
        {
          "data": {
            "text/plain": [
              "array([1, 4, 3, 0, 4, 0, 4, 4, 2, 2, 0, 0, 2, 4, 3, 5, 2, 5, 3, 0, 2, 4,\n",
              "       4, 5, 1, 3, 4, 1, 2, 3, 4, 4, 3, 4, 4, 0, 0, 5, 0, 0, 0, 0, 0, 4,\n",
              "       0, 0, 0, 2, 0, 2, 4, 0, 4, 2, 5, 2, 0, 0, 4, 5, 1, 5, 0, 0, 5, 5,\n",
              "       5, 4, 0, 0, 4, 4, 0, 5, 5, 0, 5, 1, 5, 3, 0, 2, 4, 0, 2, 4, 4, 0,\n",
              "       4, 5, 1, 2, 2, 0, 4, 0, 5, 4, 4, 1, 4, 1, 0, 2, 4, 4, 3, 0, 0, 5,\n",
              "       0, 2, 0, 4, 1, 2, 1, 1, 5, 4, 1, 0, 4, 2, 4, 2, 5, 4, 3, 1, 3, 5,\n",
              "       4, 4, 1, 1, 5, 2, 0, 4, 5, 4, 4, 2, 4, 4, 5, 0, 1, 0, 5, 1, 0, 1,\n",
              "       5, 4, 2, 4, 0, 0, 0, 4, 3, 2, 3, 1, 2, 3, 2, 4, 2, 5, 4, 0, 1, 3,\n",
              "       2, 0, 3, 5, 3, 4, 2, 0, 5, 0, 2, 5, 5, 1, 0, 4, 5, 4, 3, 0, 5, 2,\n",
              "       4, 1, 0, 4, 0, 0, 4, 5, 1, 2, 4, 4, 5, 4, 2, 0, 2, 5, 0, 2, 2, 5,\n",
              "       2, 0, 5, 5, 0, 3, 4, 2, 5, 4, 4, 0, 1, 5, 1, 0, 1, 5, 4, 0, 2, 1,\n",
              "       2, 4, 5, 0, 0, 2, 2, 2, 5, 4, 5, 3, 2, 4, 0, 0, 4, 3, 5, 4, 5, 2,\n",
              "       2, 5, 1, 2, 0, 4, 1, 4, 0, 4, 4, 1, 5, 2, 5, 1, 2, 2, 1, 4, 5, 0,\n",
              "       0, 5, 1, 5, 0, 5, 5, 1, 2, 0, 5, 0, 2, 0, 4, 5, 0, 0, 0, 4, 4, 5,\n",
              "       0, 2, 0, 1, 1, 0, 1, 2, 3, 0, 1, 0, 2, 2, 4, 5, 2, 4, 4, 4, 0, 5,\n",
              "       2, 0, 0, 0, 1, 4, 5, 0, 5, 5, 2, 2, 2, 0, 4, 2, 4, 1, 2, 0, 1, 4,\n",
              "       4, 0, 4, 1, 0, 4, 4, 4, 2, 5, 4, 5, 4, 1, 2, 1, 5, 5, 4, 4, 5, 4,\n",
              "       1, 0, 5, 3, 5, 1, 0, 0, 3, 5, 5, 4, 1, 0, 2, 3, 5, 4, 4, 0, 5, 2,\n",
              "       2, 0, 5, 5, 5, 4, 4, 2, 2, 5, 0, 0, 2, 0, 3, 4, 0, 5, 1, 2, 1, 0,\n",
              "       4, 2, 0, 2, 3, 5, 4, 4, 1, 5, 5, 5, 0, 2, 2, 5, 5, 4, 0, 0, 2, 5,\n",
              "       4, 2, 5, 0, 5, 5, 4, 2, 2, 0, 4, 4, 0, 4, 0, 1, 1, 0, 1, 2, 1, 4,\n",
              "       4, 4, 1, 4, 0, 2, 2, 4, 0, 2, 0, 5, 0, 1, 1, 0, 3, 0, 2, 0, 4, 2,\n",
              "       0, 2, 4, 0, 5, 0, 0, 0, 4, 1, 2, 2, 4, 4, 5, 4, 3, 0, 4, 0, 3, 5,\n",
              "       2, 1, 3, 1, 4, 5, 5, 5, 3, 5, 4, 4, 5, 2, 4, 0, 1, 3, 2, 4, 5, 2,\n",
              "       1, 0, 0, 5, 0, 0, 2, 1, 0, 2, 1, 0, 2, 0, 0, 0, 3, 5, 5, 2, 2, 3,\n",
              "       5, 1, 0, 4, 0, 4, 0, 3, 0, 5, 4, 4, 1, 4, 1, 0, 1, 3, 2, 1, 4, 1,\n",
              "       4, 2, 2, 0, 4, 2, 4, 3, 5, 5, 1, 0, 4, 0, 2, 1, 4, 5, 4, 5, 1, 2,\n",
              "       1, 1, 2, 5, 2, 5, 3, 2, 4, 2, 3, 5, 0, 3, 4, 0, 4, 4, 1, 0, 0, 2,\n",
              "       1, 1, 3, 0, 2, 1, 2, 4, 1, 4, 0, 0, 4, 5, 4, 2, 1, 2, 5, 2, 2, 5,\n",
              "       4, 0, 2, 0, 5, 2, 2, 1, 0, 2, 2, 4, 5, 2, 4, 0, 5, 4, 0, 5, 0, 0,\n",
              "       4, 5, 4, 2, 0, 5, 4, 1, 4, 0, 2, 0, 4, 0, 2, 4, 4, 5, 0, 4, 2, 2,\n",
              "       2, 5, 4, 3, 4, 0, 2, 4, 0, 0, 1, 0, 5, 4, 0, 1, 0, 2, 1, 5, 1, 4,\n",
              "       5, 1, 2, 4, 2, 0, 4, 5, 4, 3, 5, 0, 0, 0, 2, 0, 4, 5, 5, 2, 4, 4,\n",
              "       0, 5, 2, 4, 0, 5, 4, 5, 4, 3, 0, 4, 0, 2, 1, 0, 2, 0, 4, 0, 2, 4,\n",
              "       1, 4, 5, 4, 3, 5, 0, 0, 4, 1, 4, 4, 2, 5, 5, 2, 4, 2, 2, 2, 5, 4,\n",
              "       2, 1, 5, 1, 4, 5, 2, 4, 4, 0, 0, 3, 2, 0, 1, 5, 5, 4, 0, 3, 2, 4,\n",
              "       2, 5, 2, 0, 2, 0, 4, 0, 5, 5, 0, 4, 4, 4, 4, 2, 2, 1, 5, 2, 3, 5,\n",
              "       2, 5, 1, 1, 2, 5, 5, 1, 4, 2, 5, 2, 0, 5, 5, 5, 4, 1, 1, 2, 4, 2,\n",
              "       2, 2, 0, 0, 2, 5, 2, 4, 5, 3, 3, 2, 2, 0, 3, 2, 4, 5, 5, 1, 4, 1,\n",
              "       2, 0, 0, 3, 1, 4, 0, 4, 2, 0, 0, 0, 2, 4, 0, 0, 1, 4, 4, 5, 5, 0,\n",
              "       1, 1, 2, 1, 0, 0, 0, 2, 4, 2, 4, 0, 3, 5, 0, 5, 2, 5, 0, 5, 3, 3,\n",
              "       2, 1, 5, 4, 2, 4, 1, 1, 1, 4, 1, 1, 0, 4, 1, 2, 0, 4, 2, 2, 2, 0,\n",
              "       2, 5, 0, 2, 0, 5, 4, 4, 0, 1, 0, 4, 0, 2, 4, 5, 3, 3, 2, 5, 2, 0,\n",
              "       2, 4, 5, 2, 2, 4, 5, 2, 4, 0, 4, 3, 2, 2, 4, 5, 0, 5, 4, 4, 5, 4,\n",
              "       0, 1, 1, 5, 2, 4, 4, 4, 4, 0, 2, 0, 2, 5, 5, 4, 5, 2, 0, 5, 5, 4,\n",
              "       2, 5, 0, 1, 2, 3, 2, 2, 4, 4], dtype=int64)"
            ]
          },
          "execution_count": 10,
          "metadata": {},
          "output_type": "execute_result"
        }
      ],
      "source": [
        "le = LabelEncoder()\n",
        "Y = le.fit_transform(Y)\n",
        "\n",
        "Y"
      ]
    },
    {
      "cell_type": "code",
      "execution_count": null,
      "metadata": {
        "id": "a8A6H3HP3AS2",
        "outputId": "cbb54a4c-1cbb-4519-d597-85fa9d6c67ab"
      },
      "outputs": [
        {
          "name": "stdout",
          "output_type": "stream",
          "text": [
            "<class 'pandas.core.frame.DataFrame'>\n",
            "RangeIndex: 1000 entries, 0 to 999\n",
            "Data columns (total 14 columns):\n",
            " #   Column                             Non-Null Count  Dtype  \n",
            "---  ------                             --------------  -----  \n",
            " 0   gender_female                      1000 non-null   float64\n",
            " 1   gender_male                        1000 non-null   float64\n",
            " 2   race/ethnicity_group A             1000 non-null   float64\n",
            " 3   race/ethnicity_group B             1000 non-null   float64\n",
            " 4   race/ethnicity_group C             1000 non-null   float64\n",
            " 5   race/ethnicity_group D             1000 non-null   float64\n",
            " 6   race/ethnicity_group E             1000 non-null   float64\n",
            " 7   lunch_free/reduced                 1000 non-null   float64\n",
            " 8   lunch_standard                     1000 non-null   float64\n",
            " 9   test preparation course_completed  1000 non-null   float64\n",
            " 10  test preparation course_none       1000 non-null   float64\n",
            " 11  math score                         1000 non-null   float64\n",
            " 12  reading score                      1000 non-null   float64\n",
            " 13  writing score                      1000 non-null   float64\n",
            "dtypes: float64(14)\n",
            "memory usage: 109.5 KB\n"
          ]
        }
      ],
      "source": [
        "X_std.info()"
      ]
    },
    {
      "cell_type": "markdown",
      "metadata": {
        "id": "rnKsB_et3AS3"
      },
      "source": [
        "## Train Test Split"
      ]
    },
    {
      "cell_type": "code",
      "execution_count": null,
      "metadata": {
        "id": "fUdwolwA3AS4"
      },
      "outputs": [],
      "source": [
        "X_train,X_test,y_train,y_test = train_test_split(X_std,Y,test_size=0.2)"
      ]
    },
    {
      "cell_type": "markdown",
      "metadata": {
        "id": "1RlFn4G63AS4"
      },
      "source": [
        "## Check Correlation"
      ]
    },
    {
      "cell_type": "code",
      "execution_count": null,
      "metadata": {
        "id": "Go7zC69S3AS5"
      },
      "outputs": [],
      "source": [
        "import matplotlib.pyplot as plt\n",
        "\n",
        "def corr_heatmap(df):\n",
        "  corr = df.corr()\n",
        "  plt.figure(figsize=(15,8))\n",
        "  caxes = plt.matshow(corr,fignum=1)\n",
        "  plt.colorbar(caxes)\n",
        "  plt.xticks(range(len(corr.columns)),corr.columns,rotation=90)\n",
        "  plt.yticks(range(len(corr.columns)),corr.columns)\n",
        "  plt.show()"
      ]
    },
    {
      "cell_type": "code",
      "execution_count": null,
      "metadata": {
        "id": "ihxj1sgo3AS6",
        "outputId": "e41b7858-1cd3-4ae2-ae82-c449125ddad0"
      },
      "outputs": [
        {
          "data": {
            "image/png": "[encoded data removed]",
            "text/plain": [
              "<Figure size 1080x576 with 2 Axes>"
            ]
          },
          "metadata": {
            "needs_background": "light"
          },
          "output_type": "display_data"
        }
      ],
      "source": [
        "corr_heatmap(X_ct)"
      ]
    },
    {
      "cell_type": "markdown",
      "metadata": {
        "id": "b18SwhVI3AS7"
      },
      "source": [
        "## Simple Linear Regression to check RMSE"
      ]
    },
    {
      "cell_type": "code",
      "execution_count": null,
      "metadata": {
        "id": "jHNr68CN3AS8"
      },
      "outputs": [],
      "source": [
        "from sklearn.multioutput import MultiOutputRegressor\n",
        "from sklearn.linear_model import LinearRegression\n",
        "import numpy as np\n",
        "from sklearn.metrics import mean_squared_error\n",
        "\n",
        "regressor = LinearRegression()\n",
        "\n",
        "multi_regressor = MultiOutputRegressor(regressor)\n",
        "\n",
        "multi_regressor.fit(X_train,y_train)\n",
        "\n",
        "y_pred = multi_regressor.predict(X_test)\n",
        "y_pred_rounded = np.round(y_pred)\n",
        "\n",
        "print(\"MSE before rounding : \",mean_squared_error(y_test,y_pred))\n",
        "print(\"MSE after rounding : \",mean_squared_error(y_test,y_pred_rounded))\n"
      ]
    },
    {
      "cell_type": "code",
      "execution_count": null,
      "metadata": {
        "id": "ixTU8Tip3AS9",
        "outputId": "cf638f18-2d9c-40ab-ad3b-94d08e920bfa"
      },
      "outputs": [
        {
          "name": "stdout",
          "output_type": "stream",
          "text": [
            "MSE before rounding :  230.40502421318843\n",
            "MSE after rounding :  230.415\n"
          ]
        }
      ],
      "source": [
        "from sklearn.ensemble import RandomForestRegressor\n",
        "\n",
        "regressor = RandomForestRegressor()\n",
        "\n",
        "multi_regressor = MultiOutputRegressor(regressor)\n",
        "\n",
        "multi_regressor.fit(X_train,y_train)\n",
        "\n",
        "y_pred = multi_regressor.predict(X_test)\n",
        "y_pred_rounded = np.round(y_pred)\n",
        "\n",
        "print(\"MSE before rounding : \",mean_squared_error(y_test,y_pred))\n",
        "print(\"MSE after rounding : \",mean_squared_error(y_test,y_pred_rounded))\n"
      ]
    },
    {
      "cell_type": "code",
      "execution_count": null,
      "metadata": {
        "id": "ooL12wIi3AS-"
      },
      "outputs": [],
      "source": [
        "X_std[\"Parent Level of Education\"] = Y\n",
        "\n",
        "X_std.to_csv(\"data\\StudentsPerformance_processed.csv\",index=False)"
      ]
    },
    {
      "cell_type": "code",
      "execution_count": null,
      "metadata": {
        "id": "XCSlXaNd3AS_"
      },
      "outputs": [],
      "source": []
    }
  ],
  "metadata": {
    "kernelspec": {
      "display_name": "Python 3",
      "language": "python",
      "name": "python3"
    },
    "language_info": {
      "codemirror_mode": {
        "name": "ipython",
        "version": 3
      },
      "file_extension": ".py",
      "mimetype": "text/x-python",
      "name": "python",
      "nbconvert_exporter": "python",
      "pygments_lexer": "ipython3",
      "version": "3.9.7"
    },
    "orig_nbformat": 4,
    "vscode": {
      "interpreter": {
        "hash": "865d8b2eb28e274047ba64063dfb6a2aabf0dfec4905d304d7a76618dae6fdd4"
      }
    },
    "colab": {
      "provenance": []
    }
  },
  "nbformat": 4,
  "nbformat_minor": 0
}