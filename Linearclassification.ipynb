{
  "cells": [
    {
      "cell_type": "code",
      "execution_count": null,
      "metadata": {
        "id": "17U2yUCr3Txz"
      },
      "outputs": [],
      "source": [
        "import pandas as pd\n",
        "import numpy as np\n",
        "from sklearn.model_selection import train_test_split\n",
        "from sklearn.linear_model import LogisticRegression\n",
        "from sklearn.tree import DecisionTreeClassifier\n",
        "from sklearn.ensemble import RandomForestClassifier\n",
        "from sklearn.metrics import accuracy_score,r2_score,recall_score,precision_score,roc_auc_score,confusion_matrix\n",
        "from sklearn.model_selection import RandomizedSearchCV\n",
        "import matplotlib.pyplot as plt\n",
        "import seaborn as sns\n",
        "import warnings\n",
        "warnings.filterwarnings('ignore')\n"
      ]
    },
    {
      "cell_type": "code",
      "execution_count": null,
      "metadata": {
        "id": "He3yuz073Tx1",
        "outputId": "ef7aba5f-e406-429a-f80e-b69b63a89711"
      },
      "outputs": [
        {
          "name": "stdout",
          "output_type": "stream",
          "text": [
            "(145460, 23)\n"
          ]
        },
        {
          "data": {
            "text/html": [
              "<div>\n",
              "<style scoped>\n",
              "    .dataframe tbody tr th:only-of-type {\n",
              "        vertical-align: middle;\n",
              "    }\n",
              "\n",
              "    .dataframe tbody tr th {\n",
              "        vertical-align: top;\n",
              "    }\n",
              "\n",
              "    .dataframe thead th {\n",
              "        text-align: right;\n",
              "    }\n",
              "</style>\n",
              "<table border=\"1\" class=\"dataframe\">\n",
              "  <thead>\n",
              "    <tr style=\"text-align: right;\">\n",
              "      <th></th>\n",
              "      <th>Date</th>\n",
              "      <th>Location</th>\n",
              "      <th>MinTemp</th>\n",
              "      <th>MaxTemp</th>\n",
              "      <th>Rainfall</th>\n",
              "      <th>Evaporation</th>\n",
              "      <th>Sunshine</th>\n",
              "      <th>WindGustDir</th>\n",
              "      <th>WindGustSpeed</th>\n",
              "      <th>WindDir9am</th>\n",
              "      <th>...</th>\n",
              "      <th>Humidity9am</th>\n",
              "      <th>Humidity3pm</th>\n",
              "      <th>Pressure9am</th>\n",
              "      <th>Pressure3pm</th>\n",
              "      <th>Cloud9am</th>\n",
              "      <th>Cloud3pm</th>\n",
              "      <th>Temp9am</th>\n",
              "      <th>Temp3pm</th>\n",
              "      <th>RainToday</th>\n",
              "      <th>RainTomorrow</th>\n",
              "    </tr>\n",
              "  </thead>\n",
              "  <tbody>\n",
              "    <tr>\n",
              "      <th>0</th>\n",
              "      <td>2008-12-01</td>\n",
              "      <td>Albury</td>\n",
              "      <td>13.4</td>\n",
              "      <td>22.9</td>\n",
              "      <td>0.6</td>\n",
              "      <td>NaN</td>\n",
              "      <td>NaN</td>\n",
              "      <td>W</td>\n",
              "      <td>44.0</td>\n",
              "      <td>W</td>\n",
              "      <td>...</td>\n",
              "      <td>71.0</td>\n",
              "      <td>22.0</td>\n",
              "      <td>1007.7</td>\n",
              "      <td>1007.1</td>\n",
              "      <td>8.0</td>\n",
              "      <td>NaN</td>\n",
              "      <td>16.9</td>\n",
              "      <td>21.8</td>\n",
              "      <td>No</td>\n",
              "      <td>No</td>\n",
              "    </tr>\n",
              "    <tr>\n",
              "      <th>1</th>\n",
              "      <td>2008-12-02</td>\n",
              "      <td>Albury</td>\n",
              "      <td>7.4</td>\n",
              "      <td>25.1</td>\n",
              "      <td>0.0</td>\n",
              "      <td>NaN</td>\n",
              "      <td>NaN</td>\n",
              "      <td>WNW</td>\n",
              "      <td>44.0</td>\n",
              "      <td>NNW</td>\n",
              "      <td>...</td>\n",
              "      <td>44.0</td>\n",
              "      <td>25.0</td>\n",
              "      <td>1010.6</td>\n",
              "      <td>1007.8</td>\n",
              "      <td>NaN</td>\n",
              "      <td>NaN</td>\n",
              "      <td>17.2</td>\n",
              "      <td>24.3</td>\n",
              "      <td>No</td>\n",
              "      <td>No</td>\n",
              "    </tr>\n",
              "    <tr>\n",
              "      <th>2</th>\n",
              "      <td>2008-12-03</td>\n",
              "      <td>Albury</td>\n",
              "      <td>12.9</td>\n",
              "      <td>25.7</td>\n",
              "      <td>0.0</td>\n",
              "      <td>NaN</td>\n",
              "      <td>NaN</td>\n",
              "      <td>WSW</td>\n",
              "      <td>46.0</td>\n",
              "      <td>W</td>\n",
              "      <td>...</td>\n",
              "      <td>38.0</td>\n",
              "      <td>30.0</td>\n",
              "      <td>1007.6</td>\n",
              "      <td>1008.7</td>\n",
              "      <td>NaN</td>\n",
              "      <td>2.0</td>\n",
              "      <td>21.0</td>\n",
              "      <td>23.2</td>\n",
              "      <td>No</td>\n",
              "      <td>No</td>\n",
              "    </tr>\n",
              "    <tr>\n",
              "      <th>3</th>\n",
              "      <td>2008-12-04</td>\n",
              "      <td>Albury</td>\n",
              "      <td>9.2</td>\n",
              "      <td>28.0</td>\n",
              "      <td>0.0</td>\n",
              "      <td>NaN</td>\n",
              "      <td>NaN</td>\n",
              "      <td>NE</td>\n",
              "      <td>24.0</td>\n",
              "      <td>SE</td>\n",
              "      <td>...</td>\n",
              "      <td>45.0</td>\n",
              "      <td>16.0</td>\n",
              "      <td>1017.6</td>\n",
              "      <td>1012.8</td>\n",
              "      <td>NaN</td>\n",
              "      <td>NaN</td>\n",
              "      <td>18.1</td>\n",
              "      <td>26.5</td>\n",
              "      <td>No</td>\n",
              "      <td>No</td>\n",
              "    </tr>\n",
              "    <tr>\n",
              "      <th>4</th>\n",
              "      <td>2008-12-05</td>\n",
              "      <td>Albury</td>\n",
              "      <td>17.5</td>\n",
              "      <td>32.3</td>\n",
              "      <td>1.0</td>\n",
              "      <td>NaN</td>\n",
              "      <td>NaN</td>\n",
              "      <td>W</td>\n",
              "      <td>41.0</td>\n",
              "      <td>ENE</td>\n",
              "      <td>...</td>\n",
              "      <td>82.0</td>\n",
              "      <td>33.0</td>\n",
              "      <td>1010.8</td>\n",
              "      <td>1006.0</td>\n",
              "      <td>7.0</td>\n",
              "      <td>8.0</td>\n",
              "      <td>17.8</td>\n",
              "      <td>29.7</td>\n",
              "      <td>No</td>\n",
              "      <td>No</td>\n",
              "    </tr>\n",
              "  </tbody>\n",
              "</table>\n",
              "<p>5 rows × 23 columns</p>\n",
              "</div>"
            ],
            "text/plain": [
              "         Date Location  MinTemp  MaxTemp  Rainfall  Evaporation  Sunshine  \\\n",
              "0  2008-12-01   Albury     13.4     22.9       0.6          NaN       NaN   \n",
              "1  2008-12-02   Albury      7.4     25.1       0.0          NaN       NaN   \n",
              "2  2008-12-03   Albury     12.9     25.7       0.0          NaN       NaN   \n",
              "3  2008-12-04   Albury      9.2     28.0       0.0          NaN       NaN   \n",
              "4  2008-12-05   Albury     17.5     32.3       1.0          NaN       NaN   \n",
              "\n",
              "  WindGustDir  WindGustSpeed WindDir9am  ... Humidity9am  Humidity3pm  \\\n",
              "0           W           44.0          W  ...        71.0         22.0   \n",
              "1         WNW           44.0        NNW  ...        44.0         25.0   \n",
              "2         WSW           46.0          W  ...        38.0         30.0   \n",
              "3          NE           24.0         SE  ...        45.0         16.0   \n",
              "4           W           41.0        ENE  ...        82.0         33.0   \n",
              "\n",
              "   Pressure9am  Pressure3pm  Cloud9am  Cloud3pm  Temp9am  Temp3pm  RainToday  \\\n",
              "0       1007.7       1007.1       8.0       NaN     16.9     21.8         No   \n",
              "1       1010.6       1007.8       NaN       NaN     17.2     24.3         No   \n",
              "2       1007.6       1008.7       NaN       2.0     21.0     23.2         No   \n",
              "3       1017.6       1012.8       NaN       NaN     18.1     26.5         No   \n",
              "4       1010.8       1006.0       7.0       8.0     17.8     29.7         No   \n",
              "\n",
              "   RainTomorrow  \n",
              "0            No  \n",
              "1            No  \n",
              "2            No  \n",
              "3            No  \n",
              "4            No  \n",
              "\n",
              "[5 rows x 23 columns]"
            ]
          },
          "execution_count": 2,
          "metadata": {},
          "output_type": "execute_result"
        }
      ],
      "source": [
        "df = pd.read_csv(\"data/weatherAUS.csv\")\n",
        "print(df.shape)\n",
        "df.head()"
      ]
    },
    {
      "cell_type": "markdown",
      "metadata": {
        "id": "5tMX0-Rl3Tx2"
      },
      "source": [
        "# Exploratory Data Analysis"
      ]
    },
    {
      "cell_type": "markdown",
      "metadata": {
        "id": "tP9NDnZc3Tx4"
      },
      "source": [
        "## 1. Find number of catergorical columns and numerical columns"
      ]
    },
    {
      "cell_type": "code",
      "execution_count": null,
      "metadata": {
        "id": "LbBt5o9W3Tx4",
        "outputId": "370f183e-7702-4bc4-add1-b29d6cb5256d"
      },
      "outputs": [
        {
          "name": "stdout",
          "output_type": "stream",
          "text": [
            "Categorical columns:  ['Date', 'Location', 'WindGustDir', 'WindDir9am', 'WindDir3pm', 'RainToday', 'RainTomorrow']\n",
            "Numerical columns:  ['MinTemp', 'MaxTemp', 'Rainfall', 'Evaporation', 'Sunshine', 'WindGustSpeed', 'WindSpeed9am', 'WindSpeed3pm', 'Humidity9am', 'Humidity3pm', 'Pressure9am', 'Pressure3pm', 'Cloud9am', 'Cloud3pm', 'Temp9am', 'Temp3pm']\n",
            "\n",
            "Number of categorical columns:  7\n",
            "Number of numerical columns:  16\n"
          ]
        }
      ],
      "source": [
        "# find number of catergorical columns and numerical columns\n",
        "\n",
        "categorical_columns = [col for col in df.columns if df[col].dtype == 'object']\n",
        "numerical_columns = [col for col in df.columns if df[col].dtype != 'object']\n",
        "\n",
        "print(\"Categorical columns: \",categorical_columns)\n",
        "print(\"Numerical columns: \",numerical_columns)\n",
        "print()\n",
        "print(\"Number of categorical columns: \",len(categorical_columns))\n",
        "print(\"Number of numerical columns: \",len(numerical_columns))"
      ]
    },
    {
      "cell_type": "markdown",
      "metadata": {
        "id": "gtrUdL_63Tx5"
      },
      "source": [
        "## 2. Identify the percentage of missing values ​​in both categorical and numerical features"
      ]
    },
    {
      "cell_type": "code",
      "execution_count": null,
      "metadata": {
        "id": "_gJaBbgW3Tx6",
        "outputId": "b32053d1-0e69-40d6-ac08-30c87718a06b"
      },
      "outputs": [
        {
          "name": "stdout",
          "output_type": "stream",
          "text": [
            "Column : Date Ratio : 0.0 No of Nulls : 0 Total number of values : 145460\n",
            "Column : Location Ratio : 0.0 No of Nulls : 0 Total number of values : 145460\n",
            "Column : MinTemp Ratio : 0.010208992162793895 No of Nulls : 1485 Total number of values : 145460\n",
            "Column : MaxTemp Ratio : 0.008669049910628352 No of Nulls : 1261 Total number of values : 145460\n",
            "Column : Rainfall Ratio : 0.022418534304963565 No of Nulls : 3261 Total number of values : 145460\n",
            "Column : Evaporation Ratio : 0.43166506256015397 No of Nulls : 62790 Total number of values : 145460\n",
            "Column : Sunshine Ratio : 0.48009762133919975 No of Nulls : 69835 Total number of values : 145460\n",
            "Column : WindGustDir Ratio : 0.0709885879279527 No of Nulls : 10326 Total number of values : 145460\n",
            "Column : WindGustSpeed Ratio : 0.07055547916953114 No of Nulls : 10263 Total number of values : 145460\n",
            "Column : WindDir9am Ratio : 0.07263852605527293 No of Nulls : 10566 Total number of values : 145460\n",
            "Column : WindDir3pm Ratio : 0.02906641000962464 No of Nulls : 4228 Total number of values : 145460\n",
            "Column : WindSpeed9am Ratio : 0.01214766946239516 No of Nulls : 1767 Total number of values : 145460\n",
            "Column : WindSpeed3pm Ratio : 0.02105046060772721 No of Nulls : 3062 Total number of values : 145460\n",
            "Column : Humidity9am Ratio : 0.018245565791282826 No of Nulls : 2654 Total number of values : 145460\n",
            "Column : Humidity3pm Ratio : 0.0309844630826344 No of Nulls : 4507 Total number of values : 145460\n",
            "Column : Pressure9am Ratio : 0.10356799120032999 No of Nulls : 15065 Total number of values : 145460\n",
            "Column : Pressure3pm Ratio : 0.10331362573903478 No of Nulls : 15028 Total number of values : 145460\n",
            "Column : Cloud9am Ratio : 0.3842155919153032 No of Nulls : 55888 Total number of values : 145460\n",
            "Column : Cloud3pm Ratio : 0.40807094733947474 No of Nulls : 59358 Total number of values : 145460\n",
            "Column : Temp9am Ratio : 0.01214766946239516 No of Nulls : 1767 Total number of values : 145460\n",
            "Column : Temp3pm Ratio : 0.02481094458957789 No of Nulls : 3609 Total number of values : 145460\n",
            "Column : RainToday Ratio : 0.022418534304963565 No of Nulls : 3261 Total number of values : 145460\n",
            "Column : RainTomorrow Ratio : 0.02245978275814657 No of Nulls : 3267 Total number of values : 145460\n"
          ]
        }
      ],
      "source": [
        "# ratio of missing values in each column\n",
        "number = df.isna().sum()\n",
        "ratio = df.isna().sum()/df.shape[0]\n",
        "# print column name and ratio\n",
        "for i,j,k in zip(ratio.index,ratio,number):\n",
        "    print(f\"Column : {i} Ratio : {j} No of Nulls : {k} Total number of values : {len(df[i])}\")"
      ]
    },
    {
      "cell_type": "markdown",
      "metadata": {
        "id": "2dttTjh-3Tx6"
      },
      "source": [
        "## 3. Handle missing values in categorical and numerical features"
      ]
    },
    {
      "cell_type": "code",
      "execution_count": null,
      "metadata": {
        "id": "Ew-0krXN3Tx7",
        "outputId": "998eae48-4419-48cf-828d-795df763185e"
      },
      "outputs": [
        {
          "name": "stdout",
          "output_type": "stream",
          "text": [
            "Evaporation\n",
            "Sunshine\n",
            "Cloud3pm\n",
            "(145460, 19)\n"
          ]
        }
      ],
      "source": [
        "# print columns with more than 40% missing values\n",
        "for i,j in zip(ratio.index,ratio):\n",
        "    if j>=0.4:\n",
        "        print(i)\n",
        "\n",
        "# remove columns with more than 50% missing values\n",
        "df_new = df.drop(['Sunshine','Evaporation','Cloud3pm','Cloud9am'],axis=1)\n",
        "print(df_new.shape)\n",
        "categorical_columns = [col for col in df_new.columns if df_new[col].dtype == 'object']\n",
        "numerical_columns = [col for col in df_new.columns if df_new[col].dtype != 'object']"
      ]
    },
    {
      "cell_type": "code",
      "execution_count": null,
      "metadata": {
        "id": "RiUNFakh3Tx7",
        "outputId": "d7904b3e-4d9a-42e9-b0cc-4935f700ea05"
      },
      "outputs": [
        {
          "data": {
            "text/plain": [
              "Date             0\n",
              "Location         0\n",
              "MinTemp          0\n",
              "MaxTemp          0\n",
              "Rainfall         0\n",
              "WindGustDir      0\n",
              "WindGustSpeed    0\n",
              "WindDir9am       0\n",
              "WindDir3pm       0\n",
              "WindSpeed9am     0\n",
              "WindSpeed3pm     0\n",
              "Humidity9am      0\n",
              "Humidity3pm      0\n",
              "Pressure9am      0\n",
              "Pressure3pm      0\n",
              "Temp9am          0\n",
              "Temp3pm          0\n",
              "RainToday        0\n",
              "RainTomorrow     0\n",
              "dtype: int64"
            ]
          },
          "execution_count": 6,
          "metadata": {},
          "output_type": "execute_result"
        }
      ],
      "source": [
        "#fill mode for catergorical columns and mean for numerical columns\n",
        "for i in categorical_columns:\n",
        "    df_new[i].fillna(df_new[i].mode()[0],inplace=True)\n",
        "for i in numerical_columns:\n",
        "    df_new[i].fillna(df_new[i].mean(),inplace=True)\n",
        "\n",
        "# check if there are any missing values\n",
        "df_new.isna().sum()"
      ]
    },
    {
      "cell_type": "markdown",
      "metadata": {
        "id": "Xk44SmcV3Tx8"
      },
      "source": [
        "## Identify which of the numerical features contains outliers and visualize it using Boxplots"
      ]
    },
    {
      "cell_type": "code",
      "execution_count": null,
      "metadata": {
        "id": "Cn2C4Su13Tx9",
        "outputId": "5fd20942-c10f-4f6e-ac43-3f61c1be6e4d"
      },
      "outputs": [
        {
          "data": {
            "text/plain": [
              "12"
            ]
          },
          "execution_count": 7,
          "metadata": {},
          "output_type": "execute_result"
        },
        {
          "data": {
            "image/png": "[encoded data removed]",
            "text/plain": [
              "<Figure size 1440x1440 with 12 Axes>"
            ]
          },
          "metadata": {
            "needs_background": "light"
          },
          "output_type": "display_data"
        }
      ],
      "source": [
        "#use subplots and plot boxplot for numerical columns with column names in x axis\n",
        "fig,ax = plt.subplots(4,3,figsize=(20,20))\n",
        "for i,j in zip(numerical_columns,ax.flatten()):\n",
        "    sns.boxplot(df_new[i],ax=j)\n",
        "    j.set_title(i)\n",
        "len(numerical_columns)"
      ]
    },
    {
      "cell_type": "markdown",
      "metadata": {
        "id": "X-zOwFB63Tx9"
      },
      "source": [
        "## Handle the outliers"
      ]
    },
    {
      "cell_type": "code",
      "execution_count": null,
      "metadata": {
        "id": "q9Ctu8RH3Tx-",
        "outputId": "64355097-4678-457f-987d-76d42e363cf0"
      },
      "outputs": [
        {
          "name": "stdout",
          "output_type": "stream",
          "text": [
            "(109828, 19)\n"
          ]
        }
      ],
      "source": [
        "# Using interquartile range to find outliers and remove them\n",
        "for col in numerical_columns:\n",
        "    q1 = df_new[col].quantile(0.25)\n",
        "    q3 = df_new[col].quantile(0.75)\n",
        "    iqr = q3-q1\n",
        "    lower_bound = q1 - (1.5*iqr)\n",
        "    upper_bound = q3 + (1.5*iqr)\n",
        "    df_new = df_new[(df_new[col]>lower_bound) & (df_new[col]<upper_bound)]\n",
        "print(df_new.shape)"
      ]
    },
    {
      "cell_type": "code",
      "execution_count": null,
      "metadata": {
        "id": "_9bvA81V3Tx-",
        "outputId": "1d4befbb-c85b-4429-b678-992a66b071d3"
      },
      "outputs": [
        {
          "data": {
            "image/png": "[encoded data removed]",
            "text/plain": [
              "<Figure size 1440x1440 with 12 Axes>"
            ]
          },
          "metadata": {
            "needs_background": "light"
          },
          "output_type": "display_data"
        }
      ],
      "source": [
        "# ploting box plot again\n",
        "fig,ax = plt.subplots(4,3,figsize=(20,20))\n",
        "for i,j in zip(numerical_columns,ax.flatten()):\n",
        "    sns.boxplot(df_new[i],ax=j)\n",
        "    j.set_title(i)\n",
        "\n"
      ]
    },
    {
      "cell_type": "markdown",
      "metadata": {
        "id": "agvRfxTN3Tx_"
      },
      "source": [
        "# Classification model training and result analysis"
      ]
    },
    {
      "cell_type": "code",
      "execution_count": null,
      "metadata": {
        "id": "5hHnWmRS3Tx_"
      },
      "outputs": [],
      "source": [
        "# creating logistic regression model and naive bayes model\n",
        "# Display the Classification error, Precision, Recall , F1 score and  Specificity scores for the model\n",
        "import warnings\n",
        "warnings.filterwarnings('ignore')\n",
        "from sklearn.naive_bayes import GaussianNB\n",
        "from sklearn.linear_model import LogisticRegression\n",
        "from sklearn.metrics import accuracy_score,recall_score,precision_score\n",
        "from sklearn.metrics import f1_score,confusion_matrix,classification_report\n",
        "from sklearn.metrics import roc_auc_score,roc_curve\n",
        "from sklearn.preprocessing import LabelEncoder"
      ]
    },
    {
      "cell_type": "code",
      "execution_count": null,
      "metadata": {
        "id": "StCeXvdX3Tx_"
      },
      "outputs": [],
      "source": [
        "#split the dataset into train and test\n",
        "X = df_new.drop(['RainTomorrow','Date'],axis=1)\n",
        "# get dummies for categorical columns\n",
        "categorical_columns = [col for col in X.columns if X[col].dtype == 'object']\n",
        "X = pd.get_dummies(X,columns=categorical_columns)\n",
        "y = df_new['RainTomorrow']\n",
        "label = LabelEncoder()\n",
        "y = label.fit_transform(y)\n",
        "\n",
        "ndf = X.copy()\n",
        "ndf['RainTomorrow'] = y\n",
        "ndf.to_csv('data/processeddata.csv',index=False)"
      ]
    },
    {
      "cell_type": "code",
      "execution_count": null,
      "metadata": {
        "id": "iBuRgcUl3TyA",
        "outputId": "d1f31862-db9e-4fd8-9adc-debb493e462c"
      },
      "outputs": [
        {
          "data": {
            "text/html": [
              "<div>\n",
              "<style scoped>\n",
              "    .dataframe tbody tr th:only-of-type {\n",
              "        vertical-align: middle;\n",
              "    }\n",
              "\n",
              "    .dataframe tbody tr th {\n",
              "        vertical-align: top;\n",
              "    }\n",
              "\n",
              "    .dataframe thead th {\n",
              "        text-align: right;\n",
              "    }\n",
              "</style>\n",
              "<table border=\"1\" class=\"dataframe\">\n",
              "  <thead>\n",
              "    <tr style=\"text-align: right;\">\n",
              "      <th></th>\n",
              "      <th>MinTemp</th>\n",
              "      <th>MaxTemp</th>\n",
              "      <th>Rainfall</th>\n",
              "      <th>WindGustSpeed</th>\n",
              "      <th>WindSpeed9am</th>\n",
              "      <th>WindSpeed3pm</th>\n",
              "      <th>Humidity9am</th>\n",
              "      <th>Humidity3pm</th>\n",
              "      <th>Pressure9am</th>\n",
              "      <th>Pressure3pm</th>\n",
              "      <th>...</th>\n",
              "      <th>WindDir3pm_S</th>\n",
              "      <th>WindDir3pm_SE</th>\n",
              "      <th>WindDir3pm_SSE</th>\n",
              "      <th>WindDir3pm_SSW</th>\n",
              "      <th>WindDir3pm_SW</th>\n",
              "      <th>WindDir3pm_W</th>\n",
              "      <th>WindDir3pm_WNW</th>\n",
              "      <th>WindDir3pm_WSW</th>\n",
              "      <th>RainToday_No</th>\n",
              "      <th>RainToday_Yes</th>\n",
              "    </tr>\n",
              "  </thead>\n",
              "  <tbody>\n",
              "    <tr>\n",
              "      <th>91177</th>\n",
              "      <td>7.7</td>\n",
              "      <td>24.0</td>\n",
              "      <td>0.0</td>\n",
              "      <td>31.0</td>\n",
              "      <td>11.0</td>\n",
              "      <td>17.0</td>\n",
              "      <td>63.0</td>\n",
              "      <td>41.0</td>\n",
              "      <td>1023.10000</td>\n",
              "      <td>1019.600000</td>\n",
              "      <td>...</td>\n",
              "      <td>0</td>\n",
              "      <td>0</td>\n",
              "      <td>0</td>\n",
              "      <td>0</td>\n",
              "      <td>0</td>\n",
              "      <td>0</td>\n",
              "      <td>0</td>\n",
              "      <td>0</td>\n",
              "      <td>1</td>\n",
              "      <td>0</td>\n",
              "    </tr>\n",
              "    <tr>\n",
              "      <th>125903</th>\n",
              "      <td>12.6</td>\n",
              "      <td>26.3</td>\n",
              "      <td>0.6</td>\n",
              "      <td>43.0</td>\n",
              "      <td>15.0</td>\n",
              "      <td>13.0</td>\n",
              "      <td>74.0</td>\n",
              "      <td>37.0</td>\n",
              "      <td>1017.64994</td>\n",
              "      <td>1015.255889</td>\n",
              "      <td>...</td>\n",
              "      <td>0</td>\n",
              "      <td>0</td>\n",
              "      <td>1</td>\n",
              "      <td>0</td>\n",
              "      <td>0</td>\n",
              "      <td>0</td>\n",
              "      <td>0</td>\n",
              "      <td>0</td>\n",
              "      <td>1</td>\n",
              "      <td>0</td>\n",
              "    </tr>\n",
              "    <tr>\n",
              "      <th>92617</th>\n",
              "      <td>7.9</td>\n",
              "      <td>22.6</td>\n",
              "      <td>0.0</td>\n",
              "      <td>28.0</td>\n",
              "      <td>7.0</td>\n",
              "      <td>20.0</td>\n",
              "      <td>48.0</td>\n",
              "      <td>52.0</td>\n",
              "      <td>1019.40000</td>\n",
              "      <td>1015.400000</td>\n",
              "      <td>...</td>\n",
              "      <td>0</td>\n",
              "      <td>0</td>\n",
              "      <td>0</td>\n",
              "      <td>0</td>\n",
              "      <td>0</td>\n",
              "      <td>0</td>\n",
              "      <td>0</td>\n",
              "      <td>0</td>\n",
              "      <td>1</td>\n",
              "      <td>0</td>\n",
              "    </tr>\n",
              "    <tr>\n",
              "      <th>76772</th>\n",
              "      <td>8.9</td>\n",
              "      <td>20.9</td>\n",
              "      <td>0.0</td>\n",
              "      <td>41.0</td>\n",
              "      <td>11.0</td>\n",
              "      <td>26.0</td>\n",
              "      <td>99.0</td>\n",
              "      <td>65.0</td>\n",
              "      <td>1010.70000</td>\n",
              "      <td>1009.900000</td>\n",
              "      <td>...</td>\n",
              "      <td>0</td>\n",
              "      <td>0</td>\n",
              "      <td>0</td>\n",
              "      <td>0</td>\n",
              "      <td>0</td>\n",
              "      <td>1</td>\n",
              "      <td>0</td>\n",
              "      <td>0</td>\n",
              "      <td>1</td>\n",
              "      <td>0</td>\n",
              "    </tr>\n",
              "    <tr>\n",
              "      <th>42225</th>\n",
              "      <td>6.0</td>\n",
              "      <td>18.0</td>\n",
              "      <td>0.2</td>\n",
              "      <td>26.0</td>\n",
              "      <td>13.0</td>\n",
              "      <td>13.0</td>\n",
              "      <td>82.0</td>\n",
              "      <td>53.0</td>\n",
              "      <td>1026.20000</td>\n",
              "      <td>1023.300000</td>\n",
              "      <td>...</td>\n",
              "      <td>0</td>\n",
              "      <td>1</td>\n",
              "      <td>0</td>\n",
              "      <td>0</td>\n",
              "      <td>0</td>\n",
              "      <td>0</td>\n",
              "      <td>0</td>\n",
              "      <td>0</td>\n",
              "      <td>1</td>\n",
              "      <td>0</td>\n",
              "    </tr>\n",
              "  </tbody>\n",
              "</table>\n",
              "<p>5 rows × 111 columns</p>\n",
              "</div>"
            ],
            "text/plain": [
              "        MinTemp  MaxTemp  Rainfall  WindGustSpeed  WindSpeed9am  WindSpeed3pm  \\\n",
              "91177       7.7     24.0       0.0           31.0          11.0          17.0   \n",
              "125903     12.6     26.3       0.6           43.0          15.0          13.0   \n",
              "92617       7.9     22.6       0.0           28.0           7.0          20.0   \n",
              "76772       8.9     20.9       0.0           41.0          11.0          26.0   \n",
              "42225       6.0     18.0       0.2           26.0          13.0          13.0   \n",
              "\n",
              "        Humidity9am  Humidity3pm  Pressure9am  Pressure3pm  ...  WindDir3pm_S  \\\n",
              "91177          63.0         41.0   1023.10000  1019.600000  ...             0   \n",
              "125903         74.0         37.0   1017.64994  1015.255889  ...             0   \n",
              "92617          48.0         52.0   1019.40000  1015.400000  ...             0   \n",
              "76772          99.0         65.0   1010.70000  1009.900000  ...             0   \n",
              "42225          82.0         53.0   1026.20000  1023.300000  ...             0   \n",
              "\n",
              "        WindDir3pm_SE  WindDir3pm_SSE  WindDir3pm_SSW  WindDir3pm_SW  \\\n",
              "91177               0               0               0              0   \n",
              "125903              0               1               0              0   \n",
              "92617               0               0               0              0   \n",
              "76772               0               0               0              0   \n",
              "42225               1               0               0              0   \n",
              "\n",
              "        WindDir3pm_W  WindDir3pm_WNW  WindDir3pm_WSW  RainToday_No  \\\n",
              "91177              0               0               0             1   \n",
              "125903             0               0               0             1   \n",
              "92617              0               0               0             1   \n",
              "76772              1               0               0             1   \n",
              "42225              0               0               0             1   \n",
              "\n",
              "        RainToday_Yes  \n",
              "91177               0  \n",
              "125903              0  \n",
              "92617               0  \n",
              "76772               0  \n",
              "42225               0  \n",
              "\n",
              "[5 rows x 111 columns]"
            ]
          },
          "execution_count": 12,
          "metadata": {},
          "output_type": "execute_result"
        }
      ],
      "source": [
        "X_train, X_test, y_train, y_test = train_test_split(X, y, test_size=0.2, random_state=42)\n",
        "X_train.head()"
      ]
    },
    {
      "cell_type": "code",
      "execution_count": null,
      "metadata": {
        "id": "dER_BsuL3TyA",
        "outputId": "17c73023-e48d-4cd8-b4ee-0bb466147b52"
      },
      "outputs": [
        {
          "data": {
            "text/plain": [
              "array([0, 0, 1, ..., 0, 0, 0])"
            ]
          },
          "execution_count": 13,
          "metadata": {},
          "output_type": "execute_result"
        }
      ],
      "source": [
        "y_train"
      ]
    },
    {
      "cell_type": "code",
      "execution_count": null,
      "metadata": {
        "id": "QylmhtDw3TyB"
      },
      "outputs": [],
      "source": [
        "from sklearn.metrics import confusion_matrix\n",
        "import seaborn as sns\n",
        "import matplotlib.pyplot as plt\n",
        "\n",
        "def plot_confustion_matrix(y_test,y_pred):\n",
        "    cm = confusion_matrix(y_test, y_pred)\n",
        "    sns.heatmap(cm, annot=True, fmt=\"d\")\n",
        "    plt.title(\"Confusion Matrix\")\n",
        "    plt.ylabel(\"True label\")\n",
        "    plt.xlabel(\"Predicted label\")\n",
        "    plt.show()"
      ]
    },
    {
      "cell_type": "code",
      "execution_count": null,
      "metadata": {
        "id": "hjOrtBZu3TyB"
      },
      "outputs": [],
      "source": [
        "def l_regression(X_train, X_test, y_train, y_test):\n",
        "    model =LogisticRegression()\n",
        "    model.fit(X_train, y_train)\n",
        "    y_pred = model.predict(X_test)\n",
        "    print(\"Logistic regression recall: \", recall_score(y_test, y_pred))\n",
        "    print(\"Logistic regression precision: \", precision_score(y_test, y_pred))\n",
        "    #f1 score\n",
        "    print(\"Logistic regression F1 score: \", f1_score(y_test, y_pred))\n",
        "    #classification error\n",
        "    print(\"Logistic regression Classification error: \", 1 - accuracy_score(y_test, y_pred))\n",
        "    #spedificity\n",
        "    tn, fp, fn, tp = confusion_matrix(y_test, y_pred).ravel()\n",
        "    specificity = tn / (tn+fp)\n",
        "    print(\"Logistic regression Specificity: \", specificity)\n",
        "    print(\"Logistic regression AUC: \", roc_auc_score(y_test, y_pred))\n",
        "    print(\"Logistic regression Accuracy: \", accuracy_score(y_test, y_pred))\n",
        "    plot_confustion_matrix(y_test,y_pred)\n",
        "\n",
        "    return model\n",
        "\n",
        "def naive_bayes(X_train, X_test, y_train, y_test):\n",
        "    model = GaussianNB()\n",
        "    model.fit(X_train, y_train)\n",
        "    y_pred = model.predict(X_test)\n",
        "\n",
        "    print(\"Naive Bayes recall: \", recall_score(y_test, y_pred))\n",
        "    print(\"Naive Bayes precision: \", precision_score(y_test, y_pred))\n",
        "    #f1 score\n",
        "    print(\"Naive Bayes F1 score: \", f1_score(y_test, y_pred))\n",
        "    #classification error\n",
        "    print(\"Naive Bayes Classification error: \", 1 - accuracy_score(y_test, y_pred))\n",
        "    #spedificity\n",
        "    tn, fp, fn, tp = confusion_matrix(y_test, y_pred).ravel()\n",
        "    specificity = tn / (tn+fp)\n",
        "    print(\"Naive Bayes Specificity: \", specificity)\n",
        "    print(\"Logistic regression AUC: \", roc_auc_score(y_test, y_pred))\n",
        "    print(\"Logistic regression Accuracy: \", accuracy_score(y_test, y_pred))\n",
        "    plot_confustion_matrix(y_test,y_pred)\n",
        "\n",
        "    return model\n"
      ]
    },
    {
      "cell_type": "code",
      "execution_count": null,
      "metadata": {
        "id": "4JngFftg3TyC",
        "outputId": "99c4d237-a62a-407c-a714-e6aae2cba3a1"
      },
      "outputs": [
        {
          "name": "stdout",
          "output_type": "stream",
          "text": [
            "Logistic regression recall:  0.2634976525821596\n",
            "Logistic regression precision:  0.6676579925650558\n",
            "Logistic regression F1 score:  0.37786661056175047\n",
            "Logistic regression Classification error:  0.13461713557315846\n",
            "Logistic regression Specificity:  0.9759133527319754\n",
            "Logistic regression AUC:  0.6197055026570675\n",
            "Logistic regression Accuracy:  0.8653828644268415\n"
          ]
        },
        {
          "data": {
            "image/png": "[encoded data removed]",
            "text/plain": [
              "<Figure size 432x288 with 2 Axes>"
            ]
          },
          "metadata": {
            "needs_background": "light"
          },
          "output_type": "display_data"
        }
      ],
      "source": [
        "#Lab note\n",
        "lmodel=l_regression(X_train, X_test, y_train, y_test)"
      ]
    },
    {
      "cell_type": "markdown",
      "metadata": {
        "id": "XFtAp8hO3TyD"
      },
      "source": [
        "### Inference from logistic regression\n",
        "\n",
        "We can see that its recall is low which means that it is not able to predict the positive class well. This may be because the data is imbalanced."
      ]
    },
    {
      "cell_type": "code",
      "execution_count": null,
      "metadata": {
        "id": "BREUJ8Xx3TyD",
        "outputId": "993ddf57-4e68-40cf-e919-dd09640550cb"
      },
      "outputs": [
        {
          "data": {
            "text/plain": [
              "0    0.844193\n",
              "1    0.155807\n",
              "dtype: float64"
            ]
          },
          "execution_count": 17,
          "metadata": {},
          "output_type": "execute_result"
        }
      ],
      "source": [
        "# ratio of 0 and 1 in y\n",
        "ypd=pd.DataFrame(y)\n",
        "ypd.value_counts()/len(y)"
      ]
    },
    {
      "cell_type": "markdown",
      "metadata": {
        "id": "mtEg0jfF3TyD"
      },
      "source": [
        "We can see that the number of positive class is very less as compared to the negative class. So, we can use SMOTE to balance the data."
      ]
    },
    {
      "cell_type": "code",
      "execution_count": null,
      "metadata": {
        "id": "WYZxYYd73TyE",
        "outputId": "b050249b-9fc3-4b51-f706-75fc5dcabfaf"
      },
      "outputs": [
        {
          "name": "stdout",
          "output_type": "stream",
          "text": [
            "0    0.5\n",
            "1    0.5\n",
            "dtype: float64\n"
          ]
        },
        {
          "data": {
            "text/plain": [
              "(185432, 111)"
            ]
          },
          "execution_count": 18,
          "metadata": {},
          "output_type": "execute_result"
        }
      ],
      "source": [
        "#use smote to balance the dataset\n",
        "from imblearn.over_sampling import SMOTE\n",
        "sm = SMOTE(random_state=42)\n",
        "X_res, y_res = sm.fit_resample(X, ypd)\n",
        "print(y_res.value_counts()/len(y_res))\n",
        "X_res.shape"
      ]
    },
    {
      "cell_type": "code",
      "execution_count": null,
      "metadata": {
        "id": "HF-_OM8r3TyF",
        "outputId": "b4e474d5-2db1-4add-84b1-63fac7db3ecf"
      },
      "outputs": [
        {
          "name": "stdout",
          "output_type": "stream",
          "text": [
            "Logistic regression recall:  0.7382111183214363\n",
            "Logistic regression precision:  0.7633506682323995\n",
            "Logistic regression F1 score:  0.7505704467353952\n",
            "Logistic regression Classification error:  0.24464097931889883\n",
            "Logistic regression Specificity:  0.7724119386931971\n"
          ]
        },
        {
          "data": {
            "image/png": "[encoded data removed]",
            "text/plain": [
              "<Figure size 432x288 with 2 Axes>"
            ]
          },
          "metadata": {
            "needs_background": "light"
          },
          "output_type": "display_data"
        }
      ],
      "source": [
        "#split the dataset into train and test\n",
        "Xl_train, Xl_test, yl_train, yl_test = train_test_split(X_res, y_res, test_size=0.2, random_state=42)\n",
        "\n",
        "lmodel=l_regression(Xl_train, Xl_test, yl_train, yl_test)"
      ]
    },
    {
      "cell_type": "markdown",
      "metadata": {
        "id": "wDc9pyow3TyF"
      },
      "source": [
        "Now we can see that the recall has increased to 0.73 which is a good improvement. But its specificity becomes very low which means that it is not able to predict the negative class well."
      ]
    },
    {
      "cell_type": "code",
      "execution_count": null,
      "metadata": {
        "id": "yAIngHrU3TyG",
        "outputId": "42078a38-3466-45e6-ed88-fe7ae535d9a9"
      },
      "outputs": [
        {
          "name": "stdout",
          "output_type": "stream",
          "text": [
            "Naive Bayes recall:  0.641725352112676\n",
            "Naive Bayes precision:  0.22847889678228164\n",
            "Naive Bayes F1 score:  0.336979969183359\n",
            "Naive Bayes Classification error:  0.39178730765728853\n",
            "Naive Bayes Specificity:  0.6020584114667529\n",
            "Logistic regression AUC:  0.6218918817897144\n",
            "Logistic regression Accuracy:  0.6082126923427115\n"
          ]
        },
        {
          "data": {
            "image/png": "[encoded data removed]",
            "text/plain": [
              "<Figure size 432x288 with 2 Axes>"
            ]
          },
          "metadata": {
            "needs_background": "light"
          },
          "output_type": "display_data"
        }
      ],
      "source": [
        "#lab note\n",
        "nbmodel=naive_bayes(X_train, X_test, y_train, y_test)"
      ]
    },
    {
      "cell_type": "markdown",
      "metadata": {
        "id": "Szp8HoLL3TyG"
      },
      "source": [
        "### Inference from Naive Bayes\n",
        "\n",
        "We can see that its precision is low which means that it is not able to predict the positive class well. This may be because the data is imbalanced."
      ]
    },
    {
      "cell_type": "code",
      "execution_count": null,
      "metadata": {
        "id": "6uGPWsDU3TyH",
        "outputId": "1f3e7dbc-442d-4b4a-8031-62eb6057ae07"
      },
      "outputs": [
        {
          "name": "stdout",
          "output_type": "stream",
          "text": [
            "Naive Bayes recall:  0.7870430456413584\n",
            "Naive Bayes precision:  0.9437167682531449\n",
            "Naive Bayes F1 score:  0.8582886123724714\n",
            "Naive Bayes Classification error:  0.12958718688489224\n",
            "Naive Bayes Specificity:  0.9533207851573003\n"
          ]
        },
        {
          "data": {
            "image/png": "[encoded data removed]",
            "text/plain": [
              "<Figure size 432x288 with 2 Axes>"
            ]
          },
          "metadata": {
            "needs_background": "light"
          },
          "output_type": "display_data"
        }
      ],
      "source": [
        "#trying it with balanced dataset\n",
        "nbmodel=naive_bayes(Xl_train, Xl_test, yl_train, yl_test)"
      ]
    },
    {
      "cell_type": "markdown",
      "metadata": {
        "id": "Z3GkKlY03TyI"
      },
      "source": [
        "We can see a good improvement in the evauluation metrics after using SMOTE."
      ]
    },
    {
      "cell_type": "markdown",
      "metadata": {
        "id": "I7MBmkBg3TyI"
      },
      "source": [
        "### Manually trying Naive Bayes without using library"
      ]
    },
    {
      "cell_type": "code",
      "execution_count": null,
      "metadata": {
        "id": "YQ9uURqp3TyI"
      },
      "outputs": [],
      "source": [
        "# hard code the naive bayes model\n",
        "\n",
        "#lets take a sample row from the dataset\n",
        "sampledata = X_test.iloc[0]\n",
        "\n",
        "#lets predict the value for the sample data\n",
        "dfnaive = pd.DataFrame()\n",
        "dfnaive[X.columns] = X\n",
        "dfnaive['RainTomorrow'] = y"
      ]
    },
    {
      "cell_type": "code",
      "execution_count": null,
      "metadata": {
        "id": "B_ZnWfVM3TyJ",
        "outputId": "16eb6ab2-fbb7-4485-ed60-0f3ecdbc989f"
      },
      "outputs": [
        {
          "name": "stdout",
          "output_type": "stream",
          "text": [
            "0.45263982377796974\n"
          ]
        },
        {
          "data": {
            "image/png": "[encoded data removed]",
            "text/plain": [
              "<Figure size 432x288 with 1 Axes>"
            ]
          },
          "metadata": {
            "needs_background": "light"
          },
          "output_type": "display_data"
        }
      ],
      "source": [
        "# adjust the threshold for logistic regression model using ROC and AUC\n",
        "y_pred_prob = lmodel.predict_proba(X_test)[:,1]\n",
        "fpr, tpr, thresholds = roc_curve(y_test, y_pred_prob)\n",
        "optimal_idx = np.argmax(tpr - fpr)\n",
        "optimal_threshold = thresholds[optimal_idx]\n",
        "print(optimal_threshold)\n",
        "#mark the optimal threshold on the ROC curve\n",
        "plt.plot([0, 1], [0, 1], 'k--')\n",
        "plt.plot(fpr, tpr, label='Logistic Regression')\n",
        "plt.xlabel('False Positive Rate')\n",
        "plt.ylabel('True Positive Rate')\n",
        "plt.title('Logistic Regression ROC Curve')\n",
        "plt.plot(fpr[optimal_idx], tpr[optimal_idx], marker='o', markersize=5, color=\"red\")\n",
        "\n",
        "plt.show()\n",
        "\n",
        "# find optimal threshold"
      ]
    },
    {
      "cell_type": "code",
      "execution_count": null,
      "metadata": {
        "id": "CvqmbPP33TyJ",
        "outputId": "91f0db2d-02fc-4d62-95c9-3671d6a3c35f"
      },
      "outputs": [
        {
          "name": "stdout",
          "output_type": "stream",
          "text": [
            "Logistic regression recall:  0.7291666666666666\n",
            "Logistic regression precision:  0.3282694848084544\n",
            "Logistic regression F1 score:  0.4527236290763345\n",
            "Logistic regression Classification error:  0.2735136119457343\n",
            "Logistic regression Specificity:  0.7259941804073715\n"
          ]
        },
        {
          "data": {
            "image/png": "[encoded data removed]",
            "text/plain": [
              "<Figure size 432x288 with 2 Axes>"
            ]
          },
          "metadata": {
            "needs_background": "light"
          },
          "output_type": "display_data"
        }
      ],
      "source": [
        "# predict with optimal threshold\n",
        "y_pred = np.where(lmodel.predict_proba(X_test)[:,1] > optimal_threshold, 1, 0)\n",
        "print(\"Logistic regression recall: \", recall_score(y_test, y_pred))\n",
        "print(\"Logistic regression precision: \", precision_score(y_test, y_pred))\n",
        "#f1 score\n",
        "print(\"Logistic regression F1 score: \", f1_score(y_test, y_pred))\n",
        "#classification error\n",
        "print(\"Logistic regression Classification error: \", 1 - accuracy_score(y_test, y_pred))\n",
        "#spedificity\n",
        "tn, fp, fn, tp = confusion_matrix(y_test, y_pred).ravel()\n",
        "specificity = tn / (tn+fp)\n",
        "print(\"Logistic regression Specificity: \", specificity)\n",
        "plot_confustion_matrix(y_test,y_pred)\n"
      ]
    },
    {
      "cell_type": "markdown",
      "metadata": {
        "id": "5jpBmU3z3TyK"
      },
      "source": [
        "We couldnt find any improvement in the evaluation metrics after using optimal threshold"
      ]
    },
    {
      "cell_type": "code",
      "execution_count": null,
      "metadata": {
        "id": "1cBW3Mpe3TyK",
        "outputId": "5907a68f-6bdb-4660-ee6d-9e95d2a2df5b"
      },
      "outputs": [
        {
          "name": "stdout",
          "output_type": "stream",
          "text": [
            "10-fold cross validation average accuracy: 0.700\n"
          ]
        }
      ],
      "source": [
        "#kfold cross validation for logistic regression and naive bayes\n",
        "from sklearn.model_selection import KFold\n",
        "from sklearn.model_selection import cross_val_score\n",
        "from sklearn.model_selection import cross_val_predict\n",
        "\n",
        "#kfold cross validation for logistic regression\n",
        "kfold = KFold(n_splits=10)\n",
        "lmodelCV = LogisticRegression()\n",
        "scoring = 'accuracy'\n",
        "results = cross_val_score(lmodelCV, X_res, y_res, cv=kfold, scoring=scoring)\n",
        "print(\"10-fold cross validation average accuracy: %.3f\" % (results.mean()))"
      ]
    },
    {
      "cell_type": "code",
      "execution_count": null,
      "metadata": {
        "id": "WX3D3NJH3TyL",
        "outputId": "01b0f0ad-b9d1-4c09-e25e-d2eb1842d2d2"
      },
      "outputs": [
        {
          "name": "stdout",
          "output_type": "stream",
          "text": [
            "10-fold cross validation average accuracy: 0.515\n"
          ]
        }
      ],
      "source": [
        "# kfold cross validation for naive bayes\n",
        "kfold = KFold(n_splits=10)\n",
        "nbmodelCV = GaussianNB()\n",
        "scoring = 'accuracy'\n",
        "results = cross_val_score(nbmodelCV, X_res, y_res, cv=kfold, scoring=scoring)\n",
        "print(\"10-fold cross validation average accuracy: %.3f\" % (results.mean()))\n"
      ]
    },
    {
      "cell_type": "code",
      "execution_count": null,
      "metadata": {
        "id": "6HRTSjB23TyL",
        "outputId": "cfef2a7f-6b52-4232-fdea-aaee3e22e4eb"
      },
      "outputs": [
        {
          "name": "stdout",
          "output_type": "stream",
          "text": [
            "Fitting 5 folds for each of 7 candidates, totalling 35 fits\n",
            "[CV 1/5] END ...........................C=0.001;, score=0.763 total time=   4.2s\n",
            "[CV 2/5] END ...........................C=0.001;, score=0.753 total time=   4.6s\n",
            "[CV 3/5] END ...........................C=0.001;, score=0.754 total time=   4.7s\n",
            "[CV 4/5] END ...........................C=0.001;, score=0.757 total time=   6.0s\n",
            "[CV 5/5] END ...........................C=0.001;, score=0.747 total time=   5.3s\n",
            "[CV 1/5] END ............................C=0.01;, score=0.777 total time=   4.7s\n",
            "[CV 2/5] END ............................C=0.01;, score=0.747 total time=   5.0s\n",
            "[CV 3/5] END ............................C=0.01;, score=0.756 total time=   5.3s\n",
            "[CV 4/5] END ............................C=0.01;, score=0.757 total time=   4.8s\n",
            "[CV 5/5] END ............................C=0.01;, score=0.745 total time=   4.4s\n",
            "[CV 1/5] END .............................C=0.1;, score=0.764 total time=   4.1s\n",
            "[CV 2/5] END .............................C=0.1;, score=0.754 total time=   4.5s\n",
            "[CV 3/5] END .............................C=0.1;, score=0.760 total time=   4.5s\n",
            "[CV 4/5] END .............................C=0.1;, score=0.753 total time=   3.9s\n",
            "[CV 5/5] END .............................C=0.1;, score=0.756 total time=   4.4s\n",
            "[CV 1/5] END ...............................C=1;, score=0.763 total time=   4.3s\n",
            "[CV 2/5] END ...............................C=1;, score=0.753 total time=   5.6s\n",
            "[CV 3/5] END ...............................C=1;, score=0.745 total time=   5.7s\n",
            "[CV 4/5] END ...............................C=1;, score=0.755 total time=   5.9s\n",
            "[CV 5/5] END ...............................C=1;, score=0.754 total time=   5.5s\n",
            "[CV 1/5] END ..............................C=10;, score=0.765 total time=   5.7s\n",
            "[CV 2/5] END ..............................C=10;, score=0.755 total time=   4.8s\n",
            "[CV 3/5] END ..............................C=10;, score=0.755 total time=   5.2s\n",
            "[CV 4/5] END ..............................C=10;, score=0.756 total time=   5.6s\n",
            "[CV 5/5] END ..............................C=10;, score=0.755 total time=   5.6s\n",
            "[CV 1/5] END .............................C=100;, score=0.754 total time=   5.2s\n",
            "[CV 2/5] END .............................C=100;, score=0.755 total time=   5.5s\n",
            "[CV 3/5] END .............................C=100;, score=0.756 total time=   4.9s\n",
            "[CV 4/5] END .............................C=100;, score=0.759 total time=   4.7s\n",
            "[CV 5/5] END .............................C=100;, score=0.750 total time=   4.9s\n",
            "[CV 1/5] END ............................C=1000;, score=0.763 total time=   4.3s\n",
            "[CV 2/5] END ............................C=1000;, score=0.754 total time=   5.2s\n",
            "[CV 3/5] END ............................C=1000;, score=0.764 total time=   5.0s\n",
            "[CV 4/5] END ............................C=1000;, score=0.748 total time=   4.6s\n",
            "[CV 5/5] END ............................C=1000;, score=0.756 total time=   3.9s\n",
            "{'C': 0.1}\n",
            "LogisticRegression(C=0.1)\n",
            "Logistic regression recall:  0.7285312567596799\n",
            "Logistic regression precision:  0.7595850248082995\n",
            "Logistic regression F1 score:  0.7437341282985537\n",
            "Logistic regression Classification error:  0.25033030441933835\n",
            "Logistic regression Specificity:  0.7706910459801022\n",
            "ROC AUC score:  0.7496111513698911\n",
            "Recall 0.7285312567596799\n"
          ]
        }
      ],
      "source": [
        "# optimize the model using grid search\n",
        "from sklearn.model_selection import GridSearchCV\n",
        "\n",
        "# logistic regression\n",
        "param_grid = {'C': [0.001, 0.01, 0.1, 1, 10, 100, 1000]}\n",
        "grid = GridSearchCV(LogisticRegression(), param_grid, refit = True, verbose = 3)\n",
        "grid.fit(Xl_train, yl_train)\n",
        "\n",
        "# print best parameter after tuning\n",
        "print(grid.best_params_)\n",
        "\n",
        "print(grid.best_estimator_)\n",
        "\n",
        "y_pred = grid.predict(Xl_test)\n"
      ]
    },
    {
      "cell_type": "code",
      "execution_count": null,
      "metadata": {
        "id": "AsTCf3p83TyM",
        "outputId": "3402a8c0-8eb7-48c5-b54b-62c1937cee12"
      },
      "outputs": [
        {
          "name": "stdout",
          "output_type": "stream",
          "text": [
            "Logistic regression recall:  0.7285312567596799\n",
            "Logistic regression precision:  0.7595850248082995\n",
            "Logistic regression F1 score:  0.7437341282985537\n",
            "Logistic regression Classification error:  0.25033030441933835\n",
            "Logistic regression Specificity:  0.7706910459801022\n",
            "ROC AUC score:  0.7496111513698911\n",
            "Recall 0.7285312567596799\n"
          ]
        }
      ],
      "source": [
        "print(\"Logistic regression recall: \", recall_score(yl_test, y_pred))\n",
        "print(\"Logistic regression precision: \", precision_score(yl_test, y_pred))\n",
        "#f1 score\n",
        "print(\"Logistic regression F1 score: \", f1_score(yl_test, y_pred))\n",
        "print(\"Logistic regression Classification error: \", 1 - accuracy_score(yl_test, y_pred))\n",
        "#specificity\n",
        "tn, fp, fn, tp = confusion_matrix(yl_test, y_pred).ravel()\n",
        "specificity = tn / (tn+fp)\n",
        "print(\"Specificity: \", specificity)\n",
        "print(\"ROC AUC score: \", roc_auc_score(yl_test, y_pred))\n",
        "# print(\"Recall\", recall_score(yl_test, y_pred))"
      ]
    },
    {
      "cell_type": "code",
      "execution_count": null,
      "metadata": {
        "id": "0S2SY0IP3TyM",
        "outputId": "d7e1a58d-ab6f-421e-dc81-a8cad694809a"
      },
      "outputs": [
        {
          "name": "stdout",
          "output_type": "stream",
          "text": [
            "Fitting 5 folds for each of 13 candidates, totalling 65 fits\n",
            "[CV 1/5] END ...............var_smoothing=1e-09;, score=0.869 total time=   0.4s\n",
            "[CV 2/5] END ...............var_smoothing=1e-09;, score=0.868 total time=   0.6s\n",
            "[CV 3/5] END ...............var_smoothing=1e-09;, score=0.867 total time=   0.4s\n",
            "[CV 4/5] END ...............var_smoothing=1e-09;, score=0.867 total time=   0.4s\n",
            "[CV 5/5] END ...............var_smoothing=1e-09;, score=0.868 total time=   0.4s\n",
            "[CV 1/5] END ...............var_smoothing=1e-08;, score=0.869 total time=   0.4s\n",
            "[CV 2/5] END ...............var_smoothing=1e-08;, score=0.868 total time=   0.4s\n",
            "[CV 3/5] END ...............var_smoothing=1e-08;, score=0.867 total time=   0.5s\n",
            "[CV 4/5] END ...............var_smoothing=1e-08;, score=0.867 total time=   0.5s\n",
            "[CV 5/5] END ...............var_smoothing=1e-08;, score=0.868 total time=   0.3s\n",
            "[CV 1/5] END ...............var_smoothing=1e-07;, score=0.869 total time=   0.4s\n",
            "[CV 2/5] END ...............var_smoothing=1e-07;, score=0.868 total time=   0.3s\n",
            "[CV 3/5] END ...............var_smoothing=1e-07;, score=0.867 total time=   0.4s\n",
            "[CV 4/5] END ...............var_smoothing=1e-07;, score=0.867 total time=   0.4s\n",
            "[CV 5/5] END ...............var_smoothing=1e-07;, score=0.868 total time=   0.3s\n",
            "[CV 1/5] END ...............var_smoothing=1e-06;, score=0.871 total time=   0.4s\n",
            "[CV 2/5] END ...............var_smoothing=1e-06;, score=0.869 total time=   0.4s\n",
            "[CV 3/5] END ...............var_smoothing=1e-06;, score=0.868 total time=   0.4s\n",
            "[CV 4/5] END ...............var_smoothing=1e-06;, score=0.870 total time=   0.3s\n",
            "[CV 5/5] END ...............var_smoothing=1e-06;, score=0.870 total time=   0.4s\n",
            "[CV 1/5] END ...............var_smoothing=1e-05;, score=0.878 total time=   0.3s\n",
            "[CV 2/5] END ...............var_smoothing=1e-05;, score=0.878 total time=   0.3s\n",
            "[CV 3/5] END ...............var_smoothing=1e-05;, score=0.877 total time=   0.4s\n",
            "[CV 4/5] END ...............var_smoothing=1e-05;, score=0.876 total time=   0.4s\n",
            "[CV 5/5] END ...............var_smoothing=1e-05;, score=0.879 total time=   0.3s\n",
            "[CV 1/5] END ..............var_smoothing=0.0001;, score=0.578 total time=   0.3s\n",
            "[CV 2/5] END ..............var_smoothing=0.0001;, score=0.581 total time=   0.3s\n",
            "[CV 3/5] END ..............var_smoothing=0.0001;, score=0.580 total time=   0.3s\n",
            "[CV 4/5] END ..............var_smoothing=0.0001;, score=0.579 total time=   0.3s\n",
            "[CV 5/5] END ..............var_smoothing=0.0001;, score=0.578 total time=   0.3s\n",
            "[CV 1/5] END ...............var_smoothing=0.001;, score=0.625 total time=   0.4s\n",
            "[CV 2/5] END ...............var_smoothing=0.001;, score=0.624 total time=   0.3s\n",
            "[CV 3/5] END ...............var_smoothing=0.001;, score=0.623 total time=   0.3s\n",
            "[CV 4/5] END ...............var_smoothing=0.001;, score=0.625 total time=   0.3s\n",
            "[CV 5/5] END ...............var_smoothing=0.001;, score=0.623 total time=   0.3s\n",
            "[CV 1/5] END ................var_smoothing=0.01;, score=0.726 total time=   0.4s\n",
            "[CV 2/5] END ................var_smoothing=0.01;, score=0.722 total time=   0.3s\n",
            "[CV 3/5] END ................var_smoothing=0.01;, score=0.723 total time=   0.3s\n",
            "[CV 4/5] END ................var_smoothing=0.01;, score=0.725 total time=   0.3s\n",
            "[CV 5/5] END ................var_smoothing=0.01;, score=0.726 total time=   0.3s\n",
            "[CV 1/5] END .................var_smoothing=0.1;, score=0.729 total time=   0.3s\n",
            "[CV 2/5] END .................var_smoothing=0.1;, score=0.723 total time=   0.3s\n",
            "[CV 3/5] END .................var_smoothing=0.1;, score=0.724 total time=   0.3s\n",
            "[CV 4/5] END .................var_smoothing=0.1;, score=0.726 total time=   0.3s\n",
            "[CV 5/5] END .................var_smoothing=0.1;, score=0.724 total time=   0.3s\n",
            "[CV 1/5] END ...................var_smoothing=1;, score=0.714 total time=   0.4s\n",
            "[CV 2/5] END ...................var_smoothing=1;, score=0.710 total time=   0.3s\n",
            "[CV 3/5] END ...................var_smoothing=1;, score=0.710 total time=   0.3s\n",
            "[CV 4/5] END ...................var_smoothing=1;, score=0.712 total time=   0.3s\n",
            "[CV 5/5] END ...................var_smoothing=1;, score=0.710 total time=   0.3s\n",
            "[CV 1/5] END ..................var_smoothing=10;, score=0.709 total time=   0.3s\n",
            "[CV 2/5] END ..................var_smoothing=10;, score=0.705 total time=   0.3s\n",
            "[CV 3/5] END ..................var_smoothing=10;, score=0.705 total time=   0.3s\n",
            "[CV 4/5] END ..................var_smoothing=10;, score=0.706 total time=   0.3s\n",
            "[CV 5/5] END ..................var_smoothing=10;, score=0.705 total time=   0.3s\n",
            "[CV 1/5] END .................var_smoothing=100;, score=0.703 total time=   0.3s\n",
            "[CV 2/5] END .................var_smoothing=100;, score=0.702 total time=   0.3s\n",
            "[CV 3/5] END .................var_smoothing=100;, score=0.702 total time=   0.3s\n",
            "[CV 4/5] END .................var_smoothing=100;, score=0.702 total time=   0.3s\n",
            "[CV 5/5] END .................var_smoothing=100;, score=0.700 total time=   0.3s\n",
            "[CV 1/5] END ................var_smoothing=1000;, score=0.586 total time=   0.3s\n",
            "[CV 2/5] END ................var_smoothing=1000;, score=0.588 total time=   0.3s\n",
            "[CV 3/5] END ................var_smoothing=1000;, score=0.587 total time=   0.3s\n",
            "[CV 4/5] END ................var_smoothing=1000;, score=0.588 total time=   0.3s\n",
            "[CV 5/5] END ................var_smoothing=1000;, score=0.585 total time=   0.3s\n",
            "{'var_smoothing': 1e-05}\n",
            "Naive Bayes recall:  0.8291693705386113\n",
            "Naive Bayes precision:  0.9233965672990063\n",
            "Naive Bayes F1 score:  0.873749893153261\n",
            "Naive Bayes Classification error:  0.11947582710922966\n",
            "Naive Bayes Specificity:  0.931594514654477\n",
            "Logistic regression Specificity:  0.931594514654477\n",
            "ROC AUC score:  0.8803819425965441\n",
            "Recall 0.8291693705386113\n"
          ]
        }
      ],
      "source": [
        "# naive bayes grid search\n",
        "param_grid = {'var_smoothing': [1e-9, 1e-8, 1e-7, 1e-6, 1e-5, 1e-4, 1e-3, 1e-2, 1e-1, 1, 10, 100, 1000]}\n",
        "grid = GridSearchCV(GaussianNB(), param_grid, refit = True, verbose = 3)\n",
        "grid.fit(Xl_train, yl_train)\n",
        "\n",
        "# print best parameter after tuning\n",
        "print(grid.best_params_)\n",
        "\n",
        "y_pred = grid.predict(Xl_test)\n",
        "print(\"Naive Bayes recall: \", recall_score(yl_test, y_pred))\n",
        "print(\"Naive Bayes precision: \", precision_score(yl_test, y_pred))\n",
        "#f1 score\n",
        "print(\"Naive Bayes F1 score: \", f1_score(yl_test, y_pred))\n",
        "print(\"Naive Bayes Classification error: \", 1 - accuracy_score(yl_test, y_pred))\n",
        "#specificity\n",
        "tn, fp, fn, tp = confusion_matrix(yl_test, y_pred).ravel()\n",
        "specificity = tn / (tn+fp)\n",
        "print(\"Naive Bayes Specificity: \", specificity)\n",
        "print(\"Logistic regression Specificity: \", specificity)\n",
        "print(\"ROC AUC score: \", roc_auc_score(yl_test, y_pred))\n",
        "print(\"Recall\", recall_score(yl_test, y_pred))"
      ]
    },
    {
      "cell_type": "code",
      "execution_count": null,
      "metadata": {
        "id": "mCanmx-p3TyN",
        "outputId": "01f2a481-7cd0-4533-8434-7052796d0bab"
      },
      "outputs": [
        {
          "name": "stdout",
          "output_type": "stream",
          "text": [
            "Naive Bayes recall:  0.8291693705386113\n",
            "Naive Bayes precision:  0.9233965672990063\n",
            "Naive Bayes F1 score:  0.873749893153261\n",
            "Naive Bayes Classification error:  0.11947582710922966\n",
            "Naive Bayes Specificity:  0.931594514654477\n",
            "Logistic regression Specificity:  0.931594514654477\n",
            "ROC AUC score:  0.8803819425965441\n",
            "Recall 0.8291693705386113\n"
          ]
        }
      ],
      "source": [
        "print(\"Naive Bayes recall: \", recall_score(yl_test, y_pred))\n",
        "print(\"Naive Bayes precision: \", precision_score(yl_test, y_pred))\n",
        "#f1 score\n",
        "print(\"Naive Bayes F1 score: \", f1_score(yl_test, y_pred))\n",
        "print(\"Naive Bayes Classification error: \", 1 - accuracy_score(yl_test, y_pred))\n",
        "#specificity\n",
        "tn, fp, fn, tp = confusion_matrix(yl_test, y_pred).ravel()\n",
        "specificity = tn / (tn+fp)\n",
        "print(\"Naive Bayes Specificity: \", specificity)\n",
        "print(\"Logistic regression Specificity: \", specificity)\n",
        "print(\"ROC AUC score: \", roc_auc_score(yl_test, y_pred))\n",
        "print(\"Recall\", recall_score(yl_test, y_pred))"
      ]
    },
    {
      "cell_type": "markdown",
      "metadata": {
        "id": "uZOSP_xu3TyO"
      },
      "source": [
        "## Logisitic Regression vs Naive Bayes\n",
        "\n",
        "### Metrics of Least classification error\n",
        "\n",
        "|Metrics|Logistic Regression|Naive Bayes|\n",
        "|:-|:-|:-|\n",
        "|Precision|0.67|0.92|\n",
        "|Specificity|0.97|0.77|\n",
        "|F1 score|0.377|0.87|\n",
        "|Classification error|0.13|0.12|\n",
        "\n",
        "We can see that Naive Bayes is performing better than Logistic Regression.\n"
      ]
    },
    {
      "cell_type": "code",
      "execution_count": null,
      "metadata": {
        "id": "EgQY_eW73TyO"
      },
      "outputs": [],
      "source": []
    }
  ],
  "metadata": {
    "kernelspec": {
      "display_name": "Python 3",
      "language": "python",
      "name": "python3"
    },
    "language_info": {
      "codemirror_mode": {
        "name": "ipython",
        "version": 3
      },
      "file_extension": ".py",
      "mimetype": "text/x-python",
      "name": "python",
      "nbconvert_exporter": "python",
      "pygments_lexer": "ipython3",
      "version": "3.9.7"
    },
    "orig_nbformat": 4,
    "vscode": {
      "interpreter": {
        "hash": "865d8b2eb28e274047ba64063dfb6a2aabf0dfec4905d304d7a76618dae6fdd4"
      }
    },
    "colab": {
      "provenance": []
    }
  },
  "nbformat": 4,
  "nbformat_minor": 0
}