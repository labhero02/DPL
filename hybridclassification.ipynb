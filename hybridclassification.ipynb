{
  "cells": [
    {
      "cell_type": "code",
      "execution_count": null,
      "metadata": {
        "id": "c3ntzneQ3Rsm"
      },
      "outputs": [],
      "source": [
        "#use hybrid models like SVM and Bayesian Belief Networks to classify the data\n",
        "import pandas as pd\n",
        "import numpy as np\n",
        "import matplotlib.pyplot as plt\n",
        "import seaborn as sns\n",
        "from sklearn.model_selection import train_test_split\n",
        "from sklearn.metrics import accuracy_score,r2_score,recall_score,precision_score,roc_auc_score,confusion_matrix,f1_score\n",
        "\n",
        "from sklearn.svm import SVC\n",
        "#import bbn\n",
        "from pybbn.graph.dag import Bbn\n",
        "from pybbn.graph.edge import Edge, EdgeType\n",
        "from pybbn.graph.jointree import EvidenceBuilder\n",
        "from pybbn.graph.node import BbnNode\n",
        "from pybbn.graph.variable import Variable\n",
        "from pybbn.pptc.inferencecontroller import InferenceController\n",
        "\n",
        "\n"
      ]
    },
    {
      "cell_type": "code",
      "execution_count": null,
      "metadata": {
        "id": "F1aRX2od3Rsp",
        "outputId": "7051b9cb-258e-4a42-a21f-194f7b943493"
      },
      "outputs": [
        {
          "data": {
            "text/html": [
              "<div>\n",
              "<style scoped>\n",
              "    .dataframe tbody tr th:only-of-type {\n",
              "        vertical-align: middle;\n",
              "    }\n",
              "\n",
              "    .dataframe tbody tr th {\n",
              "        vertical-align: top;\n",
              "    }\n",
              "\n",
              "    .dataframe thead th {\n",
              "        text-align: right;\n",
              "    }\n",
              "</style>\n",
              "<table border=\"1\" class=\"dataframe\">\n",
              "  <thead>\n",
              "    <tr style=\"text-align: right;\">\n",
              "      <th></th>\n",
              "      <th>MinTemp</th>\n",
              "      <th>MaxTemp</th>\n",
              "      <th>Rainfall</th>\n",
              "      <th>WindGustSpeed</th>\n",
              "      <th>WindSpeed9am</th>\n",
              "      <th>WindSpeed3pm</th>\n",
              "      <th>Humidity9am</th>\n",
              "      <th>Humidity3pm</th>\n",
              "      <th>Pressure9am</th>\n",
              "      <th>Pressure3pm</th>\n",
              "      <th>...</th>\n",
              "      <th>WindDir3pm_SE</th>\n",
              "      <th>WindDir3pm_SSE</th>\n",
              "      <th>WindDir3pm_SSW</th>\n",
              "      <th>WindDir3pm_SW</th>\n",
              "      <th>WindDir3pm_W</th>\n",
              "      <th>WindDir3pm_WNW</th>\n",
              "      <th>WindDir3pm_WSW</th>\n",
              "      <th>RainToday_No</th>\n",
              "      <th>RainToday_Yes</th>\n",
              "      <th>RainTomorrow</th>\n",
              "    </tr>\n",
              "  </thead>\n",
              "  <tbody>\n",
              "    <tr>\n",
              "      <th>0</th>\n",
              "      <td>13.4</td>\n",
              "      <td>22.9</td>\n",
              "      <td>0.6</td>\n",
              "      <td>44.0</td>\n",
              "      <td>20.0</td>\n",
              "      <td>24.0</td>\n",
              "      <td>71.0</td>\n",
              "      <td>22.0</td>\n",
              "      <td>1007.7</td>\n",
              "      <td>1007.1</td>\n",
              "      <td>...</td>\n",
              "      <td>0</td>\n",
              "      <td>0</td>\n",
              "      <td>0</td>\n",
              "      <td>0</td>\n",
              "      <td>0</td>\n",
              "      <td>1</td>\n",
              "      <td>0</td>\n",
              "      <td>1</td>\n",
              "      <td>0</td>\n",
              "      <td>0</td>\n",
              "    </tr>\n",
              "    <tr>\n",
              "      <th>1</th>\n",
              "      <td>7.4</td>\n",
              "      <td>25.1</td>\n",
              "      <td>0.0</td>\n",
              "      <td>44.0</td>\n",
              "      <td>4.0</td>\n",
              "      <td>22.0</td>\n",
              "      <td>44.0</td>\n",
              "      <td>25.0</td>\n",
              "      <td>1010.6</td>\n",
              "      <td>1007.8</td>\n",
              "      <td>...</td>\n",
              "      <td>0</td>\n",
              "      <td>0</td>\n",
              "      <td>0</td>\n",
              "      <td>0</td>\n",
              "      <td>0</td>\n",
              "      <td>0</td>\n",
              "      <td>1</td>\n",
              "      <td>1</td>\n",
              "      <td>0</td>\n",
              "      <td>0</td>\n",
              "    </tr>\n",
              "    <tr>\n",
              "      <th>2</th>\n",
              "      <td>12.9</td>\n",
              "      <td>25.7</td>\n",
              "      <td>0.0</td>\n",
              "      <td>46.0</td>\n",
              "      <td>19.0</td>\n",
              "      <td>26.0</td>\n",
              "      <td>38.0</td>\n",
              "      <td>30.0</td>\n",
              "      <td>1007.6</td>\n",
              "      <td>1008.7</td>\n",
              "      <td>...</td>\n",
              "      <td>0</td>\n",
              "      <td>0</td>\n",
              "      <td>0</td>\n",
              "      <td>0</td>\n",
              "      <td>0</td>\n",
              "      <td>0</td>\n",
              "      <td>1</td>\n",
              "      <td>1</td>\n",
              "      <td>0</td>\n",
              "      <td>0</td>\n",
              "    </tr>\n",
              "    <tr>\n",
              "      <th>3</th>\n",
              "      <td>9.2</td>\n",
              "      <td>28.0</td>\n",
              "      <td>0.0</td>\n",
              "      <td>24.0</td>\n",
              "      <td>11.0</td>\n",
              "      <td>9.0</td>\n",
              "      <td>45.0</td>\n",
              "      <td>16.0</td>\n",
              "      <td>1017.6</td>\n",
              "      <td>1012.8</td>\n",
              "      <td>...</td>\n",
              "      <td>0</td>\n",
              "      <td>0</td>\n",
              "      <td>0</td>\n",
              "      <td>0</td>\n",
              "      <td>0</td>\n",
              "      <td>0</td>\n",
              "      <td>0</td>\n",
              "      <td>1</td>\n",
              "      <td>0</td>\n",
              "      <td>0</td>\n",
              "    </tr>\n",
              "    <tr>\n",
              "      <th>4</th>\n",
              "      <td>17.5</td>\n",
              "      <td>32.3</td>\n",
              "      <td>1.0</td>\n",
              "      <td>41.0</td>\n",
              "      <td>7.0</td>\n",
              "      <td>20.0</td>\n",
              "      <td>82.0</td>\n",
              "      <td>33.0</td>\n",
              "      <td>1010.8</td>\n",
              "      <td>1006.0</td>\n",
              "      <td>...</td>\n",
              "      <td>0</td>\n",
              "      <td>0</td>\n",
              "      <td>0</td>\n",
              "      <td>0</td>\n",
              "      <td>0</td>\n",
              "      <td>0</td>\n",
              "      <td>0</td>\n",
              "      <td>1</td>\n",
              "      <td>0</td>\n",
              "      <td>0</td>\n",
              "    </tr>\n",
              "  </tbody>\n",
              "</table>\n",
              "<p>5 rows × 112 columns</p>\n",
              "</div>"
            ],
            "text/plain": [
              "   MinTemp  MaxTemp  Rainfall  WindGustSpeed  WindSpeed9am  WindSpeed3pm  \\\n",
              "0     13.4     22.9       0.6           44.0          20.0          24.0   \n",
              "1      7.4     25.1       0.0           44.0           4.0          22.0   \n",
              "2     12.9     25.7       0.0           46.0          19.0          26.0   \n",
              "3      9.2     28.0       0.0           24.0          11.0           9.0   \n",
              "4     17.5     32.3       1.0           41.0           7.0          20.0   \n",
              "\n",
              "   Humidity9am  Humidity3pm  Pressure9am  Pressure3pm  ...  WindDir3pm_SE  \\\n",
              "0         71.0         22.0       1007.7       1007.1  ...              0   \n",
              "1         44.0         25.0       1010.6       1007.8  ...              0   \n",
              "2         38.0         30.0       1007.6       1008.7  ...              0   \n",
              "3         45.0         16.0       1017.6       1012.8  ...              0   \n",
              "4         82.0         33.0       1010.8       1006.0  ...              0   \n",
              "\n",
              "   WindDir3pm_SSE  WindDir3pm_SSW  WindDir3pm_SW  WindDir3pm_W  \\\n",
              "0               0               0              0             0   \n",
              "1               0               0              0             0   \n",
              "2               0               0              0             0   \n",
              "3               0               0              0             0   \n",
              "4               0               0              0             0   \n",
              "\n",
              "   WindDir3pm_WNW  WindDir3pm_WSW  RainToday_No  RainToday_Yes  RainTomorrow  \n",
              "0               1               0             1              0             0  \n",
              "1               0               1             1              0             0  \n",
              "2               0               1             1              0             0  \n",
              "3               0               0             1              0             0  \n",
              "4               0               0             1              0             0  \n",
              "\n",
              "[5 rows x 112 columns]"
            ]
          },
          "execution_count": 2,
          "metadata": {},
          "output_type": "execute_result"
        }
      ],
      "source": [
        "df = pd.read_csv(\"data/processeddata.csv\")\n",
        "df.head()"
      ]
    },
    {
      "cell_type": "code",
      "execution_count": null,
      "metadata": {
        "id": "i69orDRB3Rss"
      },
      "outputs": [],
      "source": [
        "def plot_confusion_matrix(ypreds,y):\n",
        "    cm = confusion_matrix(y, ypreds)\n",
        "    plt.figure(figsize=(10,10))\n",
        "    sns.heatmap(cm, annot=True, fmt=\"d\", linewidths=.5, square = True)\n",
        "    plt.ylabel('Actual label')\n",
        "    plt.xlabel('Predicted label')\n",
        "    all_sample_title = 'Accuracy Score: {0}'.format(accuracy_score(y, ypreds))\n",
        "    plt.title(all_sample_title, size = 15)"
      ]
    },
    {
      "cell_type": "code",
      "execution_count": null,
      "metadata": {
        "id": "KhBMnEWx3Rst",
        "outputId": "6a3668ff-ab51-4612-e3ca-a26ed666bc6f"
      },
      "outputs": [
        {
          "name": "stdout",
          "output_type": "stream",
          "text": [
            "(10983, 112) (109828, 112)\n"
          ]
        }
      ],
      "source": [
        "#make the data size smaller using sampling in a another dataframe\n",
        "\n",
        "df1 = df.sample(frac=0.1, replace=True, random_state=1)\n",
        "print(df1.shape, df.shape)"
      ]
    },
    {
      "cell_type": "code",
      "execution_count": null,
      "metadata": {
        "id": "uEyDox_q3Rsu"
      },
      "outputs": [],
      "source": [
        "target = \"RainTomorrow\"\n",
        "features = [x for x in df.columns if x != target]\n",
        "X = df1[features]\n",
        "y = df1[target]"
      ]
    },
    {
      "cell_type": "code",
      "execution_count": null,
      "metadata": {
        "id": "XVBmzaGA3Rsu",
        "outputId": "dab5a699-69cb-4c86-bf7b-4f258c44a1af"
      },
      "outputs": [
        {
          "data": {
            "text/plain": [
              "0    0.842666\n",
              "1    0.157334\n",
              "Name: RainTomorrow, dtype: float64"
            ]
          },
          "execution_count": 6,
          "metadata": {},
          "output_type": "execute_result"
        }
      ],
      "source": [
        "y.value_counts()/len(y)"
      ]
    },
    {
      "cell_type": "code",
      "execution_count": null,
      "metadata": {
        "id": "P9MCHXwj3Rsu",
        "outputId": "f0716803-a9f4-4631-caf7-a5c8dc0a3f13"
      },
      "outputs": [
        {
          "data": {
            "text/plain": [
              "0    0.5\n",
              "1    0.5\n",
              "Name: RainTomorrow, dtype: float64"
            ]
          },
          "execution_count": 7,
          "metadata": {},
          "output_type": "execute_result"
        }
      ],
      "source": [
        "#undersample the data\n",
        "from imblearn.under_sampling import RandomUnderSampler\n",
        "rus = RandomUnderSampler(random_state=0)\n",
        "X_resampled, y_resampled = rus.fit_resample(X, y)\n",
        "\n",
        "y_resampled.value_counts()/len(y_resampled)"
      ]
    },
    {
      "cell_type": "code",
      "execution_count": null,
      "metadata": {
        "id": "n3Yu8M6o3Rsv",
        "outputId": "181e78f5-5a4a-4c71-e7d1-c3d096a88595"
      },
      "outputs": [
        {
          "data": {
            "text/plain": [
              "(3456,)"
            ]
          },
          "execution_count": 8,
          "metadata": {},
          "output_type": "execute_result"
        }
      ],
      "source": [
        "y_resampled.shape"
      ]
    },
    {
      "cell_type": "code",
      "execution_count": null,
      "metadata": {
        "id": "nHbqu4Ce3Rsv"
      },
      "outputs": [],
      "source": [
        "X_train, X_test, y_train, y_test = train_test_split(X, y, test_size=0.2, random_state=42)"
      ]
    },
    {
      "cell_type": "code",
      "execution_count": null,
      "metadata": {
        "id": "SP8u9gRS3Rsw",
        "outputId": "0e8041ed-a1f1-46e3-befb-69f1f268a806"
      },
      "outputs": [
        {
          "name": "stdout",
          "output_type": "stream",
          "text": [
            "Accuracy score:  0.8757396449704142\n",
            "R2 score:  0.016665409724795133\n",
            "Recall score:  0.3343558282208589\n",
            "Precision score:  0.6606060606060606\n",
            "Recall score:  0.3343558282208589\n",
            "Precision score:  0.6606060606060606\n",
            "ROC AUC score:  0.6522126548907609\n",
            "F1 score:  0.4439918533604888\n",
            "Specificity:  0.9700694815606627\n",
            "Confusion Matrix: \n",
            "Confusion Matrix: \n"
          ]
        },
        {
          "data": {
            "image/png": "[encoded data removed]",
            "text/plain": [
              "<Figure size 720x720 with 2 Axes>"
            ]
          },
          "metadata": {
            "needs_background": "light"
          },
          "output_type": "display_data"
        }
      ],
      "source": [
        "svm = SVC(kernel='linear', C=1.0, random_state=0, probability=False)\n",
        "svm.fit(X_train, y_train)\n",
        "y_pred = svm.predict(X_test)\n",
        "print('Accuracy score: ',accuracy_score(y_test,y_pred))\n",
        "print('R2 score: ',r2_score(y_test,y_pred))\n",
        "print('Recall score: ',recall_score(y_test,y_pred))\n",
        "print('Precision score: ',precision_score(y_test,y_pred))\n",
        "print('Recall score: ',recall_score(y_test,y_pred))\n",
        "print('Precision score: ',precision_score(y_test,y_pred))\n",
        "print('ROC AUC score: ',roc_auc_score(y_test,y_pred))\n",
        "print(\"F1 score: \",f1_score(y_test,y_pred))\n",
        "cm = confusion_matrix(y_test,y_pred)\n",
        "print(\"Specificity: \",cm[0,0]/(cm[0,0]+cm[0,1]))\n",
        "print(\"Confusion Matrix: \")\n",
        "# plot_confustion_matrix(y_test,y_pred)\n",
        "print(\"Confusion Matrix: \")\n",
        "plot_confusion_matrix(y_pred, y_test)\n"
      ]
    },
    {
      "cell_type": "code",
      "execution_count": null,
      "metadata": {
        "id": "Yh33xAOe3Rsw",
        "outputId": "681ceb30-2e8a-48e9-c149-1e7fad847202"
      },
      "outputs": [
        {
          "name": "stdout",
          "output_type": "stream",
          "text": [
            "Best cross-validation score: 0.86\n",
            "Best parameters:  {'C': 0.1}\n",
            "Accuracy score:  0.8766499772416932\n",
            "R2 score:  0.023869326137067715\n",
            "Recall score:  0.24539877300613497\n",
            "Precision score:  0.7619047619047619\n",
            "Specificity 0.9866381614110101\n",
            "AUC 0.6160184672085726\n",
            "F1 score:  0.3712296983758701\n"
          ]
        }
      ],
      "source": [
        "#import gridsearchcv\n",
        "from sklearn.model_selection import GridSearchCV\n",
        "\n",
        "params = {\"C\":[0.01,0.1,1,10]}\n",
        "\n",
        "grid = GridSearchCV(svm, param_grid=params, cv=5, scoring=\"accuracy\")\n",
        "grid.fit(X_train, y_train)\n",
        "print(\"Best cross-validation score: {:.2f}\".format(grid.best_score_))\n",
        "print(\"Best parameters: \", grid.best_params_)\n",
        "y_pred = grid.predict(X_test)\n",
        "print('Accuracy score: ',accuracy_score(y_test,y_pred))\n",
        "print('R2 score: ',r2_score(y_test,y_pred))\n",
        "print('Recall score: ',recall_score(y_test,y_pred))\n",
        "print('Precision score: ',precision_score(y_test,y_pred))\n",
        "cm = confusion_matrix(y_test,y_pred)\n",
        "print(\"Specificity\",cm[0,0]/(cm[0,0]+cm[0,1]))\n",
        "print(\"AUC\",roc_auc_score(y_test,y_pred))\n",
        "print(\"F1 score: \",f1_score(y_test,y_pred))"
      ]
    },
    {
      "cell_type": "code",
      "execution_count": null,
      "metadata": {
        "id": "vBVtqvEK3Rsx",
        "outputId": "6bf46585-d40f-4ec7-a515-5817c0f149f1"
      },
      "outputs": [
        {
          "name": "stderr",
          "output_type": "stream",
          "text": [
            "<ipython-input-11-5ad5f0769f6a>:3: FutureWarning: Dropping of nuisance columns in DataFrame reductions (with 'numeric_only=None') is deprecated; in a future version this will raise TypeError.  Select only valid columns before calling the reduction.\n",
            "  df=df.fillna(df.mean())\n"
          ]
        },
        {
          "data": {
            "text/html": [
              "<div>\n",
              "<style scoped>\n",
              "    .dataframe tbody tr th:only-of-type {\n",
              "        vertical-align: middle;\n",
              "    }\n",
              "\n",
              "    .dataframe tbody tr th {\n",
              "        vertical-align: top;\n",
              "    }\n",
              "\n",
              "    .dataframe thead th {\n",
              "        text-align: right;\n",
              "    }\n",
              "</style>\n",
              "<table border=\"1\" class=\"dataframe\">\n",
              "  <thead>\n",
              "    <tr style=\"text-align: right;\">\n",
              "      <th></th>\n",
              "      <th>Date</th>\n",
              "      <th>Location</th>\n",
              "      <th>MinTemp</th>\n",
              "      <th>MaxTemp</th>\n",
              "      <th>Rainfall</th>\n",
              "      <th>Evaporation</th>\n",
              "      <th>Sunshine</th>\n",
              "      <th>WindGustDir</th>\n",
              "      <th>WindGustSpeed</th>\n",
              "      <th>WindDir9am</th>\n",
              "      <th>...</th>\n",
              "      <th>Pressure3pm</th>\n",
              "      <th>Cloud9am</th>\n",
              "      <th>Cloud3pm</th>\n",
              "      <th>Temp9am</th>\n",
              "      <th>Temp3pm</th>\n",
              "      <th>RainToday</th>\n",
              "      <th>RainTomorrow</th>\n",
              "      <th>WindGustSpeedCat</th>\n",
              "      <th>Humidity9amCat</th>\n",
              "      <th>Humidity3pmCat</th>\n",
              "    </tr>\n",
              "  </thead>\n",
              "  <tbody>\n",
              "    <tr>\n",
              "      <th>0</th>\n",
              "      <td>2008-12-01</td>\n",
              "      <td>Albury</td>\n",
              "      <td>13.4</td>\n",
              "      <td>22.9</td>\n",
              "      <td>0.6</td>\n",
              "      <td>5.469824</td>\n",
              "      <td>7.624853</td>\n",
              "      <td>W</td>\n",
              "      <td>44.0</td>\n",
              "      <td>W</td>\n",
              "      <td>...</td>\n",
              "      <td>1007.1</td>\n",
              "      <td>8.000000</td>\n",
              "      <td>4.503167</td>\n",
              "      <td>16.9</td>\n",
              "      <td>21.8</td>\n",
              "      <td>No</td>\n",
              "      <td>No</td>\n",
              "      <td>1.40-50</td>\n",
              "      <td>1.&gt;60</td>\n",
              "      <td>0.&lt;=60</td>\n",
              "    </tr>\n",
              "    <tr>\n",
              "      <th>1</th>\n",
              "      <td>2008-12-02</td>\n",
              "      <td>Albury</td>\n",
              "      <td>7.4</td>\n",
              "      <td>25.1</td>\n",
              "      <td>0.0</td>\n",
              "      <td>5.469824</td>\n",
              "      <td>7.624853</td>\n",
              "      <td>WNW</td>\n",
              "      <td>44.0</td>\n",
              "      <td>NNW</td>\n",
              "      <td>...</td>\n",
              "      <td>1007.8</td>\n",
              "      <td>4.437189</td>\n",
              "      <td>4.503167</td>\n",
              "      <td>17.2</td>\n",
              "      <td>24.3</td>\n",
              "      <td>No</td>\n",
              "      <td>No</td>\n",
              "      <td>1.40-50</td>\n",
              "      <td>0.&lt;=60</td>\n",
              "      <td>0.&lt;=60</td>\n",
              "    </tr>\n",
              "    <tr>\n",
              "      <th>2</th>\n",
              "      <td>2008-12-03</td>\n",
              "      <td>Albury</td>\n",
              "      <td>12.9</td>\n",
              "      <td>25.7</td>\n",
              "      <td>0.0</td>\n",
              "      <td>5.469824</td>\n",
              "      <td>7.624853</td>\n",
              "      <td>WSW</td>\n",
              "      <td>46.0</td>\n",
              "      <td>W</td>\n",
              "      <td>...</td>\n",
              "      <td>1008.7</td>\n",
              "      <td>4.437189</td>\n",
              "      <td>2.000000</td>\n",
              "      <td>21.0</td>\n",
              "      <td>23.2</td>\n",
              "      <td>No</td>\n",
              "      <td>No</td>\n",
              "      <td>1.40-50</td>\n",
              "      <td>0.&lt;=60</td>\n",
              "      <td>0.&lt;=60</td>\n",
              "    </tr>\n",
              "    <tr>\n",
              "      <th>3</th>\n",
              "      <td>2008-12-04</td>\n",
              "      <td>Albury</td>\n",
              "      <td>9.2</td>\n",
              "      <td>28.0</td>\n",
              "      <td>0.0</td>\n",
              "      <td>5.469824</td>\n",
              "      <td>7.624853</td>\n",
              "      <td>NE</td>\n",
              "      <td>24.0</td>\n",
              "      <td>SE</td>\n",
              "      <td>...</td>\n",
              "      <td>1012.8</td>\n",
              "      <td>4.437189</td>\n",
              "      <td>4.503167</td>\n",
              "      <td>18.1</td>\n",
              "      <td>26.5</td>\n",
              "      <td>No</td>\n",
              "      <td>No</td>\n",
              "      <td>0.&lt;=40</td>\n",
              "      <td>0.&lt;=60</td>\n",
              "      <td>0.&lt;=60</td>\n",
              "    </tr>\n",
              "    <tr>\n",
              "      <th>4</th>\n",
              "      <td>2008-12-05</td>\n",
              "      <td>Albury</td>\n",
              "      <td>17.5</td>\n",
              "      <td>32.3</td>\n",
              "      <td>1.0</td>\n",
              "      <td>5.469824</td>\n",
              "      <td>7.624853</td>\n",
              "      <td>W</td>\n",
              "      <td>41.0</td>\n",
              "      <td>ENE</td>\n",
              "      <td>...</td>\n",
              "      <td>1006.0</td>\n",
              "      <td>7.000000</td>\n",
              "      <td>8.000000</td>\n",
              "      <td>17.8</td>\n",
              "      <td>29.7</td>\n",
              "      <td>No</td>\n",
              "      <td>No</td>\n",
              "      <td>1.40-50</td>\n",
              "      <td>1.&gt;60</td>\n",
              "      <td>0.&lt;=60</td>\n",
              "    </tr>\n",
              "  </tbody>\n",
              "</table>\n",
              "<p>5 rows × 26 columns</p>\n",
              "</div>"
            ],
            "text/plain": [
              "         Date Location  MinTemp  MaxTemp  Rainfall  Evaporation  Sunshine  \\\n",
              "0  2008-12-01   Albury     13.4     22.9       0.6     5.469824  7.624853   \n",
              "1  2008-12-02   Albury      7.4     25.1       0.0     5.469824  7.624853   \n",
              "2  2008-12-03   Albury     12.9     25.7       0.0     5.469824  7.624853   \n",
              "3  2008-12-04   Albury      9.2     28.0       0.0     5.469824  7.624853   \n",
              "4  2008-12-05   Albury     17.5     32.3       1.0     5.469824  7.624853   \n",
              "\n",
              "  WindGustDir  WindGustSpeed WindDir9am  ... Pressure3pm  Cloud9am  Cloud3pm  \\\n",
              "0           W           44.0          W  ...      1007.1  8.000000  4.503167   \n",
              "1         WNW           44.0        NNW  ...      1007.8  4.437189  4.503167   \n",
              "2         WSW           46.0          W  ...      1008.7  4.437189  2.000000   \n",
              "3          NE           24.0         SE  ...      1012.8  4.437189  4.503167   \n",
              "4           W           41.0        ENE  ...      1006.0  7.000000  8.000000   \n",
              "\n",
              "   Temp9am  Temp3pm  RainToday  RainTomorrow  WindGustSpeedCat  \\\n",
              "0     16.9     21.8         No            No           1.40-50   \n",
              "1     17.2     24.3         No            No           1.40-50   \n",
              "2     21.0     23.2         No            No           1.40-50   \n",
              "3     18.1     26.5         No            No            0.<=40   \n",
              "4     17.8     29.7         No            No           1.40-50   \n",
              "\n",
              "   Humidity9amCat  Humidity3pmCat  \n",
              "0           1.>60          0.<=60  \n",
              "1          0.<=60          0.<=60  \n",
              "2          0.<=60          0.<=60  \n",
              "3          0.<=60          0.<=60  \n",
              "4           1.>60          0.<=60  \n",
              "\n",
              "[5 rows x 26 columns]"
            ]
          },
          "execution_count": 11,
          "metadata": {},
          "output_type": "execute_result"
        }
      ],
      "source": [
        "df=pd.read_csv('data/weatherAUS.csv', encoding='utf-8')\n",
        "df=df[pd.isnull(df['RainTomorrow'])==False]\n",
        "df=df.fillna(df.mean())\n",
        "\n",
        "# Create bands for variables that we want to use in the model\n",
        "df['WindGustSpeedCat']=df['WindGustSpeed'].apply(lambda x: '0.<=40'   if x<=40 else\n",
        "                                                            '1.40-50' if 40<x<=50 else '2.>50')\n",
        "df['Humidity9amCat']=df['Humidity9am'].apply(lambda x: '1.>60' if x>60 else '0.<=60')\n",
        "df['Humidity3pmCat']=df['Humidity3pm'].apply(lambda x: '1.>60' if x>60 else '0.<=60')\n",
        "\n",
        "# Show a snaphsot of data\n",
        "df.head()"
      ]
    },
    {
      "cell_type": "code",
      "execution_count": null,
      "metadata": {
        "id": "Db6tdPKx3Rsy",
        "outputId": "70468f31-9225-4825-ddef-562f8193b711"
      },
      "outputs": [
        {
          "name": "stdout",
          "output_type": "stream",
          "text": [
            "1.>60     0.693417\n",
            "0.<=60    0.306583\n",
            "Name: Humidity9amCat, dtype: float64\n",
            "0.<=60    0.557602\n",
            "1.>60     0.442398\n",
            "Name: Humidity3pmCat, dtype: float64\n",
            "0.<=60    0.92827\n",
            "1.>60     0.07173\n",
            "Name: Humidity3pmCat, dtype: float64\n",
            "1.>60 0.<=60 No     0.864112\n",
            "Yes    0.135888\n",
            "Name: RainTomorrow, dtype: float64\n",
            "1.>60 1.>60 No     0.540326\n",
            "Yes    0.459674\n",
            "Name: RainTomorrow, dtype: float64\n",
            "0.<=60 0.<=60 No     0.92295\n",
            "Yes    0.07705\n",
            "Name: RainTomorrow, dtype: float64\n",
            "0.<=60 1.>60 No     0.604413\n",
            "Yes    0.395587\n",
            "Name: RainTomorrow, dtype: float64\n"
          ]
        }
      ],
      "source": [
        "print(df[\"Humidity9amCat\"].value_counts()/len(df))\n",
        "for i in df[\"Humidity9amCat\"].unique():\n",
        "    print(df[df[\"Humidity9amCat\"]==i][\"Humidity3pmCat\"].value_counts()/len(df[df[\"Humidity9amCat\"]==i]))\n",
        "\n",
        "for i in df[\"Humidity9amCat\"].unique():\n",
        "    for j in df[\"Humidity3pmCat\"].unique():\n",
        "        print(i,j,df[(df[\"Humidity9amCat\"]==i) & (df[\"Humidity3pmCat\"]==j)][\"RainTomorrow\"].value_counts()/len(df[(df[\"Humidity9amCat\"]==i) & (df[\"Humidity3pmCat\"]==j)]))\n"
      ]
    },
    {
      "cell_type": "code",
      "execution_count": null,
      "metadata": {
        "id": "UjOt0gaG3Rsz"
      },
      "outputs": [],
      "source": [
        "# Create nodes by manually typing in probabilities\n",
        "H9am = BbnNode(Variable(0, 'H9am', ['<=60', '>60']), [0.30658, 0.69342])\n",
        "H3pm = BbnNode(Variable(1, 'H3pm', ['<=60', '>60']), [0.92827, 0.07173,\n",
        "                                                    0.55760, 0.44240])\n",
        "W = BbnNode(Variable(2, 'W', ['<=40', '40-50', '>50']), [0.58660, 0.24040, 0.17300])\n",
        "RT = BbnNode(Variable(3, 'RT', ['No', 'Yes']), [0.92314, 0.07686,\n",
        "                                                0.89072, 0.10928,\n",
        "                                                0.76008, 0.23992,\n",
        "                                                0.64250, 0.35750,\n",
        "                                                0.49168, 0.50832,\n",
        "                                                0.32182, 0.67818])"
      ]
    },
    {
      "cell_type": "code",
      "execution_count": null,
      "metadata": {
        "id": "SMoPUFXc3Rs0"
      },
      "outputs": [],
      "source": [
        "def probs(data, child, parent1=None, parent2=None):\n",
        "    if parent1==None:\n",
        "        # Calculate probabilities\n",
        "        prob=pd.crosstab(data[child], 'Empty', margins=False, normalize='columns').sort_index().to_numpy().reshape(-1).tolist()\n",
        "    elif parent1!=None:\n",
        "            # Check if child node has 1 parent or 2 parents\n",
        "            if parent2==None:\n",
        "                # Caclucate probabilities\n",
        "                prob=pd.crosstab(data[parent1],data[child], margins=False, normalize='index').sort_index().to_numpy().reshape(-1).tolist()\n",
        "            else:\n",
        "                # Caclucate probabilities\n",
        "                prob=pd.crosstab([data[parent1],data[parent2]],data[child], margins=False, normalize='index').sort_index().to_numpy().reshape(-1).tolist()\n",
        "    else: print(\"Error in Probability Frequency Calculations\")\n",
        "    return prob"
      ]
    },
    {
      "cell_type": "code",
      "execution_count": null,
      "metadata": {
        "id": "wT19cw7O3Rs1"
      },
      "outputs": [],
      "source": [
        "H9am = BbnNode(Variable(0, 'H9am', ['<=60', '>60']), probs(df, child='Humidity9amCat'))\n",
        "H3pm = BbnNode(Variable(1, 'H3pm', ['<=60', '>60']), probs(df, child='Humidity3pmCat', parent1='Humidity9amCat'))\n",
        "W = BbnNode(Variable(2, 'W', ['<=40', '40-50', '>50']), probs(df, child='WindGustSpeedCat'))\n",
        "RT = BbnNode(Variable(3, 'RT', ['No', 'Yes']), probs(df, child='RainTomorrow', parent1='Humidity3pmCat', parent2='WindGustSpeedCat'))\n",
        "\n",
        "# Create Network\n",
        "bbn = Bbn() \\\n",
        "    .add_node(H9am) \\\n",
        "    .add_node(H3pm) \\\n",
        "    .add_node(W) \\\n",
        "    .add_node(RT) \\\n",
        "    .add_edge(Edge(H9am, H3pm, EdgeType.DIRECTED)) \\\n",
        "    .add_edge(Edge(H3pm, RT, EdgeType.DIRECTED)) \\\n",
        "    .add_edge(Edge(W, RT, EdgeType.DIRECTED))\n",
        "\n",
        "# Convert the BBN to a join tree\n",
        "join_tree = InferenceController.apply(bbn)"
      ]
    },
    {
      "cell_type": "code",
      "execution_count": null,
      "metadata": {
        "id": "0bWkGAts3Rs1",
        "outputId": "dc75eeb1-da19-4419-bf95-2e5ed95ac7f1"
      },
      "outputs": [
        {
          "data": {
            "image/png": "[encoded data removed]",
            "text/plain": [
              "<Figure size 432x288 with 1 Axes>"
            ]
          },
          "metadata": {},
          "output_type": "display_data"
        }
      ],
      "source": [
        "pos = {0: (-1, 2), 1: (-1, 0.5), 2: (1, 0.5), 3: (0, -1)}\n",
        "import networkx as nx # for drawing graphs\n",
        "# Set options for graph looks\n",
        "options = {\n",
        "    \"font_size\": 16,\n",
        "    \"node_size\": 4000,\n",
        "    \"node_color\": \"white\",\n",
        "    \"edgecolors\": \"black\",\n",
        "    \"edge_color\": \"red\",\n",
        "    \"linewidths\": 5,\n",
        "    \"width\": 5,}\n",
        "\n",
        "n, d = bbn.to_nx_graph()\n",
        "nx.draw(n, with_labels=True, labels=d, pos=pos, **options)\n",
        "\n",
        "# Update margins and print the graph\n",
        "ax = plt.gca()\n",
        "ax.margins(0.10)\n",
        "plt.axis(\"off\")\n",
        "plt.show()"
      ]
    },
    {
      "cell_type": "code",
      "execution_count": null,
      "metadata": {
        "id": "-27qKyML3Rs2",
        "outputId": "a2d53a73-bf6b-4239-fc33-64cddd09b35e"
      },
      "outputs": [
        {
          "name": "stdout",
          "output_type": "stream",
          "text": [
            "Node: 1|H3pm|<=60,>60\n",
            "Values:\n",
            "1=<=60|0.67124\n",
            "1=>60|0.32876\n",
            "----------------\n",
            "Node: 0|H9am|<=60,>60\n",
            "Values:\n",
            "0=<=60|0.30658\n",
            "0=>60|0.69342\n",
            "----------------\n",
            "Node: 2|W|<=40,40-50,>50\n",
            "Values:\n",
            "2=<=40|0.58660\n",
            "2=40-50|0.24040\n",
            "2=>50|0.17300\n",
            "----------------\n",
            "Node: 3|RT|No,Yes\n",
            "Values:\n",
            "3=No|0.77655\n",
            "3=Yes|0.22345\n",
            "----------------\n"
          ]
        }
      ],
      "source": [
        "def print_probs():\n",
        "    for node in join_tree.get_bbn_nodes():\n",
        "        potential = join_tree.get_bbn_potential(node)\n",
        "        print(\"Node:\", node)\n",
        "        print(\"Values:\")\n",
        "        print(potential)\n",
        "        print('----------------')\n",
        "\n",
        "# Use the above function to print marginal probabilities\n",
        "print_probs()"
      ]
    },
    {
      "cell_type": "code",
      "execution_count": null,
      "metadata": {
        "id": "iPdvrISd3Rs2",
        "outputId": "c58fc9cf-5392-4597-9353-507511b6f556"
      },
      "outputs": [
        {
          "name": "stdout",
          "output_type": "stream",
          "text": [
            "Node: 1|H3pm|<=60,>60\n",
            "Values:\n",
            "1=<=60|0.55760\n",
            "1=>60|0.44240\n",
            "----------------\n",
            "Node: 0|H9am|<=60,>60\n",
            "Values:\n",
            "0=<=60|0.00000\n",
            "0=>60|1.00000\n",
            "----------------\n",
            "Node: 2|W|<=40,40-50,>50\n",
            "Values:\n",
            "2=<=40|0.58660\n",
            "2=40-50|0.24040\n",
            "2=>50|0.17300\n",
            "----------------\n",
            "Node: 3|RT|No,Yes\n",
            "Values:\n",
            "3=No|0.73833\n",
            "3=Yes|0.26167\n",
            "----------------\n"
          ]
        }
      ],
      "source": [
        "def evidence(ev, nod, cat, val):\n",
        "    ev = EvidenceBuilder() \\\n",
        "    .with_node(join_tree.get_bbn_node_by_name(nod)) \\\n",
        "    .with_evidence(cat, val) \\\n",
        "    .build()\n",
        "    join_tree.set_observation(ev)\n",
        "\n",
        "# Use above function to add evidence\n",
        "evidence('ev1', 'H9am', '>60', 1.0)\n",
        "\n",
        "# Print marginal probabilities\n",
        "print_probs()"
      ]
    },
    {
      "cell_type": "code",
      "execution_count": null,
      "metadata": {
        "id": "EOJ3DAxi3Rs3",
        "outputId": "b6adeb29-ec3d-42a4-d0f5-e1f3a923b925"
      },
      "outputs": [
        {
          "name": "stdout",
          "output_type": "stream",
          "text": [
            "Node: 1|H3pm|<=60,>60\n",
            "Values:\n",
            "1=<=60|0.00000\n",
            "1=>60|1.00000\n",
            "----------------\n",
            "Node: 0|H9am|<=60,>60\n",
            "Values:\n",
            "0=<=60|0.00000\n",
            "0=>60|1.00000\n",
            "----------------\n",
            "Node: 2|W|<=40,40-50,>50\n",
            "Values:\n",
            "2=<=40|0.00000\n",
            "2=40-50|0.00000\n",
            "2=>50|1.00000\n",
            "----------------\n",
            "Node: 3|RT|No,Yes\n",
            "Values:\n",
            "3=No|0.32182\n",
            "3=Yes|0.67818\n",
            "----------------\n"
          ]
        }
      ],
      "source": [
        "evidence('ev1', 'H3pm', '>60', 1.0)\n",
        "evidence('ev2', 'W', '>50', 1.0)\n",
        "# Print marginal probabilities\n",
        "print_probs()"
      ]
    },
    {
      "cell_type": "code",
      "execution_count": null,
      "metadata": {
        "id": "axJ-k-YA3Rs3"
      },
      "outputs": [],
      "source": [
        "df_test = df[['Humidity9amCat', 'Humidity3pmCat', 'WindGustSpeedCat','RainTomorrow']].sample(1000, random_state=42)\n",
        "x_test = df_test[['Humidity9amCat', 'Humidity3pmCat', 'WindGustSpeedCat']]\n",
        "y_test = df_test['RainTomorrow']"
      ]
    },
    {
      "cell_type": "code",
      "execution_count": null,
      "metadata": {
        "id": "2eg3qDyb3Rs4"
      },
      "outputs": [],
      "source": [
        "#create a function that takes x_test and returns predicted values of RT node (RainTomorrow), if probability of Yes is greater than 0.5, then predict Yes, otherwise predict No\n",
        "\n",
        "def predict(x_test):\n",
        "    y_pred=[]\n",
        "    for i in range(len(x_test)):\n",
        "        evidence('ev1', 'H9am', x_test['Humidity9amCat'].iloc[i][2:], 1.0)\n",
        "        evidence('ev2', 'H3pm', x_test['Humidity3pmCat'].iloc[i][2:], 1.0)\n",
        "        evidence('ev3', 'W', x_test['WindGustSpeedCat'].iloc[i][2:], 1.0)\n",
        "        potential = join_tree.get_bbn_potential(join_tree.get_bbn_node_by_name('RT'))\n",
        "        potstring = str(potential)\n",
        "        potstring = potstring.split('\\n')\n",
        "        no = float(potstring[0].split('|')[-1])\n",
        "        yes = float(potstring[1].split('|')[-1])\n",
        "        if yes>no:\n",
        "            y_pred.append(1)\n",
        "        else:\n",
        "            y_pred.append(0)\n",
        "    return y_pred\n",
        "\n",
        "# Use the above function to predict values for x_test\n",
        "y_pred=predict(x_test)\n"
      ]
    },
    {
      "cell_type": "code",
      "execution_count": null,
      "metadata": {
        "id": "mi1YTQ_r3Rs4",
        "outputId": "1a30a024-0cf8-4976-de13-abbd54ba0227"
      },
      "outputs": [
        {
          "data": {
            "image/png": "[encoded data removed]",
            "text/plain": [
              "<Figure size 720x720 with 2 Axes>"
            ]
          },
          "metadata": {
            "needs_background": "light"
          },
          "output_type": "display_data"
        }
      ],
      "source": [
        "# Print the confusion matrix\n",
        "y_test = y_test.replace({'No': 0, 'Yes': 1})\n",
        "plot_confusion_matrix(y_pred,y_test)"
      ]
    },
    {
      "cell_type": "markdown",
      "metadata": {
        "id": "Zm7bRht-3Rs5"
      },
      "source": [
        "Accuracy matrix of 1000 samples"
      ]
    },
    {
      "cell_type": "code",
      "execution_count": null,
      "metadata": {
        "id": "fkOHXTMa3Rs7"
      },
      "outputs": [],
      "source": []
    }
  ],
  "metadata": {
    "kernelspec": {
      "display_name": "Python 3",
      "language": "python",
      "name": "python3"
    },
    "language_info": {
      "codemirror_mode": {
        "name": "ipython",
        "version": 3
      },
      "file_extension": ".py",
      "mimetype": "text/x-python",
      "name": "python",
      "nbconvert_exporter": "python",
      "pygments_lexer": "ipython3",
      "version": "3.9.7"
    },
    "orig_nbformat": 4,
    "vscode": {
      "interpreter": {
        "hash": "865d8b2eb28e274047ba64063dfb6a2aabf0dfec4905d304d7a76618dae6fdd4"
      }
    },
    "colab": {
      "provenance": []
    }
  },
  "nbformat": 4,
  "nbformat_minor": 0
}